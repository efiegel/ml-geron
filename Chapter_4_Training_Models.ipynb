{
 "cells": [
  {
   "cell_type": "markdown",
   "metadata": {},
   "source": [
    "# Linear Regression\n",
    "## The Normal Equation"
   ]
  },
  {
   "cell_type": "code",
   "execution_count": 1,
   "metadata": {},
   "outputs": [
    {
     "data": {
      "text/plain": [
       "(0.0, 2.0, 0.0, 15.0)"
      ]
     },
     "execution_count": 1,
     "metadata": {},
     "output_type": "execute_result"
    },
    {
     "data": {
      "image/png": "[encoded data removed]",
      "text/plain": [
       "<Figure size 432x288 with 1 Axes>"
      ]
     },
     "metadata": {
      "needs_background": "light"
     },
     "output_type": "display_data"
    }
   ],
   "source": [
    "import numpy as np\n",
    "import matplotlib as mpl\n",
    "import matplotlib.pyplot as plt\n",
    "\n",
    "X = 2 * np.random.rand(100,1)\n",
    "y = 4 + 3 * X + np.random.randn(100,1)\n",
    "\n",
    "plt.plot(X, y, 'b.')\n",
    "plt.axis([0, 2, 0, 15])"
   ]
  },
  {
   "cell_type": "markdown",
   "metadata": {},
   "source": [
    "compute theta_hat = (X^T * X)^-1 * X^T * y closed form solution"
   ]
  },
  {
   "cell_type": "code",
   "execution_count": 2,
   "metadata": {},
   "outputs": [
    {
     "data": {
      "text/plain": [
       "array([[4.07291692],\n",
       "       [2.91214679]])"
      ]
     },
     "execution_count": 2,
     "metadata": {},
     "output_type": "execute_result"
    }
   ],
   "source": [
    "X_b = np.c_[np.ones((100,1)), X] # add x0 = 1 to each instance\n",
    "theta_best = np.linalg.inv(X_b.T.dot(X_b)).dot(X_b.T).dot(y)\n",
    "theta_best"
   ]
  },
  {
   "cell_type": "code",
   "execution_count": 3,
   "metadata": {},
   "outputs": [
    {
     "data": {
      "text/plain": [
       "array([[4.07291692],\n",
       "       [9.89721051]])"
      ]
     },
     "execution_count": 3,
     "metadata": {},
     "output_type": "execute_result"
    }
   ],
   "source": [
    "X_new = np.array([[0], [2]])\n",
    "X_new_b = np.c_[np.ones((2, 1)), X_new] # add x0 = 1 to each instance\n",
    "y_predict = X_new_b.dot(theta_best)\n",
    "y_predict"
   ]
  },
  {
   "cell_type": "code",
   "execution_count": 4,
   "metadata": {},
   "outputs": [
    {
     "data": {
      "image/png": "[encoded data removed]",
      "text/plain": [
       "<Figure size 432x288 with 1 Axes>"
      ]
     },
     "metadata": {
      "needs_background": "light"
     },
     "output_type": "display_data"
    }
   ],
   "source": [
    "plt.plot(X_new, y_predict, \"r-\")\n",
    "plt.plot(X, y, \"b.\")\n",
    "plt.axis([0, 2, 0, 15])\n",
    "plt.show()"
   ]
  },
  {
   "cell_type": "code",
   "execution_count": 5,
   "metadata": {},
   "outputs": [
    {
     "data": {
      "text/plain": [
       "(array([4.07291692]), array([[2.91214679]]))"
      ]
     },
     "execution_count": 5,
     "metadata": {},
     "output_type": "execute_result"
    }
   ],
   "source": [
    "# Using scikit-learn\n",
    "from sklearn.linear_model import LinearRegression\n",
    "lin_reg = LinearRegression()\n",
    "lin_reg.fit(X,y)\n",
    "lin_reg.intercept_, lin_reg.coef_"
   ]
  },
  {
   "cell_type": "code",
   "execution_count": 6,
   "metadata": {},
   "outputs": [
    {
     "data": {
      "text/plain": [
       "array([[4.07291692],\n",
       "       [9.89721051]])"
      ]
     },
     "execution_count": 6,
     "metadata": {},
     "output_type": "execute_result"
    }
   ],
   "source": [
    "lin_reg.predict(X_new)"
   ]
  },
  {
   "cell_type": "code",
   "execution_count": 7,
   "metadata": {},
   "outputs": [
    {
     "data": {
      "text/plain": [
       "array([[4.07291692],\n",
       "       [2.91214679]])"
      ]
     },
     "execution_count": 7,
     "metadata": {},
     "output_type": "execute_result"
    }
   ],
   "source": [
    "# LinearRegression class is based on scipy.linalg.lstsq() function\n",
    "theta_best_svd, residuals, rank, s = np.linalg.lstsq(X_b, y, rcond=1e-6)\n",
    "theta_best_svd"
   ]
  },
  {
   "cell_type": "code",
   "execution_count": 8,
   "metadata": {},
   "outputs": [
    {
     "data": {
      "text/plain": [
       "array([[4.07291692],\n",
       "       [2.91214679]])"
      ]
     },
     "execution_count": 8,
     "metadata": {},
     "output_type": "execute_result"
    }
   ],
   "source": [
    "# function above computes pseudoincerse of X (specifically the Moore-Penrose inverse)\n",
    "# calculation of pseudoinverse is more efficient that solving the normal equation and it handles edge cases better\n",
    "# (such as when X^T * X is not invertible) - the psuedoinverse is always defined\n",
    "np.linalg.pinv(X_b).dot(y)"
   ]
  },
  {
   "cell_type": "markdown",
   "metadata": {},
   "source": [
    "# Gradient Descent\n",
    "## Batch Gradient Descent"
   ]
  },
  {
   "cell_type": "code",
   "execution_count": 9,
   "metadata": {},
   "outputs": [
    {
     "data": {
      "text/plain": [
       "array([[4.07291692],\n",
       "       [2.91214679]])"
      ]
     },
     "execution_count": 9,
     "metadata": {},
     "output_type": "execute_result"
    }
   ],
   "source": [
    "# implementation of eq 4-7 \"Gradient Descent step\"\n",
    "eta = 0.1 # learning rate\n",
    "n_iterations = 1000\n",
    "m = 100\n",
    "\n",
    "theta = np.random.randn(2,1) # random initialization\n",
    "\n",
    "for iteration in range(n_iterations):\n",
    "    gradients = 2/m * X_b.T.dot(X_b.dot(theta) - y)\n",
    "    theta = theta - eta * gradients\n",
    "theta"
   ]
  },
  {
   "cell_type": "markdown",
   "metadata": {},
   "source": [
    "^ got it perfect!"
   ]
  },
  {
   "cell_type": "markdown",
   "metadata": {},
   "source": [
    "## Stochastic Gradient Descent"
   ]
  },
  {
   "cell_type": "code",
   "execution_count": 10,
   "metadata": {},
   "outputs": [
    {
     "data": {
      "text/plain": [
       "array([[4.08163057],\n",
       "       [2.88345461]])"
      ]
     },
     "execution_count": 10,
     "metadata": {},
     "output_type": "execute_result"
    }
   ],
   "source": [
    "# implements Stochastic Gradient Descent using a simple learning schedule\n",
    "# reduce learning rate over time; similar to simulated annealing; jump out of local minima early and then converge\n",
    "\n",
    "n_epochs = 50\n",
    "t0, t1 = 5, 50 # learning schedule hyperparameters\n",
    "\n",
    "def learning_schedule(t):\n",
    "    return t0 / (t + t1)\n",
    "\n",
    "theta = np.random.randn(2,1) # random initialization\n",
    "\n",
    "for epoch in range(n_epochs):\n",
    "    for i in range(m):\n",
    "        random_index = np.random.randint(m)\n",
    "        xi = X_b[random_index:random_index+1]\n",
    "        yi = y[random_index:random_index+1]\n",
    "        gradients = 2 * xi.T.dot(xi.dot(theta) - yi)\n",
    "        eta = learning_schedule(epoch * m + i)\n",
    "        theta = theta - eta * gradients\n",
    "        \n",
    "theta"
   ]
  },
  {
   "cell_type": "code",
   "execution_count": 11,
   "metadata": {},
   "outputs": [
    {
     "data": {
      "text/plain": [
       "(array([4.06185856]), array([2.97860687]))"
      ]
     },
     "execution_count": 11,
     "metadata": {},
     "output_type": "execute_result"
    }
   ],
   "source": [
    "# sklearn Stochastic GD linear regression\n",
    "from sklearn.linear_model import SGDRegressor\n",
    "sgd_reg = SGDRegressor(max_iter=1000, tol=1e-3, penalty=None, eta0=0.1)\n",
    "sgd_reg.fit(X, y.ravel())\n",
    "\n",
    "sgd_reg.intercept_, sgd_reg.coef_"
   ]
  },
  {
   "cell_type": "markdown",
   "metadata": {},
   "source": [
    "# Polynomial Regression"
   ]
  },
  {
   "cell_type": "code",
   "execution_count": 12,
   "metadata": {},
   "outputs": [],
   "source": [
    "m = 100\n",
    "X = 6 * np.random.rand(m, 1) - 3\n",
    "y = 0.5 * X**2 + X + 2 + np.random.randn(m, 1)"
   ]
  },
  {
   "cell_type": "code",
   "execution_count": 13,
   "metadata": {},
   "outputs": [
    {
     "data": {
      "text/plain": [
       "array([-0.04152756])"
      ]
     },
     "execution_count": 13,
     "metadata": {},
     "output_type": "execute_result"
    }
   ],
   "source": [
    "from sklearn.preprocessing import PolynomialFeatures\n",
    "poly_features = PolynomialFeatures(degree=2, include_bias=False)\n",
    "X_poly = poly_features.fit_transform(X)\n",
    "X[0]"
   ]
  },
  {
   "cell_type": "code",
   "execution_count": 14,
   "metadata": {},
   "outputs": [
    {
     "data": {
      "text/plain": [
       "array([-0.04152756,  0.00172454])"
      ]
     },
     "execution_count": 14,
     "metadata": {},
     "output_type": "execute_result"
    }
   ],
   "source": [
    "X_poly[0]"
   ]
  },
  {
   "cell_type": "code",
   "execution_count": 15,
   "metadata": {},
   "outputs": [
    {
     "data": {
      "text/plain": [
       "(array([2.25241122]), array([[1.05408129, 0.46740846]]))"
      ]
     },
     "execution_count": 15,
     "metadata": {},
     "output_type": "execute_result"
    }
   ],
   "source": [
    "lin_reg = LinearRegression()\n",
    "lin_reg.fit(X_poly, y)\n",
    "lin_reg.intercept_, lin_reg.coef_"
   ]
  },
  {
   "cell_type": "markdown",
   "metadata": {},
   "source": [
    "^ not bad! The model estimates y = 0.49x^2 + 0.99x + 2.02 from the original function is y = 0.5x^2 + x + 2 + noise"
   ]
  },
  {
   "cell_type": "markdown",
   "metadata": {},
   "source": [
    "# Learning Curves"
   ]
  },
  {
   "cell_type": "code",
   "execution_count": 16,
   "metadata": {},
   "outputs": [],
   "source": [
    "from sklearn.metrics import mean_squared_error\n",
    "from sklearn.model_selection import train_test_split\n",
    "\n",
    "def plot_learning_curves(model, X, y):\n",
    "    X_train, X_val, y_train, y_val = train_test_split(X, y, test_size=0.2)\n",
    "    train_errors, val_errors = [], []\n",
    "    for m in range(1, len(X_train)):\n",
    "        model.fit(X_train[:m], y_train[:m])\n",
    "        y_train_predict = model.predict(X_train[:m])\n",
    "        y_val_predict = model.predict(X_val)\n",
    "        train_errors.append(mean_squared_error(y_train[:m], y_train_predict))\n",
    "        val_errors.append(mean_squared_error(y_val, y_val_predict))\n",
    "    plt.plot(np.sqrt(train_errors), \"r-+\", linewidth=2, label=\"train\")\n",
    "    plt.plot(np.sqrt(val_errors), \"b-\", linewidth=3, label=\"val\")\n",
    "    plt.legend(loc=\"upper right\")"
   ]
  },
  {
   "cell_type": "markdown",
   "metadata": {},
   "source": [
    "first look at the learning curve for fitting our quadratic data with a linear model (and linear features)."
   ]
  },
  {
   "cell_type": "code",
   "execution_count": 17,
   "metadata": {
    "scrolled": true
   },
   "outputs": [
    {
     "data": {
      "image/png": "[encoded data removed]",
      "text/plain": [
       "<Figure size 432x288 with 1 Axes>"
      ]
     },
     "metadata": {
      "needs_background": "light"
     },
     "output_type": "display_data"
    }
   ],
   "source": [
    "lin_reg = LinearRegression()\n",
    "plot_learning_curves(lin_reg, X, y)"
   ]
  },
  {
   "cell_type": "markdown",
   "metadata": {},
   "source": [
    "notice above that the red line (training error) starts with 0 RMSE for the first few instances! The model can fit just a couple points perfectly, but then it isn't able to do so anymore once more points are added. similarly, notice that the blue line (validation set RMSE) starts high and then decreases! Complementary behavior to the training set.\n",
    "\n",
    "this learning curve is also indicative of an underfit model: both curves have reached a plateau, they are close, and the error is fairly high."
   ]
  },
  {
   "cell_type": "markdown",
   "metadata": {},
   "source": [
    "now look at learning curves of a 10th degree polynomial on the same data"
   ]
  },
  {
   "cell_type": "code",
   "execution_count": 18,
   "metadata": {},
   "outputs": [
    {
     "data": {
      "text/plain": [
       "(0.0, 3.0)"
      ]
     },
     "execution_count": 18,
     "metadata": {},
     "output_type": "execute_result"
    },
    {
     "data": {
      "image/png": "[encoded data removed]",
      "text/plain": [
       "<Figure size 432x288 with 1 Axes>"
      ]
     },
     "metadata": {
      "needs_background": "light"
     },
     "output_type": "display_data"
    }
   ],
   "source": [
    "from sklearn.pipeline import Pipeline\n",
    "\n",
    "polynomial_regression = Pipeline([\n",
    "    (\"poly_features\", PolynomialFeatures(degree=10, include_bias=False)),\n",
    "    (\"lin_reg\", LinearRegression())\n",
    "])\n",
    "\n",
    "plot_learning_curves(polynomial_regression, X, y)\n",
    "plt.ylim(top=3, bottom=0)"
   ]
  },
  {
   "cell_type": "markdown",
   "metadata": {},
   "source": [
    "notice in the above plot that there's 0 training error until the 10th point! this is because its a 10th order polynomial. also notice that the model does better with the higher order polynomial! it overfits with less training points (curves further apart), but improves (curves get closer) with added training points."
   ]
  },
  {
   "cell_type": "markdown",
   "metadata": {},
   "source": [
    "# Regularized Linear Models\n",
    "Reduce overfitting by regularizing (constraining the model). the fewer degress of freedom it has, the harder it will be to overfit! For linear models, regularization is typically achieved by constraining weights.\n",
    "\n",
    "## Ridge Regression\n",
    "Regularization term added to cost function; forces learning algorithm to keep model weights small. if $\\alpha=0$, Ridge Regression is just linear regression. if $\\alpha$ is very large, then all weights end up close to zero and the result is a flat line going through the data's mean. \n",
    "\n",
    "Can solve closed-form solution or use GD."
   ]
  },
  {
   "cell_type": "code",
   "execution_count": 19,
   "metadata": {},
   "outputs": [
    {
     "data": {
      "text/plain": [
       "array([[5.10425821]])"
      ]
     },
     "execution_count": 19,
     "metadata": {},
     "output_type": "execute_result"
    }
   ],
   "source": [
    "# closed form\n",
    "from sklearn.linear_model import Ridge\n",
    "ridge_reg = Ridge(alpha=1, solver=\"cholesky\")\n",
    "ridge_reg.fit(X, y)\n",
    "ridge_reg.predict([[1.5]])"
   ]
  },
  {
   "cell_type": "code",
   "execution_count": 20,
   "metadata": {},
   "outputs": [
    {
     "data": {
      "text/plain": [
       "array([5.07823034])"
      ]
     },
     "execution_count": 20,
     "metadata": {},
     "output_type": "execute_result"
    }
   ],
   "source": [
    "# GD\n",
    "sgd_reg = SGDRegressor(penalty=\"l2\") # penalty sets the type of regression to use. specifying l2 norm is ridge\n",
    "sgd_reg.fit(X, y.ravel())\n",
    "sgd_reg.predict([[1.5]])"
   ]
  },
  {
   "cell_type": "markdown",
   "metadata": {},
   "source": [
    "## Lasso Regression\n",
    "\"Least Absolute Shrinkage and Selection Operator Regression.\" Similar to Ridge Regression, except that it uses the $l_1$ norm of the weight vector instead of half of the square of the $l_2$ norm."
   ]
  },
  {
   "cell_type": "code",
   "execution_count": 21,
   "metadata": {},
   "outputs": [
    {
     "data": {
      "text/plain": [
       "array([5.05530118])"
      ]
     },
     "execution_count": 21,
     "metadata": {},
     "output_type": "execute_result"
    }
   ],
   "source": [
    "from sklearn.linear_model import Lasso\n",
    "lasso_reg = Lasso(alpha=0.1)\n",
    "lasso_reg.fit(X, y)\n",
    "lasso_reg.predict([[1.5]])"
   ]
  },
  {
   "cell_type": "code",
   "execution_count": 22,
   "metadata": {},
   "outputs": [
    {
     "data": {
      "text/plain": [
       "array([5.09141595])"
      ]
     },
     "execution_count": 22,
     "metadata": {},
     "output_type": "execute_result"
    }
   ],
   "source": [
    "# alternative method\n",
    "sgd_reg = SGDRegressor(penalty=\"l1\")\n",
    "sgd_reg.fit(X, y.ravel())\n",
    "sgd_reg.predict([[1.5]])"
   ]
  },
  {
   "cell_type": "markdown",
   "metadata": {},
   "source": [
    "note that the above two methods are technically the same but get different results! First method gets the same exact number every time, but the \"alternative\" differs a bit in the decimal value (even in 2nd digit)."
   ]
  },
  {
   "cell_type": "markdown",
   "metadata": {},
   "source": [
    "## Elastic Net\n",
    "A simple mix between Ridge and Lasso"
   ]
  },
  {
   "cell_type": "code",
   "execution_count": 23,
   "metadata": {},
   "outputs": [
    {
     "data": {
      "text/plain": [
       "array([5.05492753])"
      ]
     },
     "execution_count": 23,
     "metadata": {},
     "output_type": "execute_result"
    }
   ],
   "source": [
    "from sklearn.linear_model import ElasticNet\n",
    "elastic_net = ElasticNet(alpha=0.1, l1_ratio=0.5)\n",
    "elastic_net.fit(X, y)\n",
    "elastic_net.predict([[1.5]])"
   ]
  },
  {
   "cell_type": "markdown",
   "metadata": {},
   "source": [
    "## Early Stopping"
   ]
  },
  {
   "cell_type": "code",
   "execution_count": 24,
   "metadata": {
    "scrolled": true
   },
   "outputs": [
    {
     "name": "stdout",
     "output_type": "stream",
     "text": [
      "19.024110856561062\n",
      "17.21780566691837\n",
      "15.51552634064861\n",
      "13.83341845910058\n",
      "12.582386922556699\n",
      "11.307485109383432\n",
      "10.230494172556694\n",
      "9.32760584867856\n",
      "8.514140123117707\n",
      "7.571624261874265\n",
      "7.147305957682417\n",
      "6.48580782756858\n",
      "6.447908682806582\n",
      "5.445084323747181\n",
      "5.827536289410597\n",
      "4.714382422142389\n",
      "5.616974849463779\n",
      "5.305159393901751\n",
      "5.8438182731504416\n",
      "5.141937945951159\n",
      "7.167744633160929\n",
      "6.6420911063250525\n",
      "7.761247910479677\n",
      "14.755195116179985\n",
      "13.004863176257382\n",
      "13.54638609385882\n",
      "25.316371532107134\n",
      "46.65264001508621\n",
      "33.436079491993304\n",
      "78.69215962470818\n",
      "115.66712758342462\n",
      "96.65169328375806\n",
      "202.84477165144855\n",
      "221.02871534105333\n",
      "665.3309473714319\n",
      "353.8239122994149\n",
      "1786.8228174680164\n",
      "729.3983173764801\n",
      "2758.7321257860135\n",
      "1857.1916591152149\n",
      "8232.793418849196\n",
      "3449.6851831301856\n",
      "12674.725651373543\n",
      "14817.113404140508\n",
      "15254.134376902806\n",
      "45942.915443146725\n",
      "25531.10091442455\n",
      "76816.81228182596\n",
      "60256.1984693753\n",
      "134986.17995917914\n",
      "234038.55778521052\n",
      "303580.6527613902\n",
      "277675.92896535445\n",
      "948833.6900285592\n",
      "467304.8956792323\n",
      "2643635.1354585816\n",
      "1410305.7921556833\n",
      "4441701.138363956\n",
      "2282233.5926503027\n",
      "11878575.439603606\n",
      "5108424.436927717\n",
      "29476193.94850401\n",
      "15331113.522255177\n",
      "46152547.136671506\n",
      "39070409.28113142\n",
      "51845489.97775466\n",
      "75623489.20066482\n",
      "103392554.6459241\n",
      "271001442.2294626\n",
      "156411999.18914765\n",
      "776587031.7022787\n",
      "434107113.146519\n",
      "1271418599.468327\n",
      "707980029.5157461\n",
      "2244465679.17875\n",
      "1726100479.8231041\n",
      "4295638278.636059\n",
      "3757144803.4138527\n",
      "7673645101.040215\n",
      "8544174481.348582\n",
      "14861225655.429394\n",
      "32023744031.696552\n",
      "22394630948.72442\n",
      "52932354219.54582\n",
      "85023702346.9994\n",
      "116255852960.34665\n",
      "172547161360.17194\n",
      "143594923807.1899\n",
      "522106568414.2572\n",
      "259762229723.01093\n",
      "866237526898.4734\n",
      "1006953323504.8308\n",
      "1037919539252.8049\n",
      "1974696915414.8699\n",
      "2183361381731.6484\n",
      "6524095005357.831\n",
      "3527491620423.3936\n",
      "10722285880471.418\n",
      "15092324220237.443\n",
      "13078031701680.676\n",
      "47569151748340.95\n",
      "22236478939275.66\n",
      "72884837519654.23\n",
      "61668276426795.31\n",
      "125586812374022.66\n",
      "139336280525965.3\n",
      "420098298929400.5\n",
      "218253966474014.44\n",
      "738177150090572.8\n",
      "849143586801324.8\n",
      "891208631728145.9\n",
      "2828508408422797.0\n",
      "1588656580297086.2\n",
      "4173542431863756.0\n",
      "4013210102942913.0\n",
      "1.3029630873765148e+16\n",
      "6747620437511425.0\n",
      "3.589542770050547e+16\n",
      "1.316774611866828e+16\n",
      "5.379269188067452e+16\n",
      "3.458719676828215e+16\n",
      "8.855291518721749e+16\n",
      "8.863499601411784e+16\n",
      "1.7527353402561382e+17\n",
      "1.9079873370113542e+17\n",
      "3.210265170797853e+17\n",
      "4.141337499975134e+17\n",
      "1.1197543894725189e+18\n",
      "6.219572097870495e+17\n",
      "3.139755771727673e+18\n",
      "1.8723620813940314e+18\n",
      "3.198941868827738e+18\n",
      "3.834310059559282e+18\n",
      "6.418011612360452e+18\n",
      "1.4389221959935674e+19\n",
      "9.146066843238323e+18\n",
      "2.45791626589272e+19\n",
      "2.082126783018806e+19\n",
      "7.835694811098133e+19\n",
      "3.6657193980966777e+19\n",
      "1.2593830608519658e+20\n",
      "9.275961812452957e+19\n",
      "2.233989707159608e+20\n",
      "3.539799550921819e+20\n",
      "4.983620781688207e+20\n",
      "4.087279223774808e+20\n",
      "5.6601898710263136e+20\n",
      "7.633214088780537e+20\n",
      "8.680243310117354e+20\n",
      "8.305971648687844e+20\n",
      "7.860189244406919e+20\n",
      "2.8936994352044897e+20\n",
      "6.783843439441534e+20\n",
      "1.0247121883142603e+21\n",
      "2.9311697692228207e+20\n",
      "6.063660238425715e+20\n",
      "1.0140996406836434e+21\n",
      "2.1729346401082507e+20\n",
      "6.41988277487339e+20\n",
      "8.886757082824273e+20\n",
      "2.6865715970822173e+20\n",
      "5.580048414908815e+20\n",
      "4.1460739315369024e+20\n",
      "5.4248992218490615e+20\n",
      "9.24245760413656e+20\n",
      "8.167210451530125e+20\n",
      "7.857805722074499e+20\n",
      "3.133304964506862e+20\n",
      "1.1710301912330607e+21\n",
      "7.011146372480626e+20\n",
      "9.490895720356197e+20\n",
      "2.746360331719539e+20\n",
      "8.758574332589615e+20\n",
      "2.702294693607496e+20\n",
      "1.5555767882690947e+21\n",
      "1.740076669884391e+20\n",
      "1.7113105466213146e+21\n",
      "1.8725558622054374e+20\n",
      "1.218026042559667e+21\n",
      "4.4659116611732446e+20\n",
      "1.2564958592194765e+21\n",
      "5.802281239859768e+20\n",
      "4.2815635816104985e+20\n",
      "3.588368540251491e+20\n",
      "6.567160615431206e+20\n",
      "4.1867496156361975e+20\n",
      "1.268180559731709e+21\n",
      "6.431801600662399e+20\n",
      "3.58244542891795e+20\n",
      "5.376801319629505e+20\n",
      "1.0028996505968885e+21\n",
      "7.569912738333717e+20\n",
      "2.840123128489092e+20\n",
      "9.390733977366241e+20\n",
      "7.661952385760102e+20\n",
      "8.321998419531416e+20\n",
      "2.8448375996817552e+20\n",
      "7.27772020701897e+20\n",
      "3.353324265879505e+20\n",
      "1.6048194869575407e+21\n",
      "4.359902382330475e+20\n",
      "1.3802902515758219e+21\n",
      "5.2739398538395406e+20\n",
      "4.442993057100235e+20\n",
      "4.5190689439196833e+20\n",
      "1.3592415040989965e+21\n",
      "1.5136231886458408e+20\n",
      "1.3251766719311656e+21\n",
      "1.9599406970071767e+20\n",
      "1.990988103483452e+21\n",
      "3.189446426331323e+20\n",
      "1.6218841824995e+21\n",
      "1.7129561230092088e+20\n",
      "2.0774248534693768e+21\n",
      "3.1205721081286617e+20\n",
      "8.124995305531737e+20\n",
      "2.9040520213275312e+20\n",
      "7.627582338162519e+20\n",
      "5.3413370978462034e+20\n",
      "1.0596040683481986e+21\n",
      "2.3225882791120083e+20\n",
      "8.149375568752835e+20\n",
      "3.409982734356502e+20\n",
      "6.97167106605078e+20\n",
      "9.072493645579648e+20\n",
      "8.720272907268999e+20\n",
      "8.28700417143873e+20\n",
      "2.7137791694107093e+20\n",
      "5.583942461093734e+20\n",
      "4.423021250837121e+20\n",
      "1.188334450748948e+21\n",
      "6.486147982100714e+20\n",
      "1.0782165497636756e+21\n",
      "2.0607772386591156e+20\n",
      "7.261018428908161e+20\n",
      "3.304354597992163e+20\n",
      "6.636480242175267e+20\n",
      "3.4474888026646485e+20\n",
      "6.2772296913115e+20\n",
      "8.691014290668358e+20\n",
      "8.594555748840428e+20\n",
      "7.863678419898499e+20\n",
      "9.420080063028677e+20\n",
      "2.2457336086272826e+20\n",
      "1.1940774872737275e+21\n",
      "2.249917549314449e+20\n",
      "1.853946050386151e+21\n",
      "1.5603697669541334e+20\n",
      "1.1219399106772473e+21\n",
      "4.7631644063453236e+20\n",
      "1.2010535453821425e+21\n",
      "1.9891072372139275e+20\n",
      "1.0451768581977549e+21\n",
      "7.553196329789295e+20\n",
      "3.514126615848743e+20\n",
      "3.908611142268065e+20\n",
      "6.384996038958935e+20\n",
      "3.4699655269286006e+20\n",
      "6.52020075286826e+20\n",
      "1.1132882532864039e+21\n",
      "2.5940792205216045e+20\n",
      "1.1723721522229131e+21\n",
      "6.109365792348432e+20\n",
      "3.977625861219645e+20\n",
      "5.47908515238002e+20\n",
      "8.263905927866357e+20\n",
      "7.336173186787487e+20\n",
      "9.800844654822801e+20\n",
      "2.61115711360603e+20\n",
      "6.42832101005516e+20\n",
      "9.81939206207026e+20\n",
      "2.1383693144944817e+20\n",
      "5.7876687268929955e+20\n",
      "8.68546625424427e+20\n",
      "2.5220235518361564e+20\n",
      "1.0925707143781393e+21\n",
      "2.6601506046479217e+20\n",
      "8.031210086052372e+20\n",
      "6.261628645238188e+20\n",
      "1.1161015512721436e+21\n",
      "6.635597146054897e+20\n",
      "1.0540925029569574e+21\n",
      "7.005441369670928e+20\n",
      "9.606860493109474e+20\n",
      "8.310093387927074e+20\n",
      "3.170559005526908e+20\n",
      "5.0345601277424986e+20\n",
      "1.1056630720784733e+21\n",
      "2.004557049524011e+20\n",
      "6.882030141474469e+20\n",
      "8.113972861686545e+20\n",
      "9.477368080791352e+20\n",
      "2.686582553694138e+20\n",
      "1.2210202535501072e+21\n",
      "2.6635966883621352e+20\n",
      "9.198849078650861e+20\n",
      "7.72262510934695e+20\n",
      "3.4391136027120324e+20\n",
      "4.6314553141825064e+20\n",
      "5.813637488241062e+20\n",
      "1.099479989980182e+21\n",
      "2.2094774258843376e+20\n",
      "1.0637621133093701e+21\n",
      "3.140456488321795e+20\n",
      "1.7903743764736036e+21\n",
      "2.0748626759599496e+20\n",
      "1.1281569807982188e+21\n",
      "3.252675187128618e+20\n",
      "1.9380730864554685e+21\n",
      "4.2611713715626764e+20\n",
      "6.280682044650237e+20\n",
      "3.424581326156169e+20\n",
      "1.6372696194957498e+21\n",
      "4.5399308236331064e+20\n",
      "5.510320770516749e+20\n",
      "7.781797235213512e+20\n",
      "3.195641192635616e+20\n",
      "1.1941855678831033e+21\n",
      "1.8599459824965052e+20\n",
      "9.21710238755676e+20\n",
      "2.796125612017978e+20\n",
      "1.6702186907718252e+21\n",
      "4.4820982951189165e+20\n",
      "1.3868884358666314e+21\n",
      "5.128191436741757e+20\n",
      "5.237075748239489e+20\n",
      "4.3770839660964603e+20\n",
      "5.168358406989301e+20\n",
      "7.765762445824786e+20\n",
      "9.363668278849996e+20\n",
      "2.3250373425860962e+20\n",
      "1.0604050712487342e+21\n",
      "2.2292504661888883e+20\n",
      "1.842685440487276e+21\n",
      "3.2439292615537774e+20\n",
      "1.4856989749625238e+21\n",
      "4.822301872044186e+20\n",
      "1.298205698117132e+21\n",
      "1.4087452184938673e+20\n",
      "1.7199831718085253e+21\n",
      "1.2725818295916303e+20\n",
      "2.098467923152109e+21\n",
      "1.5582797083316276e+20\n",
      "2.3530545694562302e+21\n",
      "2.28901598269436e+20\n",
      "2.6451374828810886e+21\n",
      "2.5890349561920337e+20\n",
      "2.575680808120873e+21\n",
      "2.8682693205833328e+20\n",
      "1.953009813547951e+21\n",
      "3.0136317404781766e+20\n",
      "2.3607415867168137e+21\n",
      "3.1065458656401765e+20\n",
      "1.7041286630134676e+21\n",
      "2.73473212111999e+20\n",
      "1.780574482637554e+21\n",
      "2.029408379517584e+20\n",
      "1.1572634313145409e+21\n",
      "4.647607972743041e+20\n",
      "5.722163057363199e+20\n",
      "4.2836014530077943e+20\n",
      "1.2111189382398094e+21\n",
      "2.213280217370539e+20\n",
      "1.612685804704826e+21\n",
      "1.9766029763857698e+20\n",
      "1.1453863960130624e+21\n",
      "2.319957693397059e+20\n",
      "1.8757688134164323e+21\n",
      "4.298940796471109e+20\n",
      "1.5063804535491084e+21\n",
      "5.259420606115899e+20\n",
      "1.2443397681503624e+21\n",
      "6.656708687429047e+20\n",
      "1.1193251896141241e+21\n",
      "6.360034946923773e+20\n",
      "1.1085715257137415e+21\n",
      "2.1526649060044633e+20\n",
      "8.292487424971654e+20\n",
      "2.872822353995327e+20\n",
      "7.658051390193709e+20\n",
      "6.36442382792727e+20\n",
      "4.139710722204489e+20\n",
      "9.447589430915621e+20\n",
      "2.960342920896708e+20\n",
      "7.838813676498135e+20\n",
      "3.3277725087291127e+20\n",
      "1.4551095586740959e+21\n",
      "1.9137588363970747e+20\n",
      "1.570057230298798e+21\n",
      "2.3478140372174265e+20\n",
      "2.3523664953716963e+21\n",
      "2.2681676796516414e+20\n",
      "1.386164035595733e+21\n",
      "2.4680719918863797e+20\n",
      "1.1137509268566902e+21\n",
      "2.7426076928960673e+20\n",
      "1.8887035800692132e+21\n",
      "2.161752368871228e+20\n",
      "1.415743820364249e+21\n",
      "2.0221932205600257e+20\n",
      "1.0706919219286688e+21\n",
      "4.008279944222192e+20\n",
      "1.4469226869787918e+21\n",
      "5.5133636797376043e+20\n",
      "4.43771276173241e+20\n",
      "4.01634622699682e+20\n",
      "1.2904708268663817e+21\n",
      "5.04630936347329e+20\n",
      "1.238731694265407e+21\n",
      "6.334453672396764e+20\n",
      "4.0795294551725e+20\n",
      "5.340061351633657e+20\n",
      "4.895633967944624e+20\n"
     ]
    },
    {
     "name": "stdout",
     "output_type": "stream",
     "text": [
      "4.555286282535696e+20\n",
      "1.1500688412606334e+21\n",
      "2.225877122379349e+20\n",
      "1.3275692003104659e+21\n",
      "2.4061077493442622e+20\n",
      "1.895938173277643e+21\n",
      "3.6096969838771916e+20\n",
      "1.6021855188390846e+21\n",
      "4.876466050857498e+20\n",
      "1.3284521162455478e+21\n",
      "6.21053478078898e+20\n",
      "4.1842519617077255e+20\n",
      "5.327775822559291e+20\n",
      "8.6779807333457e+20\n",
      "2.5675895358113405e+20\n",
      "1.1667536164492784e+21\n",
      "5.947083032254469e+20\n",
      "3.875106430588873e+20\n",
      "5.98852565053366e+20\n",
      "4.994865089769129e+20\n",
      "1.364275490528715e+21\n",
      "5.1900839355354985e+20\n",
      "1.1614101015051821e+21\n",
      "2.166737377293566e+20\n",
      "1.3608007543047182e+21\n",
      "6.035182197471887e+20\n",
      "4.2418087301434055e+20\n",
      "3.3487324213987895e+20\n",
      "1.2188643988838875e+21\n",
      "2.5002989191252515e+20\n",
      "8.983118410065176e+20\n",
      "3.886709908051838e+20\n",
      "1.649927530646878e+21\n",
      "5.295121879667427e+20\n",
      "1.338363315057801e+21\n",
      "6.252924170674168e+20\n",
      "4.062752308197772e+20\n",
      "8.036316545765354e+20\n",
      "2.632821251330096e+20\n",
      "1.373497552059173e+21\n",
      "1.461159509224815e+20\n",
      "1.6050024450363472e+21\n",
      "1.4649430725733846e+20\n",
      "2.136472501337668e+21\n",
      "3.367801380732882e+20\n",
      "1.6973519281243706e+21\n",
      "1.4866569468515526e+20\n",
      "2.272706246959489e+21\n",
      "2.7791728543365533e+20\n",
      "1.823123466052908e+21\n",
      "2.9957432427425025e+20\n",
      "6.860220768018436e+20\n",
      "2.144222559460429e+20\n",
      "8.492162699687538e+20\n",
      "2.4620478578687807e+20\n",
      "7.648641319699772e+20\n",
      "2.7351456464536827e+20\n",
      "6.817556596061384e+20\n",
      "6.415775865045166e+20\n",
      "4.5130473217114046e+20\n",
      "1.0034686127975901e+21\n",
      "7.496992802837533e+20\n",
      "3.46565281229155e+20\n",
      "5.3691531583770644e+20\n",
      "4.388453537232005e+20\n",
      "6.135882159148394e+20\n",
      "4.696834679021164e+20\n",
      "1.0495632400843793e+21\n",
      "6.62230718247096e+20\n",
      "3.553745289392594e+20\n",
      "6.005558861731609e+20\n",
      "4.2259275773516946e+20\n",
      "1.1301706882834196e+21\n",
      "6.055676136096166e+20\n",
      "1.127065717827992e+21\n",
      "6.352746129083164e+20\n",
      "9.96724530923567e+20\n",
      "7.105088269445465e+20\n",
      "9.431084079396646e+20\n",
      "2.661075007869354e+20\n",
      "7.08262603017009e+20\n",
      "9.804079393502986e+20\n",
      "8.235337982445232e+20\n",
      "8.200038352241209e+20\n",
      "2.636892896763441e+20\n",
      "9.459485795781769e+20\n",
      "2.556851916368163e+20\n",
      "1.634874966911949e+21\n",
      "1.5853797501350724e+20\n",
      "1.6962748050115558e+21\n",
      "4.656156805238493e+20\n",
      "6.627268285885029e+20\n",
      "3.7918742732997506e+20\n",
      "1.0775819082563158e+21\n",
      "2.6009607365506715e+20\n",
      "7.695663834776628e+20\n",
      "9.22060417702483e+20\n",
      "2.2198035878520763e+20\n",
      "7.866291116186556e+20\n",
      "6.25712050667639e+20\n",
      "3.586435249344913e+20\n",
      "5.636996564051193e+20\n",
      "1.2150432469833079e+21\n",
      "5.444016507544764e+20\n",
      "4.101363313397301e+20\n",
      "5.297690094372574e+20\n",
      "4.145130036464794e+20\n",
      "5.615866006631831e+20\n",
      "1.1721574211718054e+21\n",
      "6.504552639269257e+20\n",
      "3.486523424132806e+20\n",
      "6.468641149439687e+20\n",
      "1.1216424431865054e+21\n",
      "1.9145352108279975e+20\n",
      "6.749286949010835e+20\n",
      "7.24158986550603e+20\n",
      "9.558105142839914e+20\n",
      "2.995317663969579e+20\n",
      "1.308979090547506e+21\n",
      "2.4015895094294462e+20\n",
      "1.6776282043978136e+21\n",
      "2.072097026987286e+20\n",
      "1.878351417491062e+21\n",
      "2.7610863211414762e+20\n",
      "1.382664761532413e+21\n",
      "4.910380596250733e+20\n",
      "5.909906418080256e+20\n",
      "5.2780688718722046e+20\n",
      "4.5513909914146236e+20\n",
      "1.144975836483832e+21\n",
      "2.5499772288971597e+20\n",
      "7.629390897291881e+20\n",
      "9.711641172415118e+20\n",
      "2.5738623244909632e+20\n",
      "8.757417192223425e+20\n",
      "3.325705078819426e+20\n",
      "1.569084057255582e+21\n",
      "4.50272960870711e+20\n",
      "5.7025345862819244e+20\n",
      "6.669573221112046e+20\n",
      "1.0512452718015793e+21\n",
      "1.8025291446875206e+20\n",
      "5.813313988794509e+20\n",
      "7.764960186530379e+20\n",
      "8.105133384494311e+20\n",
      "7.941818936934046e+20\n",
      "9.351731211331321e+20\n",
      "2.3770916374735572e+20\n",
      "1.0869002297282864e+21\n",
      "2.215501159653644e+20\n",
      "1.721998710358125e+21\n",
      "4.687277261983433e+20\n",
      "1.405563817373656e+21\n",
      "5.241461824794655e+20\n",
      "4.801025951396444e+20\n",
      "5.799552798888807e+20\n",
      "4.9326280146013756e+20\n",
      "1.3711712016812411e+21\n",
      "5.816309967132246e+20\n",
      "4.330523023978117e+20\n",
      "9.741646605111837e+20\n",
      "2.2001233792265637e+20\n",
      "1.2162152714059996e+21\n",
      "1.875871157431103e+20\n",
      "1.7642110603720125e+21\n",
      "1.584082476623724e+20\n",
      "1.9941152339006495e+21\n",
      "3.690312161707213e+20\n",
      "6.604503209872973e+20\n",
      "3.191135212694611e+20\n",
      "1.1164206707959564e+21\n",
      "1.7830652378645548e+20\n",
      "8.27263838236063e+20\n",
      "7.905039474776911e+20\n",
      "9.799135011571869e+20\n",
      "8.008021674531873e+20\n",
      "3.78530133676431e+20\n",
      "4.768181247938263e+20\n",
      "5.967281489200132e+20\n",
      "1.1351507038532096e+21\n",
      "6.901510437313496e+20\n",
      "3.723558267702364e+20\n",
      "6.186533390249006e+20\n",
      "1.0595297758885301e+21\n",
      "2.4589438408654094e+20\n",
      "5.981327593648148e+20\n",
      "5.308267796186021e+20\n",
      "1.2747782417869177e+21\n",
      "7.118589406711683e+20\n",
      "3.587979366090949e+20\n",
      "7.267724387753013e+20\n",
      "7.77713490370964e+20\n",
      "8.481893256243161e+20\n",
      "7.54559271808141e+20\n",
      "1.0140519931253331e+21\n",
      "2.12477678028166e+20\n",
      "8.119952072892841e+20\n",
      "2.5242457103894636e+20\n",
      "1.433538653197254e+21\n",
      "1.163391856909838e+20\n",
      "9.377213674305969e+20\n",
      "6.399810438365952e+20\n",
      "1.0706103419100649e+21\n",
      "6.25271950165604e+20\n",
      "4.3732846985831186e+20\n",
      "4.216895183258692e+20\n",
      "5.214592772542089e+20\n",
      "4.5466623412085654e+20\n",
      "5.110687593299077e+20\n",
      "4.2485814155165984e+20\n",
      "1.3623436535609843e+21\n",
      "5.30709607057789e+20\n",
      "4.3529839680696484e+20\n",
      "5.229738817652501e+20\n",
      "5.158064878790864e+20\n",
      "9.374553417443545e+20\n",
      "3.39270406094953e+20\n",
      "7.042230046368824e+20\n",
      "9.769844837166029e+20\n",
      "7.4647874854157e+20\n",
      "8.634978096865353e+20\n",
      "2.7442335972037722e+20\n",
      "1.0190187433576855e+21\n",
      "6.985221238796622e+20\n",
      "3.268337586540035e+20\n",
      "3.8835738218292e+20\n",
      "5.500278792666682e+20\n",
      "1.0949534611740952e+21\n",
      "6.18148780922829e+20\n",
      "1.1119053247988804e+21\n",
      "6.39444718330022e+20\n",
      "3.441281260233261e+20\n",
      "1.1537547671153077e+21\n",
      "1.9037957247941178e+20\n",
      "1.4445758804659594e+21\n",
      "1.8470451586808673e+20\n",
      "1.9425839648632807e+21\n",
      "3.67316889214244e+20\n",
      "1.5073899212986806e+21\n",
      "4.853098558229646e+20\n",
      "1.2358903053851726e+21\n",
      "3.004902536898927e+20\n",
      "8.639996038405219e+20\n",
      "4.409628659117742e+20\n",
      "1.2353285951052196e+21\n",
      "6.541015503684626e+20\n",
      "3.789606338795285e+20\n",
      "5.3903077540751435e+20\n",
      "1.1350086776464144e+21\n",
      "6.207768215113834e+20\n",
      "1.0996258311022649e+21\n",
      "2.0762000741302528e+20\n",
      "1.170896413931221e+21\n",
      "6.265496983216314e+20\n",
      "1.1707406693578358e+21\n",
      "2.201654006880052e+20\n",
      "1.8024488337037433e+21\n",
      "1.7965672768598023e+20\n",
      "1.948486224822308e+21\n",
      "2.2152933494887747e+20\n",
      "2.477427332935306e+21\n",
      "3.27234635051955e+20\n",
      "1.8297391978782602e+21\n",
      "4.3376800125573536e+20\n",
      "6.410303611916778e+20\n",
      "3.198753072635685e+20\n",
      "1.0476666962287337e+21\n",
      "7.391483440960007e+20\n",
      "2.98442363776234e+20\n",
      "4.089390009618259e+20\n",
      "1.0537600852441713e+21\n",
      "2.3991988643246277e+20\n",
      "8.217726273212901e+20\n",
      "3.3813547225330686e+20\n",
      "1.4305196938041159e+21\n",
      "4.312785924636434e+20\n",
      "5.2230975634666e+20\n",
      "4.1025903822032686e+20\n",
      "5.072065319911987e+20\n",
      "4.4271978849725206e+20\n",
      "1.289264653281433e+21\n",
      "5.1911866653769603e+20\n",
      "1.2434009624763323e+21\n",
      "5.962136268068572e+20\n",
      "1.0597985034899754e+21\n",
      "6.367637575414046e+20\n",
      "1.029748146623003e+21\n",
      "6.455256147582672e+20\n",
      "1.0742034438763192e+21\n",
      "2.165814988374238e+20\n",
      "7.971404802997529e+20\n",
      "2.8818674044189986e+20\n",
      "6.799537225793966e+20\n",
      "3.586731320889638e+20\n",
      "1.4579815568406904e+21\n",
      "1.1277350831420654e+20\n",
      "7.922817323576594e+20\n",
      "2.974447188860912e+20\n",
      "1.5790329622506187e+21\n",
      "4.995018690618357e+20\n",
      "5.227365446387621e+20\n",
      "5.693997755548223e+20\n",
      "4.090022494759541e+20\n",
      "5.911922362341358e+20\n",
      "4.2979935925961766e+20\n",
      "5.6818497347868407e+20\n",
      "4.028932410755166e+20\n",
      "5.825154270659037e+20\n",
      "4.959637949837282e+20\n",
      "5.7704852078332654e+20\n",
      "1.1401849851644449e+21\n",
      "7.190961251028528e+20\n",
      "9.387418240944004e+20\n",
      "2.3024959493918904e+20\n",
      "1.115316914959467e+21\n",
      "6.550994699825014e+20\n",
      "3.901831788871573e+20\n",
      "3.4566578396541826e+20\n",
      "1.2345493791963724e+21\n",
      "6.512491633366451e+20\n",
      "3.704317334200137e+20\n",
      "4.779896379650388e+20\n",
      "1.2894984559671816e+21\n",
      "5.6717390623409635e+20\n",
      "1.0519638950470373e+21\n",
      "7.375227496521377e+20\n",
      "3.153767795593955e+20\n",
      "6.051120735266191e+20\n",
      "9.988358201412176e+20\n",
      "2.2700868807834888e+20\n",
      "1.1083703842334157e+21\n",
      "6.292452416161285e+20\n",
      "1.1751503634097175e+21\n",
      "1.9526541929003834e+20\n",
      "9.534521315373634e+20\n",
      "7.107584407526065e+20\n",
      "3.2660396944234604e+20\n",
      "6.568938472519076e+20\n",
      "3.6077686379693317e+20\n",
      "1.5231421149436135e+21\n",
      "4.2887736459307e+20\n",
      "1.2828629521339004e+21\n",
      "6.331261812434257e+20\n",
      "3.894562657787773e+20\n",
      "4.6228501702899637e+20\n",
      "5.2275789067944106e+20\n",
      "9.962344202802721e+20\n",
      "8.102407444283169e+20\n",
      "2.8475447644191883e+20\n",
      "6.291103332582128e+20\n",
      "4.3805115296714916e+20\n",
      "5.453744310994625e+20\n",
      "4.4144551362250356e+20\n",
      "5.295798947420127e+20\n",
      "1.0311987574923672e+21\n",
      "6.996035707761305e+20\n",
      "3.179506273661056e+20\n",
      "6.247408299319409e+20\n",
      "1.0399063620410537e+21\n",
      "2.886085247355679e+20\n",
      "1.1811434279316119e+21\n",
      "2.3176044842724616e+20\n",
      "1.7118962894242248e+21\n",
      "4.8214196050008454e+20\n",
      "5.786939880482827e+20\n",
      "5.293486663303641e+20\n",
      "4.420435491757012e+20\n",
      "1.2374636134006013e+21\n",
      "6.14674633193216e+20\n",
      "4.5410950686205687e+20\n",
      "9.601725356114232e+20\n",
      "8.133382146790084e+20\n",
      "2.6939127222656975e+20\n",
      "5.89442561208614e+20\n",
      "3.9248119656626284e+20\n",
      "1.2837405276460307e+21\n",
      "6.043389166593606e+20\n",
      "3.7950350183092755e+20\n",
      "4.92017061465502e+20\n",
      "1.248381978672357e+21\n",
      "1.8680063690003628e+20\n",
      "7.418133246446182e+20\n",
      "3.029019220342375e+20\n",
      "6.515433282217473e+20\n",
      "7.999630752617335e+20\n",
      "9.360449597407409e+20\n",
      "2.976011652450994e+20\n",
      "6.40255569648274e+20\n",
      "9.332769975123724e+20\n",
      "2.3490949053651753e+20\n",
      "6.10888247480289e+20\n",
      "3.629700048374632e+20\n",
      "6.379451151780702e+20\n",
      "3.598579710698616e+20\n",
      "1.3537277488700785e+21\n",
      "1.661940015609728e+20\n",
      "7.984839935594922e+20\n",
      "3.185979151605387e+20\n",
      "7.48191824373865e+20\n",
      "7.62100164539589e+20\n",
      "9.414103676639056e+20\n",
      "7.64758915034503e+20\n",
      "3.345419537367556e+20\n",
      "5.576278560380785e+20\n",
      "4.375198918255086e+20\n",
      "4.8945817298661225e+20\n",
      "4.728816490730551e+20\n",
      "1.2034713157222597e+21\n",
      "6.0581024087219e+20\n",
      "3.902265168872353e+20\n",
      "9.461718920658573e+20\n",
      "2.4925045608591324e+20\n",
      "7.635720571947728e+20\n",
      "8.182786568977449e+20\n",
      "2.8036216555050362e+20\n",
      "8.840386492912569e+20\n",
      "6.86034670625034e+20\n",
      "1.110526703542435e+21\n",
      "2.377211345119475e+20\n",
      "7.972192393842684e+20\n",
      "8.25444449828178e+20\n",
      "8.248181898219149e+20\n",
      "8.695639665998082e+20\n",
      "2.5159994593993284e+20\n",
      "5.008012472501154e+20\n",
      "4.4455437034738064e+20\n",
      "5.2202886287377164e+20\n",
      "8.98320331888417e+20\n",
      "2.6966385979788027e+20\n",
      "1.1591366403491394e+21\n",
      "3.006515645845698e+20\n",
      "1.6871574062585581e+21\n",
      "2.3221314792842733e+20\n",
      "1.8236084954739722e+21\n",
      "3.0398580613105884e+20\n",
      "1.2866676043812983e+21\n",
      "4.340720905556692e+20\n",
      "5.5975620047075666e+20\n",
      "3.771555657871929e+20\n",
      "1.5939109012689041e+21\n",
      "5.227146088408067e+20\n",
      "5.473260045267015e+20\n",
      "8.260577824677091e+20\n",
      "8.77900318172852e+20\n",
      "2.728685597008323e+20\n",
      "6.046992807529892e+20\n",
      "3.918091450444236e+20\n",
      "5.543059193620072e+20\n",
      "1.0616170729406236e+21\n"
     ]
    },
    {
     "name": "stdout",
     "output_type": "stream",
     "text": [
      "2.040678551093533e+20\n",
      "6.539635892163544e+20\n",
      "4.098386769369323e+20\n",
      "5.5836069367111516e+20\n",
      "7.82395583065813e+20\n",
      "3.269387337515772e+20\n",
      "5.961323047110343e+20\n",
      "9.766618370604003e+20\n",
      "7.779704421505594e+20\n",
      "8.015246262735866e+20\n",
      "9.404179564453733e+20\n",
      "2.1279382019764368e+20\n",
      "5.974901916008976e+20\n",
      "3.7482113211893953e+20\n",
      "1.2362352565202922e+21\n",
      "6.616373423298233e+20\n",
      "1.051556289232585e+21\n",
      "6.653751506938243e+20\n",
      "3.722611703484744e+20\n",
      "5.300499116020193e+20\n",
      "5.024232251126558e+20\n",
      "1.09183228382273e+21\n",
      "7.332421610510753e+20\n",
      "2.96934319367852e+20\n",
      "5.919175041952737e+20\n",
      "4.390699816534269e+20\n",
      "1.1124774910784163e+21\n",
      "2.1200921548328436e+20\n",
      "1.2156248346939176e+21\n",
      "6.653401908089506e+20\n",
      "1.1476026876285123e+21\n",
      "6.024218006872131e+20\n",
      "1.1842341758660735e+21\n",
      "5.937066998558201e+20\n",
      "4.280589003959512e+20\n",
      "6.319413191241035e+20\n",
      "3.694415530009811e+20\n",
      "5.846517740490995e+20\n",
      "4.1262884769277844e+20\n",
      "5.648804267066769e+20\n",
      "5.1053584119619754e+20\n",
      "1.3459835679739662e+21\n",
      "6.010393393840441e+20\n",
      "1.1193365288507639e+21\n",
      "2.1387622823560793e+20\n",
      "1.354509045797645e+21\n",
      "2.2632080862263614e+20\n",
      "1.9637179645549184e+21\n",
      "2.2605012318837113e+20\n",
      "1.2377220383820064e+21\n",
      "4.9421924532538324e+20\n",
      "1.3054141089790815e+21\n",
      "5.06116215400041e+20\n",
      "5.511327763414874e+20\n",
      "6.517622120025036e+20\n",
      "4.231707113990412e+20\n",
      "6.452545790864746e+20\n",
      "3.490990588818424e+20\n",
      "1.1107629114934677e+21\n",
      "2.8155952371437247e+20\n",
      "8.774537220993202e+20\n",
      "8.524664176164504e+20\n",
      "2.470847374817837e+20\n",
      "7.585645626587426e+20\n",
      "5.758777852087787e+20\n",
      "1.0562783281272342e+21\n",
      "2.3680526146209464e+20\n",
      "8.059614384174794e+20\n",
      "3.374498203891263e+20\n",
      "6.295374177680134e+20\n",
      "8.617543794892708e+20\n",
      "8.09513981177166e+20\n",
      "3.429862793455062e+20\n",
      "6.590845160119054e+20\n",
      "3.779423938529792e+20\n",
      "5.561687936988677e+20\n",
      "1.0776111109365968e+21\n",
      "1.9456730615691307e+20\n",
      "1.0844272348511038e+21\n",
      "5.5788432288650854e+20\n",
      "1.2506152319612774e+21\n",
      "1.886057661389736e+20\n",
      "9.124971947000151e+20\n",
      "2.990405317399465e+20\n",
      "7.367012352551666e+20\n",
      "7.139397778284751e+20\n",
      "3.340006508487408e+20\n",
      "9.638694069375351e+20\n",
      "2.4378933379508444e+20\n",
      "7.854652701879984e+20\n",
      "8.124890269357841e+20\n",
      "9.307654797252312e+20\n",
      "7.94851314722466e+20\n",
      "3.7179206843105254e+20\n",
      "9.066881980031364e+20\n",
      "3.274931264882825e+20\n",
      "1.5525732884973397e+21\n",
      "1.9392127038939444e+20\n",
      "1.5989579337060094e+21\n",
      "4.8398111502583497e+20\n",
      "5.982313744440543e+20\n",
      "2.824391062680858e+20\n",
      "7.586322631910675e+20\n",
      "8.070639598941949e+20\n",
      "2.7433931432151754e+20\n",
      "8.299690184645773e+20\n",
      "3.390680726294187e+20\n",
      "1.5577498887453234e+21\n",
      "5.22189681559655e+20\n",
      "1.2955820660919844e+21\n",
      "1.8608352058127263e+20\n",
      "9.76227779539193e+20\n",
      "6.88761995943403e+20\n",
      "3.742288069359998e+20\n",
      "6.649672191842758e+20\n",
      "7.949061412272534e+20\n",
      "8.976300288884057e+20\n",
      "2.8280644666225925e+20\n",
      "7.655766428346274e+20\n",
      "3.127904737047262e+20\n",
      "6.865600977546502e+20\n",
      "9.262688890790724e+20\n",
      "2.355567715081279e+20\n",
      "9.844214713023747e+20\n",
      "3.002738811435491e+20\n",
      "1.6829267526415748e+21\n",
      "4.770568334605422e+20\n",
      "5.495918602842022e+20\n",
      "3.7729848420502693e+20\n",
      "6.29564023072496e+20\n",
      "7.770147147919928e+20\n",
      "3.34295418678137e+20\n",
      "1.0557626260978464e+21\n",
      "2.3418141021035695e+20\n",
      "8.478987001028523e+20\n",
      "8.692394621268032e+20\n",
      "7.816922406698775e+20\n",
      "3.429906006645771e+20\n"
     ]
    }
   ],
   "source": [
    "from sklearn.base import clone\n",
    "from sklearn.preprocessing import StandardScaler\n",
    "\n",
    "# prepare data\n",
    "poly_scaler = Pipeline([\n",
    "    (\"poly_features\", PolynomialFeatures(degree=90, include_bias=False)),\n",
    "    (\"std_scaler\", StandardScaler())\n",
    "])\n",
    "\n",
    "X_train, X_val, y_train, y_val = train_test_split(X, y, test_size=0.2)\n",
    "\n",
    "X_train_poly_scaled = poly_scaler.fit_transform(X_train)\n",
    "X_val_poly_scaled = poly_scaler.transform(X_val)\n",
    "\n",
    "sgd_reg = SGDRegressor(max_iter=1, tol=-np.infty, warm_start=True,\n",
    "                      penalty=None, learning_rate=\"constant\", eta0=0.0005)\n",
    "\n",
    "minimum_val_error = float(\"inf\")\n",
    "best_epoch = None\n",
    "best_model = None\n",
    "for epoch in range(1000):\n",
    "    sgd_reg.fit(X_train_poly_scaled, y_train.ravel()) # continues where it left off! (warm_start = True)\n",
    "    y_val_predict = sgd_reg.predict(X_val_poly_scaled)\n",
    "    val_error = mean_squared_error(y_val, y_val_predict)\n",
    "    print(val_error)\n",
    "    if val_error < minimum_val_error:\n",
    "        minimum_val_error = val_error\n",
    "        best_epoch = epoch\n",
    "        best_model = clone(sgd_reg)"
   ]
  },
  {
   "cell_type": "markdown",
   "metadata": {},
   "source": [
    "# Logistic Regression\n",
    "Assigning probabilities to regression-based classification\n",
    "\n",
    "## Decision Boundaries\n",
    "Example using iris data"
   ]
  },
  {
   "cell_type": "code",
   "execution_count": 25,
   "metadata": {},
   "outputs": [
    {
     "data": {
      "text/plain": [
       "['data',\n",
       " 'target',\n",
       " 'frame',\n",
       " 'target_names',\n",
       " 'DESCR',\n",
       " 'feature_names',\n",
       " 'filename']"
      ]
     },
     "execution_count": 25,
     "metadata": {},
     "output_type": "execute_result"
    }
   ],
   "source": [
    "from sklearn import datasets\n",
    "iris = datasets.load_iris()\n",
    "list(iris.keys())"
   ]
  },
  {
   "cell_type": "code",
   "execution_count": 26,
   "metadata": {},
   "outputs": [],
   "source": [
    "X = iris[\"data\"][:, 3:] # petal width\n",
    "y = (iris[\"target\"] == 2).astype(np.int) # 1 if iris virginica, else 0"
   ]
  },
  {
   "cell_type": "code",
   "execution_count": 27,
   "metadata": {},
   "outputs": [
    {
     "data": {
      "text/plain": [
       "LogisticRegression()"
      ]
     },
     "execution_count": 27,
     "metadata": {},
     "output_type": "execute_result"
    }
   ],
   "source": [
    "from sklearn.linear_model import LogisticRegression\n",
    "\n",
    "log_reg = LogisticRegression()\n",
    "log_reg.fit(X, y)"
   ]
  },
  {
   "cell_type": "markdown",
   "metadata": {},
   "source": [
    "based on training data and model created above, predict probabilities given a range of petal widths"
   ]
  },
  {
   "cell_type": "code",
   "execution_count": 28,
   "metadata": {},
   "outputs": [
    {
     "data": {
      "text/plain": [
       "Text(0, 0.5, 'Probability')"
      ]
     },
     "execution_count": 28,
     "metadata": {},
     "output_type": "execute_result"
    },
    {
     "data": {
      "image/png": "[encoded data removed]",
      "text/plain": [
       "<Figure size 432x288 with 1 Axes>"
      ]
     },
     "metadata": {
      "needs_background": "light"
     },
     "output_type": "display_data"
    }
   ],
   "source": [
    "X_new = np.linspace(0, 3, 1000).reshape(-1, 1)\n",
    "y_proba = log_reg.predict_proba(X_new)\n",
    "plt.plot(X_new, y_proba[:, 1], \"g-\", label=\"Iris virginica\")\n",
    "plt.plot(X_new, y_proba[:, 0], \"b--\", label=\"Not Iris virginica\")\n",
    "plt.legend(loc=\"center left\")\n",
    "plt.xlabel(\"Petal width (cm)\")\n",
    "plt.ylabel(\"Probability\")"
   ]
  },
  {
   "cell_type": "code",
   "execution_count": 29,
   "metadata": {},
   "outputs": [
    {
     "data": {
      "text/plain": [
       "array([1, 0])"
      ]
     },
     "execution_count": 29,
     "metadata": {},
     "output_type": "execute_result"
    }
   ],
   "source": [
    "log_reg.predict([[1.7], [1.5]])"
   ]
  },
  {
   "cell_type": "markdown",
   "metadata": {},
   "source": [
    "## Softmax Regression\n",
    "(I assume because it's called softmax because you don't need over 50% odds to classify - you just need to have the biggest probability)"
   ]
  },
  {
   "cell_type": "code",
   "execution_count": 31,
   "metadata": {},
   "outputs": [
    {
     "data": {
      "text/plain": [
       "LogisticRegression(C=10, multi_class='multinomial')"
      ]
     },
     "execution_count": 31,
     "metadata": {},
     "output_type": "execute_result"
    }
   ],
   "source": [
    "X = iris[\"data\"][:, (2, 3)] # petal length, petal width\n",
    "y = iris[\"target\"]\n",
    "\n",
    "softmax_reg = LogisticRegression(multi_class=\"multinomial\", solver=\"lbfgs\", C=10)\n",
    "softmax_reg.fit(X, y)"
   ]
  },
  {
   "cell_type": "code",
   "execution_count": 32,
   "metadata": {},
   "outputs": [
    {
     "data": {
      "text/plain": [
       "array([2])"
      ]
     },
     "execution_count": 32,
     "metadata": {},
     "output_type": "execute_result"
    }
   ],
   "source": [
    "softmax_reg.predict([[5, 2]])"
   ]
  },
  {
   "cell_type": "code",
   "execution_count": 35,
   "metadata": {},
   "outputs": [
    {
     "data": {
      "text/plain": [
       "array([[6.38014896e-07, 5.74929995e-02, 9.42506362e-01]])"
      ]
     },
     "execution_count": 35,
     "metadata": {},
     "output_type": "execute_result"
    }
   ],
   "source": [
    "softmax_reg.predict_proba([[5, 2]])"
   ]
  },
  {
   "cell_type": "markdown",
   "metadata": {},
   "source": [
    "Predicts class 2 with probability of 94%"
   ]
  },
  {
   "cell_type": "markdown",
   "metadata": {},
   "source": [
    "Practical explanation of cross entropy (loss function for softmax regression)\n",
    "https://towardsdatascience.com/cross-entropy-for-dummies-5189303c7735"
   ]
  }
 ],
 "metadata": {
  "kernelspec": {
   "display_name": "Python 3",
   "language": "python",
   "name": "python3"
  },
  "language_info": {
   "codemirror_mode": {
    "name": "ipython",
    "version": 3
   },
   "file_extension": ".py",
   "mimetype": "text/x-python",
   "name": "python",
   "nbconvert_exporter": "python",
   "pygments_lexer": "ipython3",
   "version": "3.7.1"
  }
 },
 "nbformat": 4,
 "nbformat_minor": 4
}
