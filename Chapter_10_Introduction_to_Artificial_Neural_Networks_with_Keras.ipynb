{
 "cells": [
  {
   "cell_type": "markdown",
   "metadata": {},
   "source": [
    "# From Biological to Artificial Neurons\n",
    "## The Perceptron"
   ]
  },
  {
   "cell_type": "code",
   "execution_count": 1,
   "metadata": {},
   "outputs": [
    {
     "data": {
      "text/plain": [
       "array([0])"
      ]
     },
     "execution_count": 1,
     "metadata": {},
     "output_type": "execute_result"
    }
   ],
   "source": [
    "import numpy as np\n",
    "from sklearn.datasets import load_iris\n",
    "from sklearn.linear_model import Perceptron\n",
    "\n",
    "iris = load_iris()\n",
    "X = iris.data[:, (2, 3)] # petal length, petal width\n",
    "y = (iris.target == 0).astype(np.int)\n",
    "\n",
    "per_clf = Perceptron()\n",
    "per_clf.fit(X, y)\n",
    "\n",
    "y_pred = per_clf.predict([[2, 0.5]])\n",
    "y_pred"
   ]
  },
  {
   "cell_type": "markdown",
   "metadata": {},
   "source": [
    "# Implementing MLPs with Keras\n",
    "## Building an Image Classifier Using the Sequential API\n",
    "### Using Keras to load the dataset"
   ]
  },
  {
   "cell_type": "code",
   "execution_count": 2,
   "metadata": {},
   "outputs": [],
   "source": [
    "import tensorflow as tf\n",
    "from tensorflow import keras"
   ]
  },
  {
   "cell_type": "code",
   "execution_count": 3,
   "metadata": {},
   "outputs": [],
   "source": [
    "fashion_mnist = keras.datasets.fashion_mnist\n",
    "(X_train_full, y_train_full), (X_test, y_test) = fashion_mnist.load_data()"
   ]
  },
  {
   "cell_type": "code",
   "execution_count": 4,
   "metadata": {},
   "outputs": [
    {
     "data": {
      "text/plain": [
       "(60000, 28, 28)"
      ]
     },
     "execution_count": 4,
     "metadata": {},
     "output_type": "execute_result"
    }
   ],
   "source": [
    "X_train_full.shape"
   ]
  },
  {
   "cell_type": "code",
   "execution_count": 5,
   "metadata": {},
   "outputs": [
    {
     "data": {
      "text/plain": [
       "dtype('uint8')"
      ]
     },
     "execution_count": 5,
     "metadata": {},
     "output_type": "execute_result"
    }
   ],
   "source": [
    "X_train_full.dtype"
   ]
  },
  {
   "cell_type": "code",
   "execution_count": 6,
   "metadata": {},
   "outputs": [],
   "source": [
    "X_valid, X_train = X_train_full[:5000] / 255.0, X_train_full[5000:] / 255.0\n",
    "y_valid, y_train = y_train_full[:5000], y_train_full[5000:]\n",
    "class_names = [\"T-shirt/top\", \"Trouser\", \"Pullover\", \"Dress\", \"Coat\",\n",
    "               \"Sandal\", \"Shirt\", \"Sneaker\", \"Bag\", \"Ankle boot\"]"
   ]
  },
  {
   "cell_type": "markdown",
   "metadata": {},
   "source": [
    "### Creating the model using the Sequential API"
   ]
  },
  {
   "cell_type": "code",
   "execution_count": 7,
   "metadata": {},
   "outputs": [],
   "source": [
    "model = keras.models.Sequential()\n",
    "model.add(keras.layers.Flatten(input_shape=[28,28]))\n",
    "model.add(keras.layers.Dense(300, activation=\"relu\"))\n",
    "model.add(keras.layers.Dense(100, activation=\"relu\"))\n",
    "model.add(keras.layers.Dense(10, activation=\"softmax\"))"
   ]
  },
  {
   "cell_type": "code",
   "execution_count": 8,
   "metadata": {},
   "outputs": [],
   "source": [
    "model = keras.models.Sequential([\n",
    "    keras.layers.Flatten(input_shape=[28,28]),\n",
    "    keras.layers.Dense(300, activation=\"relu\"),\n",
    "    keras.layers.Dense(100, activation=\"relu\"),\n",
    "    keras.layers.Dense(10, activation=\"softmax\")\n",
    "])"
   ]
  },
  {
   "cell_type": "code",
   "execution_count": 9,
   "metadata": {},
   "outputs": [
    {
     "name": "stdout",
     "output_type": "stream",
     "text": [
      "Model: \"sequential_1\"\n",
      "_________________________________________________________________\n",
      "Layer (type)                 Output Shape              Param #   \n",
      "=================================================================\n",
      "flatten_1 (Flatten)          (None, 784)               0         \n",
      "_________________________________________________________________\n",
      "dense_3 (Dense)              (None, 300)               235500    \n",
      "_________________________________________________________________\n",
      "dense_4 (Dense)              (None, 100)               30100     \n",
      "_________________________________________________________________\n",
      "dense_5 (Dense)              (None, 10)                1010      \n",
      "=================================================================\n",
      "Total params: 266,610\n",
      "Trainable params: 266,610\n",
      "Non-trainable params: 0\n",
      "_________________________________________________________________\n"
     ]
    }
   ],
   "source": [
    "model.summary()"
   ]
  },
  {
   "cell_type": "code",
   "execution_count": 10,
   "metadata": {},
   "outputs": [
    {
     "data": {
      "image/png": "[encoded data removed]",
      "text/plain": [
       "<IPython.core.display.Image object>"
      ]
     },
     "execution_count": 10,
     "metadata": {},
     "output_type": "execute_result"
    }
   ],
   "source": [
    "keras.utils.plot_model(model)"
   ]
  },
  {
   "cell_type": "code",
   "execution_count": 11,
   "metadata": {},
   "outputs": [
    {
     "data": {
      "text/plain": [
       "[<tensorflow.python.keras.layers.core.Flatten at 0x10dcf1c88>,\n",
       " <tensorflow.python.keras.layers.core.Dense at 0x11dbf4160>,\n",
       " <tensorflow.python.keras.layers.core.Dense at 0x11dbf42e8>,\n",
       " <tensorflow.python.keras.layers.core.Dense at 0x140d45ef0>]"
      ]
     },
     "execution_count": 11,
     "metadata": {},
     "output_type": "execute_result"
    }
   ],
   "source": [
    "model.layers"
   ]
  },
  {
   "cell_type": "code",
   "execution_count": 12,
   "metadata": {},
   "outputs": [
    {
     "data": {
      "text/plain": [
       "'dense_3'"
      ]
     },
     "execution_count": 12,
     "metadata": {},
     "output_type": "execute_result"
    }
   ],
   "source": [
    "hidden1 = model.layers[1]\n",
    "hidden1.name"
   ]
  },
  {
   "cell_type": "code",
   "execution_count": 13,
   "metadata": {},
   "outputs": [
    {
     "data": {
      "text/plain": [
       "True"
      ]
     },
     "execution_count": 13,
     "metadata": {},
     "output_type": "execute_result"
    }
   ],
   "source": [
    "model.get_layer('dense_3') is hidden1"
   ]
  },
  {
   "cell_type": "code",
   "execution_count": 14,
   "metadata": {},
   "outputs": [
    {
     "data": {
      "text/plain": [
       "array([[-0.07311648,  0.03447104,  0.03536419, ...,  0.02846805,\n",
       "        -0.01388432, -0.03356417],\n",
       "       [-0.04091261, -0.07359773, -0.00236671, ..., -0.02071773,\n",
       "         0.02042521, -0.04325434],\n",
       "       [-0.05832158,  0.02746458, -0.02757958, ...,  0.0525877 ,\n",
       "         0.06660613, -0.0471393 ],\n",
       "       ...,\n",
       "       [ 0.03007432,  0.01341814,  0.01204354, ...,  0.04801724,\n",
       "         0.01689798,  0.03989404],\n",
       "       [ 0.00350211,  0.01365651,  0.05771536, ..., -0.00510857,\n",
       "        -0.02979991, -0.05162753],\n",
       "       [ 0.05499597, -0.05607253,  0.06029162, ..., -0.02002712,\n",
       "         0.00863086, -0.05700781]], dtype=float32)"
      ]
     },
     "execution_count": 14,
     "metadata": {},
     "output_type": "execute_result"
    }
   ],
   "source": [
    "weights, biases = hidden1.get_weights()\n",
    "weights"
   ]
  },
  {
   "cell_type": "code",
   "execution_count": 15,
   "metadata": {},
   "outputs": [
    {
     "data": {
      "text/plain": [
       "(784, 300)"
      ]
     },
     "execution_count": 15,
     "metadata": {},
     "output_type": "execute_result"
    }
   ],
   "source": [
    "weights.shape"
   ]
  },
  {
   "cell_type": "code",
   "execution_count": 16,
   "metadata": {},
   "outputs": [
    {
     "data": {
      "text/plain": [
       "array([0., 0., 0., 0., 0., 0., 0., 0., 0., 0., 0., 0., 0., 0., 0., 0., 0.,\n",
       "       0., 0., 0., 0., 0., 0., 0., 0., 0., 0., 0., 0., 0., 0., 0., 0., 0.,\n",
       "       0., 0., 0., 0., 0., 0., 0., 0., 0., 0., 0., 0., 0., 0., 0., 0., 0.,\n",
       "       0., 0., 0., 0., 0., 0., 0., 0., 0., 0., 0., 0., 0., 0., 0., 0., 0.,\n",
       "       0., 0., 0., 0., 0., 0., 0., 0., 0., 0., 0., 0., 0., 0., 0., 0., 0.,\n",
       "       0., 0., 0., 0., 0., 0., 0., 0., 0., 0., 0., 0., 0., 0., 0., 0., 0.,\n",
       "       0., 0., 0., 0., 0., 0., 0., 0., 0., 0., 0., 0., 0., 0., 0., 0., 0.,\n",
       "       0., 0., 0., 0., 0., 0., 0., 0., 0., 0., 0., 0., 0., 0., 0., 0., 0.,\n",
       "       0., 0., 0., 0., 0., 0., 0., 0., 0., 0., 0., 0., 0., 0., 0., 0., 0.,\n",
       "       0., 0., 0., 0., 0., 0., 0., 0., 0., 0., 0., 0., 0., 0., 0., 0., 0.,\n",
       "       0., 0., 0., 0., 0., 0., 0., 0., 0., 0., 0., 0., 0., 0., 0., 0., 0.,\n",
       "       0., 0., 0., 0., 0., 0., 0., 0., 0., 0., 0., 0., 0., 0., 0., 0., 0.,\n",
       "       0., 0., 0., 0., 0., 0., 0., 0., 0., 0., 0., 0., 0., 0., 0., 0., 0.,\n",
       "       0., 0., 0., 0., 0., 0., 0., 0., 0., 0., 0., 0., 0., 0., 0., 0., 0.,\n",
       "       0., 0., 0., 0., 0., 0., 0., 0., 0., 0., 0., 0., 0., 0., 0., 0., 0.,\n",
       "       0., 0., 0., 0., 0., 0., 0., 0., 0., 0., 0., 0., 0., 0., 0., 0., 0.,\n",
       "       0., 0., 0., 0., 0., 0., 0., 0., 0., 0., 0., 0., 0., 0., 0., 0., 0.,\n",
       "       0., 0., 0., 0., 0., 0., 0., 0., 0., 0., 0.], dtype=float32)"
      ]
     },
     "execution_count": 16,
     "metadata": {},
     "output_type": "execute_result"
    }
   ],
   "source": [
    "biases"
   ]
  },
  {
   "cell_type": "code",
   "execution_count": 17,
   "metadata": {},
   "outputs": [
    {
     "data": {
      "text/plain": [
       "(300,)"
      ]
     },
     "execution_count": 17,
     "metadata": {},
     "output_type": "execute_result"
    }
   ],
   "source": [
    "biases.shape"
   ]
  },
  {
   "cell_type": "markdown",
   "metadata": {},
   "source": [
    "Note that Dense layer initialized connection weights randomly (required to break symmetry) and biases to zeros. Can use ```kernel_initializer``` and ```bias_initializer``` to tweak these.\n",
    "\n",
    "### Compiling the model"
   ]
  },
  {
   "cell_type": "code",
   "execution_count": 18,
   "metadata": {},
   "outputs": [],
   "source": [
    "model.compile(loss=\"sparse_categorical_crossentropy\",\n",
    "              optimizer=\"sgd\",\n",
    "              metrics=[\"accuracy\"])"
   ]
  },
  {
   "cell_type": "markdown",
   "metadata": {},
   "source": [
    "### Training and evaluating the model"
   ]
  },
  {
   "cell_type": "code",
   "execution_count": 19,
   "metadata": {
    "scrolled": true
   },
   "outputs": [
    {
     "name": "stdout",
     "output_type": "stream",
     "text": [
      "Epoch 1/30\n",
      "1719/1719 [==============================] - 6s 3ms/step - loss: 0.7112 - accuracy: 0.7661 - val_loss: 0.5294 - val_accuracy: 0.8186\n",
      "Epoch 2/30\n",
      "1719/1719 [==============================] - 8s 4ms/step - loss: 0.4881 - accuracy: 0.8302 - val_loss: 0.4503 - val_accuracy: 0.8458\n",
      "Epoch 3/30\n",
      "1719/1719 [==============================] - 8s 4ms/step - loss: 0.4430 - accuracy: 0.8443 - val_loss: 0.4204 - val_accuracy: 0.8520\n",
      "Epoch 4/30\n",
      "1719/1719 [==============================] - 9s 5ms/step - loss: 0.4137 - accuracy: 0.8546 - val_loss: 0.3966 - val_accuracy: 0.8654\n",
      "Epoch 5/30\n",
      "1719/1719 [==============================] - 8s 5ms/step - loss: 0.3939 - accuracy: 0.8608 - val_loss: 0.3785 - val_accuracy: 0.8698\n",
      "Epoch 6/30\n",
      "1719/1719 [==============================] - 7s 4ms/step - loss: 0.3774 - accuracy: 0.8671 - val_loss: 0.3904 - val_accuracy: 0.8638\n",
      "Epoch 7/30\n",
      "1719/1719 [==============================] - 7s 4ms/step - loss: 0.3631 - accuracy: 0.8714 - val_loss: 0.3603 - val_accuracy: 0.8720\n",
      "Epoch 8/30\n",
      "1719/1719 [==============================] - 8s 5ms/step - loss: 0.3522 - accuracy: 0.8747 - val_loss: 0.3594 - val_accuracy: 0.8746\n",
      "Epoch 9/30\n",
      "1719/1719 [==============================] - 6s 3ms/step - loss: 0.3400 - accuracy: 0.8788 - val_loss: 0.3593 - val_accuracy: 0.8728\n",
      "Epoch 10/30\n",
      "1719/1719 [==============================] - 6s 4ms/step - loss: 0.3307 - accuracy: 0.8815 - val_loss: 0.3775 - val_accuracy: 0.8630\n",
      "Epoch 11/30\n",
      "1719/1719 [==============================] - 7s 4ms/step - loss: 0.3225 - accuracy: 0.8841 - val_loss: 0.3464 - val_accuracy: 0.8776\n",
      "Epoch 12/30\n",
      "1719/1719 [==============================] - 6s 4ms/step - loss: 0.3140 - accuracy: 0.8871 - val_loss: 0.3237 - val_accuracy: 0.8862\n",
      "Epoch 13/30\n",
      "1719/1719 [==============================] - 6s 3ms/step - loss: 0.3062 - accuracy: 0.8893 - val_loss: 0.3330 - val_accuracy: 0.8804\n",
      "Epoch 14/30\n",
      "1719/1719 [==============================] - 6s 3ms/step - loss: 0.2996 - accuracy: 0.8929 - val_loss: 0.3362 - val_accuracy: 0.8796\n",
      "Epoch 15/30\n",
      "1719/1719 [==============================] - 6s 4ms/step - loss: 0.2926 - accuracy: 0.8953 - val_loss: 0.3267 - val_accuracy: 0.8852\n",
      "Epoch 16/30\n",
      "1719/1719 [==============================] - 6s 4ms/step - loss: 0.2877 - accuracy: 0.8956 - val_loss: 0.3107 - val_accuracy: 0.8918\n",
      "Epoch 17/30\n",
      "1719/1719 [==============================] - 7s 4ms/step - loss: 0.2815 - accuracy: 0.8979 - val_loss: 0.3168 - val_accuracy: 0.8888\n",
      "Epoch 18/30\n",
      "1719/1719 [==============================] - 6s 4ms/step - loss: 0.2762 - accuracy: 0.9004 - val_loss: 0.3051 - val_accuracy: 0.8924\n",
      "Epoch 19/30\n",
      "1719/1719 [==============================] - 6s 4ms/step - loss: 0.2705 - accuracy: 0.9016 - val_loss: 0.3076 - val_accuracy: 0.8902\n",
      "Epoch 20/30\n",
      "1719/1719 [==============================] - 6s 4ms/step - loss: 0.2656 - accuracy: 0.9049 - val_loss: 0.3160 - val_accuracy: 0.8840\n",
      "Epoch 21/30\n",
      "1719/1719 [==============================] - 7s 4ms/step - loss: 0.2607 - accuracy: 0.9063 - val_loss: 0.3049 - val_accuracy: 0.8928\n",
      "Epoch 22/30\n",
      "1719/1719 [==============================] - 6s 4ms/step - loss: 0.2555 - accuracy: 0.9079 - val_loss: 0.2971 - val_accuracy: 0.8938\n",
      "Epoch 23/30\n",
      "1719/1719 [==============================] - 6s 4ms/step - loss: 0.2511 - accuracy: 0.9095 - val_loss: 0.2955 - val_accuracy: 0.8952\n",
      "Epoch 24/30\n",
      "1719/1719 [==============================] - 6s 4ms/step - loss: 0.2472 - accuracy: 0.9115 - val_loss: 0.3264 - val_accuracy: 0.8820\n",
      "Epoch 25/30\n",
      "1719/1719 [==============================] - 6s 4ms/step - loss: 0.2432 - accuracy: 0.9133 - val_loss: 0.3124 - val_accuracy: 0.8868\n",
      "Epoch 26/30\n",
      "1719/1719 [==============================] - 6s 4ms/step - loss: 0.2386 - accuracy: 0.9141 - val_loss: 0.3058 - val_accuracy: 0.8950\n",
      "Epoch 27/30\n",
      "1719/1719 [==============================] - 7s 4ms/step - loss: 0.2347 - accuracy: 0.9158 - val_loss: 0.3006 - val_accuracy: 0.8926\n",
      "Epoch 28/30\n",
      "1719/1719 [==============================] - 7s 4ms/step - loss: 0.2296 - accuracy: 0.9174 - val_loss: 0.2999 - val_accuracy: 0.8948\n",
      "Epoch 29/30\n",
      "1719/1719 [==============================] - 7s 4ms/step - loss: 0.2271 - accuracy: 0.9185 - val_loss: 0.2961 - val_accuracy: 0.8932\n",
      "Epoch 30/30\n",
      "1719/1719 [==============================] - 7s 4ms/step - loss: 0.2229 - accuracy: 0.9193 - val_loss: 0.2913 - val_accuracy: 0.8974\n"
     ]
    }
   ],
   "source": [
    "history = model.fit(X_train, y_train, epochs=30,\n",
    "                    validation_data=(X_valid, y_valid))"
   ]
  },
  {
   "cell_type": "code",
   "execution_count": 20,
   "metadata": {},
   "outputs": [
    {
     "data": {
      "image/png": "[encoded data removed]",
      "text/plain": [
       "<Figure size 1080x360 with 1 Axes>"
      ]
     },
     "metadata": {
      "needs_background": "light"
     },
     "output_type": "display_data"
    }
   ],
   "source": [
    "import pandas as pd\n",
    "import matplotlib.pyplot as plt\n",
    "\n",
    "pd.DataFrame(history.history).plot(figsize=(15, 5))\n",
    "plt.grid(True)\n",
    "plt.gca().set_ylim(0,1)\n",
    "plt.show()"
   ]
  },
  {
   "cell_type": "markdown",
   "metadata": {},
   "source": [
    "looking good! training and validation accuracy steadily increase while training and validation loss decrease. validation curves are also close to training curves, indicating that overfitting doesn't look like a concern."
   ]
  },
  {
   "cell_type": "code",
   "execution_count": 21,
   "metadata": {},
   "outputs": [
    {
     "name": "stdout",
     "output_type": "stream",
     "text": [
      "313/313 [==============================] - 1s 2ms/step - loss: 69.8053 - accuracy: 0.8373\n"
     ]
    },
    {
     "data": {
      "text/plain": [
       "[69.8053207397461, 0.8373000025749207]"
      ]
     },
     "execution_count": 21,
     "metadata": {},
     "output_type": "execute_result"
    }
   ],
   "source": [
    "model.evaluate(X_test, y_test)"
   ]
  },
  {
   "cell_type": "markdown",
   "metadata": {},
   "source": [
    "### Using the model to make predictions"
   ]
  },
  {
   "cell_type": "code",
   "execution_count": 22,
   "metadata": {},
   "outputs": [
    {
     "data": {
      "text/plain": [
       "array([[0., 0., 0., 0., 0., 0., 0., 0., 0., 1.],\n",
       "       [0., 0., 1., 0., 0., 0., 0., 0., 0., 0.],\n",
       "       [0., 1., 0., 0., 0., 0., 0., 0., 0., 0.]], dtype=float32)"
      ]
     },
     "execution_count": 22,
     "metadata": {},
     "output_type": "execute_result"
    }
   ],
   "source": [
    "X_new = X_test[:3]\n",
    "y_proba = model.predict(X_new)\n",
    "y_proba.round(2)"
   ]
  },
  {
   "cell_type": "code",
   "execution_count": 23,
   "metadata": {},
   "outputs": [
    {
     "name": "stdout",
     "output_type": "stream",
     "text": [
      "WARNING:tensorflow:From <ipython-input-23-81ace37e545f>:1: Sequential.predict_classes (from tensorflow.python.keras.engine.sequential) is deprecated and will be removed after 2021-01-01.\n",
      "Instructions for updating:\n",
      "Please use instead:* `np.argmax(model.predict(x), axis=-1)`,   if your model does multi-class classification   (e.g. if it uses a `softmax` last-layer activation).* `(model.predict(x) > 0.5).astype(\"int32\")`,   if your model does binary classification   (e.g. if it uses a `sigmoid` last-layer activation).\n"
     ]
    },
    {
     "data": {
      "text/plain": [
       "array([9, 2, 1])"
      ]
     },
     "execution_count": 23,
     "metadata": {},
     "output_type": "execute_result"
    }
   ],
   "source": [
    "y_pred = model.predict_classes(X_new)\n",
    "y_pred"
   ]
  },
  {
   "cell_type": "code",
   "execution_count": 24,
   "metadata": {},
   "outputs": [
    {
     "data": {
      "text/plain": [
       "array(['Ankle boot', 'Pullover', 'Trouser'], dtype='<U11')"
      ]
     },
     "execution_count": 24,
     "metadata": {},
     "output_type": "execute_result"
    }
   ],
   "source": [
    "np.array(class_names)[y_pred]"
   ]
  },
  {
   "cell_type": "code",
   "execution_count": 25,
   "metadata": {},
   "outputs": [
    {
     "data": {
      "text/plain": [
       "array([9, 2, 1], dtype=uint8)"
      ]
     },
     "execution_count": 25,
     "metadata": {},
     "output_type": "execute_result"
    }
   ],
   "source": [
    "y_new = y_test[:3]\n",
    "y_new"
   ]
  },
  {
   "cell_type": "markdown",
   "metadata": {},
   "source": [
    "## Building a Regression MLP Using the Sequential API"
   ]
  },
  {
   "cell_type": "code",
   "execution_count": 26,
   "metadata": {},
   "outputs": [],
   "source": [
    "from sklearn.datasets import fetch_california_housing\n",
    "from sklearn.model_selection import train_test_split\n",
    "from sklearn.preprocessing import StandardScaler\n",
    "\n",
    "housing = fetch_california_housing()\n",
    "X_train_full, X_test, y_train_full, y_test = train_test_split(\n",
    "    housing.data, housing.target)\n",
    "X_train, X_valid, y_train, y_valid = train_test_split(\n",
    "    X_train_full, y_train_full)\n",
    "\n",
    "scaler = StandardScaler()\n",
    "X_train = scaler.fit_transform(X_train)\n",
    "X_valid = scaler.transform(X_valid)\n",
    "X_test = scaler.transform(X_test)"
   ]
  },
  {
   "cell_type": "code",
   "execution_count": 27,
   "metadata": {
    "scrolled": true
   },
   "outputs": [
    {
     "name": "stdout",
     "output_type": "stream",
     "text": [
      "Epoch 1/20\n",
      "363/363 [==============================] - 1s 1ms/step - loss: 0.8937 - val_loss: 0.5778\n",
      "Epoch 2/20\n",
      "363/363 [==============================] - 0s 1ms/step - loss: 0.4849 - val_loss: 0.5303\n",
      "Epoch 3/20\n",
      "363/363 [==============================] - 0s 1ms/step - loss: 0.4559 - val_loss: 0.5053\n",
      "Epoch 4/20\n",
      "363/363 [==============================] - 0s 1ms/step - loss: 0.4382 - val_loss: 0.5060\n",
      "Epoch 5/20\n",
      "363/363 [==============================] - 0s 1ms/step - loss: 0.4330 - val_loss: 0.5211\n",
      "Epoch 6/20\n",
      "363/363 [==============================] - 0s 1ms/step - loss: 0.4222 - val_loss: 0.4773\n",
      "Epoch 7/20\n",
      "363/363 [==============================] - 0s 1ms/step - loss: 0.4164 - val_loss: 0.4657\n",
      "Epoch 8/20\n",
      "363/363 [==============================] - 0s 1ms/step - loss: 0.4206 - val_loss: 0.4735\n",
      "Epoch 9/20\n",
      "363/363 [==============================] - 0s 1ms/step - loss: 0.4065 - val_loss: 0.4547\n",
      "Epoch 10/20\n",
      "363/363 [==============================] - 0s 1ms/step - loss: 0.4040 - val_loss: 0.4492\n",
      "Epoch 11/20\n",
      "363/363 [==============================] - 0s 1ms/step - loss: 0.3965 - val_loss: 0.4505\n",
      "Epoch 12/20\n",
      "363/363 [==============================] - 0s 1ms/step - loss: 0.3940 - val_loss: 0.4481\n",
      "Epoch 13/20\n",
      "363/363 [==============================] - 0s 1ms/step - loss: 0.3914 - val_loss: 0.4471\n",
      "Epoch 14/20\n",
      "363/363 [==============================] - 0s 1ms/step - loss: 0.3867 - val_loss: 0.4348\n",
      "Epoch 15/20\n",
      "363/363 [==============================] - 0s 1ms/step - loss: 0.3869 - val_loss: 0.4478\n",
      "Epoch 16/20\n",
      "363/363 [==============================] - 0s 1ms/step - loss: 0.3830 - val_loss: 0.4304\n",
      "Epoch 17/20\n",
      "363/363 [==============================] - 0s 1ms/step - loss: 0.3787 - val_loss: 0.4346\n",
      "Epoch 18/20\n",
      "363/363 [==============================] - 1s 1ms/step - loss: 0.3783 - val_loss: 0.4200\n",
      "Epoch 19/20\n",
      "363/363 [==============================] - 0s 1ms/step - loss: 0.3704 - val_loss: 0.4220\n",
      "Epoch 20/20\n",
      "363/363 [==============================] - 0s 1ms/step - loss: 0.3696 - val_loss: 0.4132\n"
     ]
    }
   ],
   "source": [
    "model = keras.models.Sequential([\n",
    "    keras.layers.Dense(30, activation=\"relu\", input_shape=X_train.shape[1:]),\n",
    "    keras.layers.Dense(1)\n",
    "])\n",
    "model.compile(loss=\"mean_squared_error\", optimizer=\"sgd\")\n",
    "history = model.fit(X_train, y_train, epochs=20,\n",
    "                    validation_data=(X_valid, y_valid))"
   ]
  },
  {
   "cell_type": "code",
   "execution_count": 28,
   "metadata": {},
   "outputs": [
    {
     "name": "stdout",
     "output_type": "stream",
     "text": [
      "162/162 [==============================] - 0s 752us/step - loss: 0.3825\n"
     ]
    }
   ],
   "source": [
    "mse_test = model.evaluate(X_test, y_test)\n",
    "X_new = X_test[:3] # \"pretending\" these are new instances\n",
    "y_pred = model.predict(X_new)"
   ]
  },
  {
   "cell_type": "markdown",
   "metadata": {},
   "source": [
    "## Building Complex Models Using the Functional API"
   ]
  },
  {
   "cell_type": "code",
   "execution_count": 29,
   "metadata": {},
   "outputs": [],
   "source": [
    "# wide and deep\n",
    "input_ = keras.layers.Input(shape=X_train.shape[1:])\n",
    "hidden1 = keras.layers.Dense(30, activation=\"relu\")(input_)\n",
    "hidden2 = keras.layers.Dense(30, activation=\"relu\")(hidden1)\n",
    "concat = keras.layers.Concatenate()([input_, hidden2])\n",
    "output = keras.layers.Dense(1)(concat)\n",
    "model = keras.Model(inputs=[input_], outputs=[output])"
   ]
  },
  {
   "cell_type": "code",
   "execution_count": 30,
   "metadata": {},
   "outputs": [
    {
     "data": {
      "image/png": "[encoded data removed]",
      "text/plain": [
       "<IPython.core.display.Image object>"
      ]
     },
     "execution_count": 30,
     "metadata": {},
     "output_type": "execute_result"
    }
   ],
   "source": [
    "keras.utils.plot_model(model)"
   ]
  },
  {
   "cell_type": "markdown",
   "metadata": {},
   "source": [
    "can also send a subset of features through wide and another subset through deep, like below"
   ]
  },
  {
   "cell_type": "code",
   "execution_count": 31,
   "metadata": {},
   "outputs": [],
   "source": [
    "input_A = keras.layers.Input(shape=[5], name=\"wide_input\")\n",
    "input_B = keras.layers.Input(shape=[6], name=\"deep_input\")\n",
    "hidden1 = keras.layers.Dense(30, activation=\"relu\")(input_B)\n",
    "hidden2 = keras.layers.Dense(30, activation=\"relu\")(hidden1)\n",
    "concat = keras.layers.concatenate([input_A, hidden2])\n",
    "output = keras.layers.Dense(1, name=\"output\")(concat)\n",
    "model = keras.Model(inputs=[input_A, input_B], outputs=[output])"
   ]
  },
  {
   "cell_type": "code",
   "execution_count": 32,
   "metadata": {},
   "outputs": [
    {
     "data": {
      "image/png": "[encoded data removed]",
      "text/plain": [
       "<IPython.core.display.Image object>"
      ]
     },
     "execution_count": 32,
     "metadata": {},
     "output_type": "execute_result"
    }
   ],
   "source": [
    "keras.utils.plot_model(model)"
   ]
  },
  {
   "cell_type": "code",
   "execution_count": 33,
   "metadata": {
    "scrolled": true
   },
   "outputs": [
    {
     "name": "stdout",
     "output_type": "stream",
     "text": [
      "Epoch 1/20\n",
      "363/363 [==============================] - 1s 1ms/step - loss: 2.3431 - val_loss: 1.0787\n",
      "Epoch 2/20\n",
      "363/363 [==============================] - 0s 1ms/step - loss: 0.8921 - val_loss: 0.8433\n",
      "Epoch 3/20\n",
      "363/363 [==============================] - 0s 1ms/step - loss: 0.7509 - val_loss: 0.7662\n",
      "Epoch 4/20\n",
      "363/363 [==============================] - 0s 1ms/step - loss: 0.6878 - val_loss: 0.7193\n",
      "Epoch 5/20\n",
      "363/363 [==============================] - 0s 1ms/step - loss: 0.6472 - val_loss: 0.6873\n",
      "Epoch 6/20\n",
      "363/363 [==============================] - 0s 1ms/step - loss: 0.6173 - val_loss: 0.6622\n",
      "Epoch 7/20\n",
      "363/363 [==============================] - 0s 1ms/step - loss: 0.5939 - val_loss: 0.6428\n",
      "Epoch 8/20\n",
      "363/363 [==============================] - 1s 2ms/step - loss: 0.5752 - val_loss: 0.6268\n",
      "Epoch 9/20\n",
      "363/363 [==============================] - 1s 2ms/step - loss: 0.5599 - val_loss: 0.6151\n",
      "Epoch 10/20\n",
      "363/363 [==============================] - 1s 2ms/step - loss: 0.5479 - val_loss: 0.6033\n",
      "Epoch 11/20\n",
      "363/363 [==============================] - 1s 2ms/step - loss: 0.5377 - val_loss: 0.5948\n",
      "Epoch 12/20\n",
      "363/363 [==============================] - 1s 2ms/step - loss: 0.5292 - val_loss: 0.5886\n",
      "Epoch 13/20\n",
      "363/363 [==============================] - 1s 1ms/step - loss: 0.5221 - val_loss: 0.5811\n",
      "Epoch 14/20\n",
      "363/363 [==============================] - 0s 1ms/step - loss: 0.5167 - val_loss: 0.5757\n",
      "Epoch 15/20\n",
      "363/363 [==============================] - 0s 1ms/step - loss: 0.5115 - val_loss: 0.5713\n",
      "Epoch 16/20\n",
      "363/363 [==============================] - 1s 3ms/step - loss: 0.5071 - val_loss: 0.5674\n",
      "Epoch 17/20\n",
      "363/363 [==============================] - 1s 2ms/step - loss: 0.5027 - val_loss: 0.5636\n",
      "Epoch 18/20\n",
      "363/363 [==============================] - 1s 2ms/step - loss: 0.4989 - val_loss: 0.5593\n",
      "Epoch 19/20\n",
      "363/363 [==============================] - 1s 2ms/step - loss: 0.4953 - val_loss: 0.5555\n",
      "Epoch 20/20\n",
      "363/363 [==============================] - 1s 2ms/step - loss: 0.4920 - val_loss: 0.5523\n",
      "162/162 [==============================] - 0s 2ms/step - loss: 0.5070\n"
     ]
    }
   ],
   "source": [
    "model.compile(loss=\"mse\", optimizer=keras.optimizers.SGD(lr=1e-3))\n",
    "\n",
    "X_train_A, X_train_B = X_train[:, :5], X_train[:, 2:]\n",
    "X_valid_A, X_valid_B = X_valid[:, :5], X_valid[:, 2:]\n",
    "X_test_A, X_test_B = X_test[:, :5], X_test[:, 2:]\n",
    "X_new_A, X_new_B = X_test_A[:3], X_test_B[:3]\n",
    "\n",
    "history = model.fit((X_train_A, X_train_B), y_train, epochs=20,\n",
    "                    validation_data=((X_valid_A, X_valid_B), y_valid))\n",
    "mse_test = model.evaluate((X_test_A, X_test_B), y_test)\n",
    "y_pred = model.predict((X_new_A, X_new_B))"
   ]
  },
  {
   "cell_type": "markdown",
   "metadata": {},
   "source": [
    "add extra outputs!"
   ]
  },
  {
   "cell_type": "code",
   "execution_count": 34,
   "metadata": {},
   "outputs": [],
   "source": [
    "input_A = keras.layers.Input(shape=[5], name=\"wide_input\")\n",
    "input_B = keras.layers.Input(shape=[6], name=\"deep_input\")\n",
    "hidden1 = keras.layers.Dense(30, activation=\"relu\")(input_B)\n",
    "hidden2 = keras.layers.Dense(30, activation=\"relu\")(hidden1)\n",
    "concat = keras.layers.concatenate([input_A, hidden2])\n",
    "output = keras.layers.Dense(1, name=\"main_output\")(concat)\n",
    "aux_output = keras.layers.Dense(1, name=\"aux_output\")(hidden2)\n",
    "model = keras.Model(inputs=[input_A, input_B], outputs=[output, aux_output])"
   ]
  },
  {
   "cell_type": "code",
   "execution_count": 35,
   "metadata": {},
   "outputs": [
    {
     "data": {
      "image/png": "[encoded data removed]",
      "text/plain": [
       "<IPython.core.display.Image object>"
      ]
     },
     "execution_count": 35,
     "metadata": {},
     "output_type": "execute_result"
    }
   ],
   "source": [
    "keras.utils.plot_model(model)"
   ]
  },
  {
   "cell_type": "markdown",
   "metadata": {},
   "source": [
    "each output needs its own loss function"
   ]
  },
  {
   "cell_type": "code",
   "execution_count": 36,
   "metadata": {
    "scrolled": true
   },
   "outputs": [
    {
     "name": "stdout",
     "output_type": "stream",
     "text": [
      "Epoch 1/20\n",
      "363/363 [==============================] - 1s 3ms/step - loss: 0.9355 - main_output_loss: 0.8515 - aux_output_loss: 1.6915 - val_loss: 0.6652 - val_main_output_loss: 0.5956 - val_aux_output_loss: 1.2916\n",
      "Epoch 2/20\n",
      "363/363 [==============================] - 1s 3ms/step - loss: 0.5674 - main_output_loss: 0.5071 - aux_output_loss: 1.1094 - val_loss: 0.6025 - val_main_output_loss: 0.5513 - val_aux_output_loss: 1.0633\n",
      "Epoch 3/20\n",
      "363/363 [==============================] - 1s 2ms/step - loss: 0.5239 - main_output_loss: 0.4782 - aux_output_loss: 0.9355 - val_loss: 0.5647 - val_main_output_loss: 0.5265 - val_aux_output_loss: 0.9080\n",
      "Epoch 4/20\n",
      "363/363 [==============================] - 1s 2ms/step - loss: 0.4990 - main_output_loss: 0.4630 - aux_output_loss: 0.8231 - val_loss: 0.5439 - val_main_output_loss: 0.5136 - val_aux_output_loss: 0.8174\n",
      "Epoch 5/20\n",
      "363/363 [==============================] - 1s 2ms/step - loss: 0.4829 - main_output_loss: 0.4529 - aux_output_loss: 0.7529 - val_loss: 0.5268 - val_main_output_loss: 0.5008 - val_aux_output_loss: 0.7617\n",
      "Epoch 6/20\n",
      "363/363 [==============================] - 1s 2ms/step - loss: 0.4726 - main_output_loss: 0.4463 - aux_output_loss: 0.7092 - val_loss: 0.5225 - val_main_output_loss: 0.5014 - val_aux_output_loss: 0.7119\n",
      "Epoch 7/20\n",
      "363/363 [==============================] - 1s 2ms/step - loss: 0.4623 - main_output_loss: 0.4386 - aux_output_loss: 0.6762 - val_loss: 0.5076 - val_main_output_loss: 0.4865 - val_aux_output_loss: 0.6980\n",
      "Epoch 8/20\n",
      "363/363 [==============================] - 1s 2ms/step - loss: 0.4556 - main_output_loss: 0.4333 - aux_output_loss: 0.6562 - val_loss: 0.5001 - val_main_output_loss: 0.4814 - val_aux_output_loss: 0.6682\n",
      "Epoch 9/20\n",
      "363/363 [==============================] - 1s 2ms/step - loss: 0.4472 - main_output_loss: 0.4261 - aux_output_loss: 0.6371 - val_loss: 0.4965 - val_main_output_loss: 0.4775 - val_aux_output_loss: 0.6672\n",
      "Epoch 10/20\n",
      "363/363 [==============================] - 1s 2ms/step - loss: 0.4407 - main_output_loss: 0.4206 - aux_output_loss: 0.6222 - val_loss: 0.4883 - val_main_output_loss: 0.4720 - val_aux_output_loss: 0.6353\n",
      "Epoch 11/20\n",
      "363/363 [==============================] - 1s 2ms/step - loss: 0.4343 - main_output_loss: 0.4149 - aux_output_loss: 0.6080 - val_loss: 0.4761 - val_main_output_loss: 0.4596 - val_aux_output_loss: 0.6251\n",
      "Epoch 12/20\n",
      "363/363 [==============================] - 1s 2ms/step - loss: 0.4260 - main_output_loss: 0.4073 - aux_output_loss: 0.5951 - val_loss: 0.4743 - val_main_output_loss: 0.4584 - val_aux_output_loss: 0.6172\n",
      "Epoch 13/20\n",
      "363/363 [==============================] - 1s 2ms/step - loss: 0.4215 - main_output_loss: 0.4038 - aux_output_loss: 0.5811 - val_loss: 0.4612 - val_main_output_loss: 0.4454 - val_aux_output_loss: 0.6030\n",
      "Epoch 14/20\n",
      "363/363 [==============================] - 1s 2ms/step - loss: 0.4152 - main_output_loss: 0.3977 - aux_output_loss: 0.5722 - val_loss: 0.4559 - val_main_output_loss: 0.4416 - val_aux_output_loss: 0.5844\n",
      "Epoch 15/20\n",
      "363/363 [==============================] - 1s 2ms/step - loss: 0.4101 - main_output_loss: 0.3931 - aux_output_loss: 0.5631 - val_loss: 0.4577 - val_main_output_loss: 0.4453 - val_aux_output_loss: 0.5702\n",
      "Epoch 16/20\n",
      "363/363 [==============================] - 1s 2ms/step - loss: 0.4033 - main_output_loss: 0.3869 - aux_output_loss: 0.5510 - val_loss: 0.4429 - val_main_output_loss: 0.4297 - val_aux_output_loss: 0.5613\n",
      "Epoch 17/20\n",
      "363/363 [==============================] - 1s 2ms/step - loss: 0.3993 - main_output_loss: 0.3835 - aux_output_loss: 0.5410 - val_loss: 0.4398 - val_main_output_loss: 0.4270 - val_aux_output_loss: 0.5547\n",
      "Epoch 18/20\n",
      "363/363 [==============================] - 1s 2ms/step - loss: 0.3922 - main_output_loss: 0.3766 - aux_output_loss: 0.5325 - val_loss: 0.4298 - val_main_output_loss: 0.4176 - val_aux_output_loss: 0.5391\n",
      "Epoch 19/20\n",
      "363/363 [==============================] - 1s 2ms/step - loss: 0.3851 - main_output_loss: 0.3702 - aux_output_loss: 0.5199 - val_loss: 0.4355 - val_main_output_loss: 0.4227 - val_aux_output_loss: 0.5505\n",
      "Epoch 20/20\n",
      "363/363 [==============================] - 1s 2ms/step - loss: 0.3828 - main_output_loss: 0.3680 - aux_output_loss: 0.5153 - val_loss: 0.4159 - val_main_output_loss: 0.4040 - val_aux_output_loss: 0.5227\n"
     ]
    }
   ],
   "source": [
    "model.compile(loss=[\"mse\", \"mse\"], loss_weights=[0.9, 0.1], optimizer=\"sgd\")\n",
    "history = model.fit(\n",
    "    [X_train_A, X_train_B], [y_train, y_train], epochs=20,\n",
    "    validation_data=([X_valid_A, X_valid_B], [y_valid, y_valid]))"
   ]
  },
  {
   "cell_type": "code",
   "execution_count": 37,
   "metadata": {},
   "outputs": [
    {
     "name": "stdout",
     "output_type": "stream",
     "text": [
      "162/162 [==============================] - 0s 1ms/step - loss: 0.3877 - main_output_loss: 0.3761 - aux_output_loss: 0.4925\n"
     ]
    }
   ],
   "source": [
    "total_loss, main_loss, aux_loss = model.evaluate(\n",
    "    [X_test_A, X_test_B], [y_test, y_test])"
   ]
  },
  {
   "cell_type": "code",
   "execution_count": 38,
   "metadata": {},
   "outputs": [],
   "source": [
    "y_pred_main, y_pred_aux = model.predict([X_new_A, X_new_B])"
   ]
  },
  {
   "cell_type": "markdown",
   "metadata": {},
   "source": [
    "## Using the Subclassing API to Build Dynamic Models"
   ]
  },
  {
   "cell_type": "code",
   "execution_count": 39,
   "metadata": {},
   "outputs": [],
   "source": [
    "class WideAndDeepModel(keras.Model):\n",
    "    def __init__(self, units=30, activation=\"relu\", **kwargs):\n",
    "        super().__init__(**kwargs) # for standard args like name\n",
    "        self.hidden1 = keras.layers.Dense(units, activation=activation)\n",
    "        self.hidden2 = keras.layers.Dense(units, activation=activation)\n",
    "        self.main_output = keras.layers.Dense(1)\n",
    "        self.aux_output = keras.layers.Dense(1)\n",
    "    \n",
    "    def call(self, inputs):\n",
    "        input_A, input_B = inputs\n",
    "        hidden1 = self.hidden1(input_B)\n",
    "        hidden2 = self.hidden2(hidden1)\n",
    "        concat = keras.layers.concatenate([input_A, hidden2])\n",
    "        main_output = self.main_output(concat)\n",
    "        aux_output = self.aux_output(hidden2)\n",
    "        return main_output, aux_output\n",
    "\n",
    "model = WideAndDeepModel()"
   ]
  },
  {
   "cell_type": "code",
   "execution_count": 40,
   "metadata": {},
   "outputs": [
    {
     "data": {
      "image/png": "[encoded data removed]",
      "text/plain": [
       "<IPython.core.display.Image object>"
      ]
     },
     "execution_count": 40,
     "metadata": {},
     "output_type": "execute_result"
    }
   ],
   "source": [
    "keras.utils.plot_model(model)"
   ]
  },
  {
   "cell_type": "markdown",
   "metadata": {},
   "source": [
    "notice that using the subclassing API makes it so that keras can't see as many details about the model so easily! in the next section, we learn to save and restore a model; note that this does not work with the subclassing API. however, subclassing can make it easy to do many things within the call method (loops, etc.), so this is the tradeoff we have.\n",
    "\n",
    "## Saving and Restoring a Model"
   ]
  },
  {
   "cell_type": "code",
   "execution_count": 41,
   "metadata": {
    "scrolled": true
   },
   "outputs": [
    {
     "name": "stdout",
     "output_type": "stream",
     "text": [
      "Epoch 1/20\n",
      "363/363 [==============================] - 0s 1ms/step - loss: 0.9578 - val_loss: 0.5298\n",
      "Epoch 2/20\n",
      "363/363 [==============================] - 0s 1ms/step - loss: 0.5480 - val_loss: 0.4559\n",
      "Epoch 3/20\n",
      "363/363 [==============================] - 0s 1ms/step - loss: 0.4901 - val_loss: 0.4382\n",
      "Epoch 4/20\n",
      "363/363 [==============================] - 0s 1ms/step - loss: 0.4812 - val_loss: 0.4277\n",
      "Epoch 5/20\n",
      "363/363 [==============================] - 0s 1ms/step - loss: 0.4586 - val_loss: 0.4176\n",
      "Epoch 6/20\n",
      "363/363 [==============================] - 0s 1ms/step - loss: 0.4490 - val_loss: 0.4199\n",
      "Epoch 7/20\n",
      "363/363 [==============================] - 0s 1ms/step - loss: 0.4432 - val_loss: 0.4123\n",
      "Epoch 8/20\n",
      "363/363 [==============================] - 0s 1ms/step - loss: 0.4469 - val_loss: 0.4042\n",
      "Epoch 9/20\n",
      "363/363 [==============================] - 1s 1ms/step - loss: 0.4422 - val_loss: 0.4030\n",
      "Epoch 10/20\n",
      "363/363 [==============================] - 0s 1ms/step - loss: 0.4239 - val_loss: 0.4020\n",
      "Epoch 11/20\n",
      "363/363 [==============================] - 0s 1ms/step - loss: 0.4269 - val_loss: 0.3920\n",
      "Epoch 12/20\n",
      "363/363 [==============================] - 1s 2ms/step - loss: 0.4153 - val_loss: 0.3886\n",
      "Epoch 13/20\n",
      "363/363 [==============================] - 1s 2ms/step - loss: 0.4288 - val_loss: 0.3908\n",
      "Epoch 14/20\n",
      "363/363 [==============================] - 1s 2ms/step - loss: 0.4033 - val_loss: 0.3948\n",
      "Epoch 15/20\n",
      "363/363 [==============================] - 0s 1ms/step - loss: 0.4021 - val_loss: 0.3806\n",
      "Epoch 16/20\n",
      "363/363 [==============================] - 0s 1ms/step - loss: 0.3988 - val_loss: 0.3747\n",
      "Epoch 17/20\n",
      "363/363 [==============================] - 0s 1ms/step - loss: 0.3962 - val_loss: 0.3748\n",
      "Epoch 18/20\n",
      "363/363 [==============================] - 0s 1ms/step - loss: 0.3888 - val_loss: 0.3700\n",
      "Epoch 19/20\n",
      "363/363 [==============================] - 0s 1ms/step - loss: 0.3935 - val_loss: 0.3674\n",
      "Epoch 20/20\n",
      "363/363 [==============================] - 0s 1ms/step - loss: 0.3837 - val_loss: 0.3671\n"
     ]
    }
   ],
   "source": [
    "from sklearn.datasets import fetch_california_housing\n",
    "from sklearn.model_selection import train_test_split\n",
    "from sklearn.preprocessing import StandardScaler\n",
    "\n",
    "housing = fetch_california_housing()\n",
    "X_train_full, X_test, y_train_full, y_test = train_test_split(\n",
    "    housing.data, housing.target)\n",
    "X_train, X_valid, y_train, y_valid = train_test_split(\n",
    "    X_train_full, y_train_full)\n",
    "\n",
    "scaler = StandardScaler()\n",
    "X_train = scaler.fit_transform(X_train)\n",
    "X_valid = scaler.transform(X_valid)\n",
    "X_test = scaler.transform(X_test)\n",
    "\n",
    "model = keras.models.Sequential([\n",
    "    keras.layers.Dense(30, activation=\"relu\", input_shape=X_train.shape[1:]),\n",
    "    keras.layers.Dense(1)\n",
    "])\n",
    "model.compile(loss=\"mean_squared_error\", optimizer=\"sgd\")\n",
    "history = model.fit(X_train, y_train, epochs=20,\n",
    "                    validation_data=(X_valid, y_valid))"
   ]
  },
  {
   "cell_type": "code",
   "execution_count": 42,
   "metadata": {},
   "outputs": [],
   "source": [
    "model.save(\"my_keras_model.h5\")"
   ]
  },
  {
   "cell_type": "code",
   "execution_count": 43,
   "metadata": {},
   "outputs": [
    {
     "name": "stdout",
     "output_type": "stream",
     "text": [
      "Model: \"sequential_3\"\n",
      "_________________________________________________________________\n",
      "Layer (type)                 Output Shape              Param #   \n",
      "=================================================================\n",
      "dense_19 (Dense)             (None, 30)                270       \n",
      "_________________________________________________________________\n",
      "dense_20 (Dense)             (None, 1)                 31        \n",
      "=================================================================\n",
      "Total params: 301\n",
      "Trainable params: 301\n",
      "Non-trainable params: 0\n",
      "_________________________________________________________________\n"
     ]
    }
   ],
   "source": [
    "loaded_model = keras.models.load_model(\"my_keras_model.h5\")\n",
    "loaded_model.summary()"
   ]
  },
  {
   "cell_type": "markdown",
   "metadata": {},
   "source": [
    "## Using Callbacks\n",
    "Objects that keras will call at the start and end of training, the start and end of epochs, before/after processing a batch."
   ]
  },
  {
   "cell_type": "code",
   "execution_count": 44,
   "metadata": {
    "scrolled": true
   },
   "outputs": [
    {
     "name": "stdout",
     "output_type": "stream",
     "text": [
      "Epoch 1/10\n",
      "363/363 [==============================] - 0s 953us/step - loss: 0.3780\n",
      "Epoch 2/10\n",
      "363/363 [==============================] - 0s 965us/step - loss: 0.3836\n",
      "Epoch 3/10\n",
      "363/363 [==============================] - 0s 988us/step - loss: 0.4047\n",
      "Epoch 4/10\n",
      "363/363 [==============================] - 0s 1ms/step - loss: 0.3775\n",
      "Epoch 5/10\n",
      "363/363 [==============================] - 0s 1ms/step - loss: 0.3870\n",
      "Epoch 6/10\n",
      "363/363 [==============================] - 0s 1ms/step - loss: 0.3711\n",
      "Epoch 7/10\n",
      "363/363 [==============================] - 0s 1ms/step - loss: 0.3724\n",
      "Epoch 8/10\n",
      "363/363 [==============================] - 0s 997us/step - loss: 0.3677\n",
      "Epoch 9/10\n",
      "363/363 [==============================] - 0s 1ms/step - loss: 0.3662\n",
      "Epoch 10/10\n",
      "363/363 [==============================] - 0s 970us/step - loss: 0.3713\n"
     ]
    }
   ],
   "source": [
    "checkpoint_cb = keras.callbacks.ModelCheckpoint(\"my_keras_model.h5\")\n",
    "history = model.fit(X_train, y_train, epochs=10, callbacks=[checkpoint_cb])"
   ]
  },
  {
   "cell_type": "markdown",
   "metadata": {},
   "source": [
    "Can also use callbacks as an easy way to implement early stopping!"
   ]
  },
  {
   "cell_type": "code",
   "execution_count": 45,
   "metadata": {
    "scrolled": true
   },
   "outputs": [
    {
     "name": "stdout",
     "output_type": "stream",
     "text": [
      "Epoch 1/10\n",
      "363/363 [==============================] - 0s 1ms/step - loss: 0.3964 - val_loss: 0.3582\n",
      "Epoch 2/10\n",
      "363/363 [==============================] - 0s 1ms/step - loss: 0.3717 - val_loss: 0.3514\n",
      "Epoch 3/10\n",
      "363/363 [==============================] - 0s 1ms/step - loss: 0.3658 - val_loss: 0.3599\n",
      "Epoch 4/10\n",
      "363/363 [==============================] - 0s 1ms/step - loss: 0.3616 - val_loss: 0.3474\n",
      "Epoch 5/10\n",
      "363/363 [==============================] - 0s 1ms/step - loss: 0.3615 - val_loss: 0.3509\n",
      "Epoch 6/10\n",
      "363/363 [==============================] - 0s 1ms/step - loss: 0.3581 - val_loss: 0.3507\n",
      "Epoch 7/10\n",
      "363/363 [==============================] - 0s 1ms/step - loss: 0.3699 - val_loss: 0.3451\n",
      "Epoch 8/10\n",
      "363/363 [==============================] - 1s 1ms/step - loss: 0.3555 - val_loss: 0.3636\n",
      "Epoch 9/10\n",
      "363/363 [==============================] - 1s 2ms/step - loss: 0.3783 - val_loss: 0.3565\n",
      "Epoch 10/10\n",
      "363/363 [==============================] - 1s 2ms/step - loss: 0.3577 - val_loss: 0.3561\n"
     ]
    }
   ],
   "source": [
    "checkpoint_cb = keras.callbacks.ModelCheckpoint(\"my_keras_model.h5\",\n",
    "                                                save_best_only=True)\n",
    "history = model.fit(X_train, y_train, epochs=10,\n",
    "                    validation_data=(X_valid, y_valid),\n",
    "                    callbacks=[checkpoint_cb])\n",
    "model = keras.models.load_model(\"my_keras_model.h5\") # roll back to the best model!"
   ]
  },
  {
   "cell_type": "markdown",
   "metadata": {},
   "source": [
    "Can also directly use the ```EarlyStopping``` callback"
   ]
  },
  {
   "cell_type": "code",
   "execution_count": 46,
   "metadata": {
    "scrolled": true
   },
   "outputs": [
    {
     "name": "stdout",
     "output_type": "stream",
     "text": [
      "Epoch 1/100\n",
      "363/363 [==============================] - 1s 2ms/step - loss: 0.3560 - val_loss: 0.3485\n",
      "Epoch 2/100\n",
      "363/363 [==============================] - 0s 1ms/step - loss: 0.4289 - val_loss: 0.3862\n",
      "Epoch 3/100\n",
      "363/363 [==============================] - 1s 2ms/step - loss: 0.3881 - val_loss: 0.3683\n",
      "Epoch 4/100\n",
      "363/363 [==============================] - 1s 1ms/step - loss: 0.3757 - val_loss: 0.3565\n",
      "Epoch 5/100\n",
      "363/363 [==============================] - 1s 2ms/step - loss: 0.3600 - val_loss: 0.3514\n",
      "Epoch 6/100\n",
      "363/363 [==============================] - 1s 2ms/step - loss: 0.3550 - val_loss: 0.3606\n",
      "Epoch 7/100\n",
      "363/363 [==============================] - 1s 2ms/step - loss: 0.3527 - val_loss: 0.3457\n",
      "Epoch 8/100\n",
      "363/363 [==============================] - 1s 1ms/step - loss: 0.3504 - val_loss: 0.3638\n",
      "Epoch 9/100\n",
      "363/363 [==============================] - 0s 1ms/step - loss: 0.3614 - val_loss: 0.3440\n",
      "Epoch 10/100\n",
      "363/363 [==============================] - 1s 2ms/step - loss: 0.3476 - val_loss: 0.3406\n",
      "Epoch 11/100\n",
      "363/363 [==============================] - 1s 2ms/step - loss: 0.3558 - val_loss: 0.3541\n",
      "Epoch 12/100\n",
      "363/363 [==============================] - 1s 3ms/step - loss: 0.3482 - val_loss: 0.3417\n",
      "Epoch 13/100\n",
      "363/363 [==============================] - 1s 2ms/step - loss: 0.3448 - val_loss: 0.3474\n",
      "Epoch 14/100\n",
      "363/363 [==============================] - 1s 2ms/step - loss: 0.3410 - val_loss: 0.3463\n",
      "Epoch 15/100\n",
      "363/363 [==============================] - 1s 1ms/step - loss: 0.3387 - val_loss: 0.3349\n",
      "Epoch 16/100\n",
      "363/363 [==============================] - 0s 1ms/step - loss: 0.3434 - val_loss: 0.3531\n",
      "Epoch 17/100\n",
      "363/363 [==============================] - 0s 1ms/step - loss: 0.3437 - val_loss: 0.3363\n",
      "Epoch 18/100\n",
      "363/363 [==============================] - 1s 2ms/step - loss: 0.3380 - val_loss: 0.3319\n",
      "Epoch 19/100\n",
      "363/363 [==============================] - 0s 1ms/step - loss: 0.3388 - val_loss: 0.3399\n",
      "Epoch 20/100\n",
      "363/363 [==============================] - 1s 2ms/step - loss: 0.3428 - val_loss: 0.3454\n",
      "Epoch 21/100\n",
      "363/363 [==============================] - 1s 2ms/step - loss: 0.3363 - val_loss: 0.3452\n",
      "Epoch 22/100\n",
      "363/363 [==============================] - 1s 1ms/step - loss: 0.3344 - val_loss: 0.3351\n",
      "Epoch 23/100\n",
      "363/363 [==============================] - 1s 2ms/step - loss: 0.3628 - val_loss: 0.3572\n",
      "Epoch 24/100\n",
      "363/363 [==============================] - 1s 1ms/step - loss: 0.3636 - val_loss: 0.3378\n",
      "Epoch 25/100\n",
      "363/363 [==============================] - 1s 2ms/step - loss: 0.3502 - val_loss: 0.3376\n",
      "Epoch 26/100\n",
      "363/363 [==============================] - 1s 2ms/step - loss: 0.3332 - val_loss: 0.3383\n",
      "Epoch 27/100\n",
      "363/363 [==============================] - 0s 1ms/step - loss: 0.3305 - val_loss: 0.3359\n",
      "Epoch 28/100\n",
      "363/363 [==============================] - 1s 1ms/step - loss: 0.3295 - val_loss: 0.3426\n"
     ]
    }
   ],
   "source": [
    "early_stopping_cb = keras.callbacks.EarlyStopping(patience=10,\n",
    "                                                  restore_best_weights=True)\n",
    "history = model.fit(X_train, y_train, epochs=100,\n",
    "                    validation_data=(X_valid, y_valid),\n",
    "                    callbacks=[checkpoint_cb, early_stopping_cb])"
   ]
  },
  {
   "cell_type": "markdown",
   "metadata": {},
   "source": [
    "can also write custom callbacks! these can be useful for debugging (e.g. on_train_begin(), on_epoch_end() etc.)"
   ]
  },
  {
   "cell_type": "code",
   "execution_count": 47,
   "metadata": {},
   "outputs": [],
   "source": [
    "class PrintValTrainRatioCallback(keras.callbacks.Callback):\n",
    "    def on_epoch_end(self, epoch, logs):\n",
    "        print(\"\\nval/train: {:.2f}\".format(logs[\"val_loss\"] / logs[\"loss\"]))"
   ]
  },
  {
   "cell_type": "markdown",
   "metadata": {},
   "source": [
    "## Using TensorBoard for Visualization"
   ]
  },
  {
   "cell_type": "code",
   "execution_count": 48,
   "metadata": {},
   "outputs": [],
   "source": [
    "import os\n",
    "root_logdir = os.path.join(os.curdir, \"my_logs\")\n",
    "\n",
    "def get_run_logdir():\n",
    "    import time\n",
    "    run_id = time.strftime(\"run_%Y_%m_%d-%H_%M_%S\")\n",
    "    return os.path.join(root_logdir, run_id)\n",
    "\n",
    "run_logdir = get_run_logdir()"
   ]
  },
  {
   "cell_type": "code",
   "execution_count": 49,
   "metadata": {
    "scrolled": true
   },
   "outputs": [
    {
     "name": "stdout",
     "output_type": "stream",
     "text": [
      "Epoch 1/30\n",
      "  1/363 [..............................] - ETA: 0s - loss: 0.4426WARNING:tensorflow:From /Users/ericfiegel/GitHub/ml-geron/env/lib/python3.7/site-packages/tensorflow/python/ops/summary_ops_v2.py:1277: stop (from tensorflow.python.eager.profiler) is deprecated and will be removed after 2020-07-01.\n",
      "Instructions for updating:\n",
      "use `tf.profiler.experimental.stop` instead.\n",
      "WARNING:tensorflow:Callbacks method `on_train_batch_end` is slow compared to the batch time (batch time: 0.0014s vs `on_train_batch_end` time: 0.0165s). Check your callbacks.\n",
      "363/363 [==============================] - 1s 2ms/step - loss: 0.3426 - val_loss: 0.3342\n",
      "Epoch 2/30\n",
      "363/363 [==============================] - 1s 1ms/step - loss: 0.3341 - val_loss: 0.3418\n",
      "Epoch 3/30\n",
      "363/363 [==============================] - 1s 2ms/step - loss: 0.3349 - val_loss: 0.3385\n",
      "Epoch 4/30\n",
      "363/363 [==============================] - 1s 1ms/step - loss: 0.3410 - val_loss: 0.3367\n",
      "Epoch 5/30\n",
      "363/363 [==============================] - 0s 1ms/step - loss: 0.3348 - val_loss: 0.3346\n",
      "Epoch 6/30\n",
      "363/363 [==============================] - 0s 1ms/step - loss: 0.3600 - val_loss: 0.3566\n",
      "Epoch 7/30\n",
      "363/363 [==============================] - 1s 2ms/step - loss: 0.3462 - val_loss: 0.3364\n",
      "Epoch 8/30\n",
      "363/363 [==============================] - 1s 1ms/step - loss: 0.3757 - val_loss: 0.8150\n",
      "Epoch 9/30\n",
      "363/363 [==============================] - 1s 1ms/step - loss: 0.3743 - val_loss: 0.3543\n",
      "Epoch 10/30\n",
      "363/363 [==============================] - 0s 1ms/step - loss: 0.3372 - val_loss: 0.3295\n",
      "Epoch 11/30\n",
      "363/363 [==============================] - 1s 2ms/step - loss: 0.3404 - val_loss: 0.3356\n",
      "Epoch 12/30\n",
      "363/363 [==============================] - 1s 2ms/step - loss: 0.3323 - val_loss: 0.3293\n",
      "Epoch 13/30\n",
      "363/363 [==============================] - 1s 2ms/step - loss: 0.3301 - val_loss: 0.3302\n",
      "Epoch 14/30\n",
      "363/363 [==============================] - 1s 2ms/step - loss: 0.3274 - val_loss: 0.3281\n",
      "Epoch 15/30\n",
      "363/363 [==============================] - 1s 2ms/step - loss: 0.3365 - val_loss: 0.3324\n",
      "Epoch 16/30\n",
      "363/363 [==============================] - 1s 2ms/step - loss: 0.3460 - val_loss: 0.3328\n",
      "Epoch 17/30\n",
      "363/363 [==============================] - 1s 2ms/step - loss: 0.3532 - val_loss: 0.3540\n",
      "Epoch 18/30\n",
      "363/363 [==============================] - 1s 2ms/step - loss: 0.3387 - val_loss: 0.3536\n",
      "Epoch 19/30\n",
      "363/363 [==============================] - 1s 2ms/step - loss: 0.3391 - val_loss: 0.3281\n",
      "Epoch 20/30\n",
      "363/363 [==============================] - 1s 2ms/step - loss: 0.3327 - val_loss: 0.3345\n",
      "Epoch 21/30\n",
      "363/363 [==============================] - 1s 2ms/step - loss: 0.3300 - val_loss: 0.3315\n",
      "Epoch 22/30\n",
      "363/363 [==============================] - 1s 2ms/step - loss: 0.3242 - val_loss: 0.3319\n",
      "Epoch 23/30\n",
      "363/363 [==============================] - 1s 1ms/step - loss: 0.3264 - val_loss: 0.3323\n",
      "Epoch 24/30\n",
      "363/363 [==============================] - 1s 2ms/step - loss: 0.3215 - val_loss: 0.3431\n",
      "Epoch 25/30\n",
      "363/363 [==============================] - 1s 2ms/step - loss: 0.3287 - val_loss: 0.3341\n",
      "Epoch 26/30\n",
      "363/363 [==============================] - 1s 3ms/step - loss: 0.3302 - val_loss: 0.3272\n",
      "Epoch 27/30\n",
      "363/363 [==============================] - 1s 2ms/step - loss: 0.3240 - val_loss: 0.3339\n",
      "Epoch 28/30\n",
      "363/363 [==============================] - 1s 2ms/step - loss: 0.3210 - val_loss: 0.3361\n",
      "Epoch 29/30\n",
      "363/363 [==============================] - 1s 3ms/step - loss: 0.3194 - val_loss: 0.3275\n",
      "Epoch 30/30\n",
      "363/363 [==============================] - 1s 2ms/step - loss: 0.3189 - val_loss: 0.3352\n"
     ]
    }
   ],
   "source": [
    "tensorboard_cb = keras.callbacks.TensorBoard(run_logdir)\n",
    "history = model.fit(X_train, y_train, epochs=30,\n",
    "                    validation_data=(X_valid, y_valid),\n",
    "                    callbacks=[tensorboard_cb])"
   ]
  },
  {
   "cell_type": "code",
   "execution_count": 50,
   "metadata": {},
   "outputs": [],
   "source": [
    "# can run this from the command line or from right here in jupyter!\n",
    "# %load_ext tensorboard\n",
    "# %tensorboard --logdir=./my_logs --port=6006"
   ]
  },
  {
   "cell_type": "markdown",
   "metadata": {},
   "source": [
    "# Fine-Tuning Neural Network Hyperparameters\n",
    "Wrap model definition so that we can use it with sklearn"
   ]
  },
  {
   "cell_type": "code",
   "execution_count": 51,
   "metadata": {},
   "outputs": [],
   "source": [
    "def build_model(n_hidden=1, n_neurons=30, learning_rate=3e-3, input_shape=[8]):\n",
    "    model = keras.models.Sequential()\n",
    "    model.add(keras.layers.InputLayer(input_shape=input_shape))\n",
    "    for layer in range(n_hidden):\n",
    "        model.add(keras.layers.Dense(n_neurons, activation=\"relu\"))\n",
    "    model.add(keras.layers.Dense(1))\n",
    "    optimizer = keras.optimizers.SGD(lr=learning_rate)\n",
    "    model.compile(loss=\"mse\", optimizer=optimizer)\n",
    "    return model"
   ]
  },
  {
   "cell_type": "code",
   "execution_count": 52,
   "metadata": {},
   "outputs": [],
   "source": [
    "keras_reg = keras.wrappers.scikit_learn.KerasRegressor(build_model)"
   ]
  },
  {
   "cell_type": "code",
   "execution_count": 53,
   "metadata": {
    "scrolled": true
   },
   "outputs": [
    {
     "name": "stdout",
     "output_type": "stream",
     "text": [
      "Epoch 1/100\n",
      "363/363 [==============================] - 1s 3ms/step - loss: 1.1341 - val_loss: 0.6526\n",
      "Epoch 2/100\n",
      "363/363 [==============================] - 1s 3ms/step - loss: 0.6578 - val_loss: 0.5510\n",
      "Epoch 3/100\n",
      "363/363 [==============================] - 1s 2ms/step - loss: 0.5782 - val_loss: 0.4941\n",
      "Epoch 4/100\n",
      "363/363 [==============================] - 1s 2ms/step - loss: 0.5322 - val_loss: 0.4651\n",
      "Epoch 5/100\n",
      "363/363 [==============================] - 1s 2ms/step - loss: 0.5079 - val_loss: 0.4503\n",
      "Epoch 6/100\n",
      "363/363 [==============================] - 1s 2ms/step - loss: 0.4912 - val_loss: 0.4366\n",
      "Epoch 7/100\n",
      "363/363 [==============================] - 1s 2ms/step - loss: 0.4797 - val_loss: 0.4320\n",
      "Epoch 8/100\n",
      "363/363 [==============================] - 1s 2ms/step - loss: 0.4733 - val_loss: 0.4233\n",
      "Epoch 9/100\n",
      "363/363 [==============================] - 1s 2ms/step - loss: 0.4652 - val_loss: 0.4189\n",
      "Epoch 10/100\n",
      "363/363 [==============================] - 1s 2ms/step - loss: 0.4643 - val_loss: 0.4169\n",
      "Epoch 11/100\n",
      "363/363 [==============================] - 1s 2ms/step - loss: 0.4576 - val_loss: 0.4144\n",
      "Epoch 12/100\n",
      "363/363 [==============================] - 1s 2ms/step - loss: 0.4526 - val_loss: 0.4106\n",
      "Epoch 13/100\n",
      "363/363 [==============================] - 1s 2ms/step - loss: 0.4482 - val_loss: 0.4107\n",
      "Epoch 14/100\n",
      "363/363 [==============================] - 1s 3ms/step - loss: 0.4502 - val_loss: 0.4463\n",
      "Epoch 15/100\n",
      "363/363 [==============================] - 1s 3ms/step - loss: 0.4449 - val_loss: 0.4023\n",
      "Epoch 16/100\n",
      "363/363 [==============================] - 1s 3ms/step - loss: 0.4407 - val_loss: 0.4024\n",
      "Epoch 17/100\n",
      "363/363 [==============================] - 1s 2ms/step - loss: 0.4361 - val_loss: 0.3995\n",
      "Epoch 18/100\n",
      "363/363 [==============================] - 1s 2ms/step - loss: 0.4366 - val_loss: 0.3955\n",
      "Epoch 19/100\n",
      "363/363 [==============================] - 1s 2ms/step - loss: 0.4318 - val_loss: 0.4000\n",
      "Epoch 20/100\n",
      "363/363 [==============================] - 1s 2ms/step - loss: 0.4303 - val_loss: 0.3962\n",
      "Epoch 21/100\n",
      "363/363 [==============================] - 1s 2ms/step - loss: 0.4271 - val_loss: 0.3924\n",
      "Epoch 22/100\n",
      "363/363 [==============================] - 1s 2ms/step - loss: 0.4239 - val_loss: 0.3932\n",
      "Epoch 23/100\n",
      "363/363 [==============================] - 1s 1ms/step - loss: 0.4241 - val_loss: 0.3894\n",
      "Epoch 24/100\n",
      "363/363 [==============================] - 1s 2ms/step - loss: 0.4215 - val_loss: 0.3900\n",
      "Epoch 25/100\n",
      "363/363 [==============================] - 1s 2ms/step - loss: 0.4197 - val_loss: 0.3852\n",
      "Epoch 26/100\n",
      "363/363 [==============================] - 1s 2ms/step - loss: 0.4225 - val_loss: 0.3896\n",
      "Epoch 27/100\n",
      "363/363 [==============================] - 1s 1ms/step - loss: 0.4164 - val_loss: 0.3897\n",
      "Epoch 28/100\n",
      "363/363 [==============================] - 1s 2ms/step - loss: 0.4151 - val_loss: 0.3808\n",
      "Epoch 29/100\n",
      "363/363 [==============================] - 1s 2ms/step - loss: 0.4118 - val_loss: 0.3789\n",
      "Epoch 30/100\n",
      "363/363 [==============================] - 1s 2ms/step - loss: 0.4141 - val_loss: 0.3809\n",
      "Epoch 31/100\n",
      "363/363 [==============================] - 0s 1ms/step - loss: 0.4113 - val_loss: 0.3774\n",
      "Epoch 32/100\n",
      "363/363 [==============================] - 0s 1ms/step - loss: 0.4109 - val_loss: 0.3777\n",
      "Epoch 33/100\n",
      "363/363 [==============================] - 0s 1ms/step - loss: 0.4054 - val_loss: 0.3788\n",
      "Epoch 34/100\n",
      "363/363 [==============================] - 1s 1ms/step - loss: 0.4052 - val_loss: 0.3788\n",
      "Epoch 35/100\n",
      "363/363 [==============================] - 1s 1ms/step - loss: 0.4022 - val_loss: 0.3756\n",
      "Epoch 36/100\n",
      "363/363 [==============================] - 1s 2ms/step - loss: 0.4102 - val_loss: 0.3735\n",
      "Epoch 37/100\n",
      "363/363 [==============================] - 1s 2ms/step - loss: 0.4035 - val_loss: 0.3750\n",
      "Epoch 38/100\n",
      "363/363 [==============================] - 1s 2ms/step - loss: 0.3970 - val_loss: 0.3831\n",
      "Epoch 39/100\n",
      "363/363 [==============================] - 1s 1ms/step - loss: 0.4051 - val_loss: 0.3738\n",
      "Epoch 40/100\n",
      "363/363 [==============================] - 0s 1ms/step - loss: 0.3969 - val_loss: 0.3722\n",
      "Epoch 41/100\n",
      "363/363 [==============================] - 0s 1ms/step - loss: 0.3987 - val_loss: 0.3706\n",
      "Epoch 42/100\n",
      "363/363 [==============================] - 1s 2ms/step - loss: 0.4079 - val_loss: 0.3717\n",
      "Epoch 43/100\n",
      "363/363 [==============================] - 1s 2ms/step - loss: 0.3924 - val_loss: 0.3672\n",
      "Epoch 44/100\n",
      "363/363 [==============================] - 0s 1ms/step - loss: 0.3916 - val_loss: 0.3671\n",
      "Epoch 45/100\n",
      "363/363 [==============================] - 0s 1ms/step - loss: 0.3934 - val_loss: 0.3657\n",
      "Epoch 46/100\n",
      "363/363 [==============================] - 0s 1ms/step - loss: 0.3884 - val_loss: 0.3690\n",
      "Epoch 47/100\n",
      "363/363 [==============================] - 0s 1ms/step - loss: 0.3873 - val_loss: 0.3671\n",
      "Epoch 48/100\n",
      "363/363 [==============================] - 0s 1ms/step - loss: 0.3858 - val_loss: 0.3650\n",
      "Epoch 49/100\n",
      "363/363 [==============================] - 1s 2ms/step - loss: 0.3845 - val_loss: 0.3706\n",
      "Epoch 50/100\n",
      "363/363 [==============================] - 0s 1ms/step - loss: 0.3832 - val_loss: 0.3663\n",
      "Epoch 51/100\n",
      "363/363 [==============================] - 0s 1ms/step - loss: 0.3885 - val_loss: 0.3659\n",
      "Epoch 52/100\n",
      "363/363 [==============================] - 0s 1ms/step - loss: 0.3820 - val_loss: 0.3606\n",
      "Epoch 53/100\n",
      "363/363 [==============================] - 0s 1ms/step - loss: 0.3849 - val_loss: 0.4155\n",
      "Epoch 54/100\n",
      "363/363 [==============================] - 0s 1ms/step - loss: 0.3838 - val_loss: 0.3621\n",
      "Epoch 55/100\n",
      "363/363 [==============================] - 0s 1ms/step - loss: 0.3833 - val_loss: 0.3631\n",
      "Epoch 56/100\n",
      "363/363 [==============================] - 1s 1ms/step - loss: 0.3961 - val_loss: 0.3614\n",
      "Epoch 57/100\n",
      "363/363 [==============================] - 0s 1ms/step - loss: 0.3822 - val_loss: 0.3567\n",
      "Epoch 58/100\n",
      "363/363 [==============================] - 0s 1ms/step - loss: 0.3819 - val_loss: 0.3591\n",
      "Epoch 59/100\n",
      "363/363 [==============================] - 0s 1ms/step - loss: 0.3829 - val_loss: 0.3580\n",
      "Epoch 60/100\n",
      "363/363 [==============================] - 0s 1ms/step - loss: 0.3754 - val_loss: 0.3765\n",
      "Epoch 61/100\n",
      "363/363 [==============================] - 0s 1ms/step - loss: 0.3738 - val_loss: 0.3556\n",
      "Epoch 62/100\n",
      "363/363 [==============================] - 0s 1ms/step - loss: 0.3724 - val_loss: 0.3541\n",
      "Epoch 63/100\n",
      "363/363 [==============================] - 0s 1ms/step - loss: 0.3715 - val_loss: 0.3571\n",
      "Epoch 64/100\n",
      "363/363 [==============================] - 0s 1ms/step - loss: 0.3725 - val_loss: 0.3680\n",
      "Epoch 65/100\n",
      "363/363 [==============================] - 1s 1ms/step - loss: 0.3735 - val_loss: 0.3573\n",
      "Epoch 66/100\n",
      "363/363 [==============================] - 0s 1ms/step - loss: 0.3705 - val_loss: 0.3532\n",
      "Epoch 67/100\n",
      "363/363 [==============================] - 0s 1ms/step - loss: 0.3688 - val_loss: 0.3570\n",
      "Epoch 68/100\n",
      "363/363 [==============================] - 0s 1ms/step - loss: 0.3683 - val_loss: 0.3847\n",
      "Epoch 69/100\n",
      "363/363 [==============================] - 1s 2ms/step - loss: 0.3695 - val_loss: 0.3526\n",
      "Epoch 70/100\n",
      "363/363 [==============================] - 1s 1ms/step - loss: 0.3670 - val_loss: 0.3495\n",
      "Epoch 71/100\n",
      "363/363 [==============================] - 1s 1ms/step - loss: 0.3663 - val_loss: 0.3500\n",
      "Epoch 72/100\n",
      "363/363 [==============================] - 0s 1ms/step - loss: 0.3662 - val_loss: 0.3661\n",
      "Epoch 73/100\n",
      "363/363 [==============================] - 0s 1ms/step - loss: 0.3714 - val_loss: 0.3529\n",
      "Epoch 74/100\n",
      "363/363 [==============================] - 0s 1ms/step - loss: 0.3656 - val_loss: 0.3612\n",
      "Epoch 75/100\n",
      "363/363 [==============================] - 0s 1ms/step - loss: 0.3637 - val_loss: 0.3473\n",
      "Epoch 76/100\n",
      "363/363 [==============================] - 0s 1ms/step - loss: 0.3648 - val_loss: 0.3763\n",
      "Epoch 77/100\n",
      "363/363 [==============================] - 0s 1ms/step - loss: 0.3648 - val_loss: 0.3840\n",
      "Epoch 78/100\n",
      "363/363 [==============================] - 0s 1ms/step - loss: 0.3787 - val_loss: 0.3505\n",
      "Epoch 79/100\n",
      "363/363 [==============================] - 0s 1ms/step - loss: 0.3736 - val_loss: 0.3450\n",
      "Epoch 80/100\n",
      "363/363 [==============================] - 0s 1ms/step - loss: 0.3626 - val_loss: 0.3551\n",
      "Epoch 81/100\n"
     ]
    },
    {
     "name": "stdout",
     "output_type": "stream",
     "text": [
      "363/363 [==============================] - 0s 1ms/step - loss: 0.3601 - val_loss: 0.3443\n",
      "Epoch 82/100\n",
      "363/363 [==============================] - 0s 1ms/step - loss: 0.3590 - val_loss: 0.3448\n",
      "Epoch 83/100\n",
      "363/363 [==============================] - 0s 1ms/step - loss: 0.3586 - val_loss: 0.3466\n",
      "Epoch 84/100\n",
      "363/363 [==============================] - 0s 1ms/step - loss: 0.3580 - val_loss: 0.3506\n",
      "Epoch 85/100\n",
      "363/363 [==============================] - 0s 1ms/step - loss: 0.3581 - val_loss: 0.3465\n",
      "Epoch 86/100\n",
      "363/363 [==============================] - 0s 1ms/step - loss: 0.3575 - val_loss: 0.3437\n",
      "Epoch 87/100\n",
      "363/363 [==============================] - 0s 1ms/step - loss: 0.3651 - val_loss: 0.3430\n",
      "Epoch 88/100\n",
      "363/363 [==============================] - 0s 1ms/step - loss: 0.3585 - val_loss: 0.3456\n",
      "Epoch 89/100\n",
      "363/363 [==============================] - 0s 1ms/step - loss: 0.3559 - val_loss: 0.3460\n",
      "Epoch 90/100\n",
      "363/363 [==============================] - 0s 1ms/step - loss: 0.3567 - val_loss: 0.3407\n",
      "Epoch 91/100\n",
      "363/363 [==============================] - 0s 1ms/step - loss: 0.3548 - val_loss: 0.3457\n",
      "Epoch 92/100\n",
      "363/363 [==============================] - 0s 1ms/step - loss: 0.3545 - val_loss: 0.3999\n",
      "Epoch 93/100\n",
      "363/363 [==============================] - 0s 1ms/step - loss: 0.3633 - val_loss: 0.3441\n",
      "Epoch 94/100\n",
      "363/363 [==============================] - 0s 1ms/step - loss: 0.3540 - val_loss: 0.3436\n",
      "Epoch 95/100\n",
      "363/363 [==============================] - 0s 1ms/step - loss: 0.3520 - val_loss: 0.3445\n",
      "Epoch 96/100\n",
      "363/363 [==============================] - 0s 1ms/step - loss: 0.3518 - val_loss: 0.3404\n",
      "Epoch 97/100\n",
      "363/363 [==============================] - 1s 2ms/step - loss: 0.3518 - val_loss: 0.3428\n",
      "Epoch 98/100\n",
      "363/363 [==============================] - 1s 2ms/step - loss: 0.3512 - val_loss: 0.3405\n",
      "Epoch 99/100\n",
      "363/363 [==============================] - 0s 1ms/step - loss: 0.3504 - val_loss: 0.3403\n",
      "Epoch 100/100\n",
      "363/363 [==============================] - 0s 1ms/step - loss: 0.3508 - val_loss: 0.3388\n",
      "162/162 [==============================] - 0s 778us/step - loss: 0.3615\n",
      "WARNING:tensorflow:5 out of the last 6 calls to <function Model.make_predict_function.<locals>.predict_function at 0x14887f840> triggered tf.function retracing. Tracing is expensive and the excessive number of tracings could be due to (1) creating @tf.function repeatedly in a loop, (2) passing tensors with different shapes, (3) passing Python objects instead of tensors. For (1), please define your @tf.function outside of the loop. For (2), @tf.function has experimental_relax_shapes=True option that relaxes argument shapes that can avoid unnecessary retracing. For (3), please refer to https://www.tensorflow.org/tutorials/customization/performance#python_or_tensor_args and https://www.tensorflow.org/api_docs/python/tf/function for  more details.\n"
     ]
    }
   ],
   "source": [
    "keras_reg.fit(X_train, y_train, epochs=100,\n",
    "              validation_data=(X_valid, y_valid),\n",
    "              callbacks=[keras.callbacks.EarlyStopping(patience=10)])\n",
    "mse_test = keras_reg.score(X_test, y_test)\n",
    "y_pred = keras_reg.predict(X_new)"
   ]
  },
  {
   "cell_type": "code",
   "execution_count": 54,
   "metadata": {
    "scrolled": true
   },
   "outputs": [
    {
     "name": "stdout",
     "output_type": "stream",
     "text": [
      "Fitting 3 folds for each of 10 candidates, totalling 30 fits\n",
      "Epoch 1/10\n"
     ]
    },
    {
     "name": "stderr",
     "output_type": "stream",
     "text": [
      "[Parallel(n_jobs=1)]: Using backend SequentialBackend with 1 concurrent workers.\n"
     ]
    },
    {
     "name": "stdout",
     "output_type": "stream",
     "text": [
      "242/242 [==============================] - 0s 2ms/step - loss: 0.8915 - val_loss: 0.5315\n",
      "Epoch 2/10\n",
      "242/242 [==============================] - 0s 1ms/step - loss: 0.5381 - val_loss: 0.4921\n",
      "Epoch 3/10\n",
      "242/242 [==============================] - 0s 1ms/step - loss: 0.5007 - val_loss: 0.4697\n",
      "Epoch 4/10\n",
      "242/242 [==============================] - 0s 1ms/step - loss: 0.4866 - val_loss: 0.4922\n",
      "Epoch 5/10\n",
      "242/242 [==============================] - 0s 1ms/step - loss: 0.4758 - val_loss: 0.4321\n",
      "Epoch 6/10\n",
      "242/242 [==============================] - 0s 1ms/step - loss: 0.4677 - val_loss: 0.4256\n",
      "Epoch 7/10\n",
      "242/242 [==============================] - 0s 1ms/step - loss: 0.4621 - val_loss: 0.4617\n",
      "Epoch 8/10\n",
      "242/242 [==============================] - 0s 1ms/step - loss: 0.4643 - val_loss: 0.4173\n",
      "Epoch 9/10\n",
      "242/242 [==============================] - 0s 1ms/step - loss: 0.4523 - val_loss: 0.4113\n",
      "Epoch 10/10\n",
      "242/242 [==============================] - 0s 1ms/step - loss: 0.4470 - val_loss: 0.4115\n",
      "121/121 [==============================] - 0s 756us/step - loss: 0.4746\n",
      "Epoch 1/10\n",
      "242/242 [==============================] - 1s 2ms/step - loss: 1.2024 - val_loss: 0.5692\n",
      "Epoch 2/10\n",
      "242/242 [==============================] - 0s 2ms/step - loss: 0.5925 - val_loss: 0.4939\n",
      "Epoch 3/10\n",
      "242/242 [==============================] - 0s 2ms/step - loss: 0.5574 - val_loss: 0.4527\n",
      "Epoch 4/10\n",
      "242/242 [==============================] - 0s 2ms/step - loss: 0.5105 - val_loss: 0.4326\n",
      "Epoch 5/10\n",
      "242/242 [==============================] - 1s 2ms/step - loss: 0.5514 - val_loss: 0.4542\n",
      "Epoch 6/10\n",
      "242/242 [==============================] - 0s 2ms/step - loss: 0.5088 - val_loss: 0.4737\n",
      "Epoch 7/10\n",
      "242/242 [==============================] - 1s 2ms/step - loss: 0.4984 - val_loss: 0.4277\n",
      "Epoch 8/10\n",
      "242/242 [==============================] - 1s 3ms/step - loss: 0.4699 - val_loss: 0.4228\n",
      "Epoch 9/10\n",
      "242/242 [==============================] - 1s 2ms/step - loss: 0.4623 - val_loss: 0.4056\n",
      "Epoch 10/10\n",
      "242/242 [==============================] - 1s 2ms/step - loss: 0.5099 - val_loss: 0.4882\n",
      "121/121 [==============================] - 0s 946us/step - loss: 0.5291\n",
      "Epoch 1/10\n",
      "242/242 [==============================] - 0s 2ms/step - loss: 2.0106 - val_loss: 0.6820\n",
      "Epoch 2/10\n",
      "242/242 [==============================] - 0s 2ms/step - loss: 0.6013 - val_loss: 0.4746\n",
      "Epoch 3/10\n",
      "242/242 [==============================] - 0s 1ms/step - loss: 0.5095 - val_loss: 0.4262\n",
      "Epoch 4/10\n",
      "242/242 [==============================] - 0s 1ms/step - loss: 0.4771 - val_loss: 0.4288\n",
      "Epoch 5/10\n",
      "242/242 [==============================] - 0s 2ms/step - loss: 0.4874 - val_loss: 0.4338\n",
      "Epoch 6/10\n",
      "242/242 [==============================] - 0s 2ms/step - loss: 0.5001 - val_loss: 0.4305\n",
      "Epoch 7/10\n",
      "242/242 [==============================] - 0s 1ms/step - loss: 0.4598 - val_loss: 0.4284\n",
      "Epoch 8/10\n",
      "242/242 [==============================] - 0s 2ms/step - loss: 0.4428 - val_loss: 0.3961\n",
      "Epoch 9/10\n",
      "242/242 [==============================] - 0s 2ms/step - loss: 0.4231 - val_loss: 0.3824\n",
      "Epoch 10/10\n",
      "242/242 [==============================] - 0s 2ms/step - loss: 0.4240 - val_loss: 0.4199\n",
      "121/121 [==============================] - 0s 891us/step - loss: 0.4062\n",
      "Epoch 1/10\n",
      "242/242 [==============================] - 0s 2ms/step - loss: 1.9888 - val_loss: 1.1081\n",
      "Epoch 2/10\n",
      "242/242 [==============================] - 0s 1ms/step - loss: 0.9674 - val_loss: 0.8203\n",
      "Epoch 3/10\n",
      "242/242 [==============================] - 0s 1ms/step - loss: 0.8160 - val_loss: 0.7466\n",
      "Epoch 4/10\n",
      "242/242 [==============================] - 0s 1ms/step - loss: 0.7670 - val_loss: 0.7173\n",
      "Epoch 5/10\n",
      "242/242 [==============================] - 1s 3ms/step - loss: 0.7444 - val_loss: 0.7016\n",
      "Epoch 6/10\n",
      "242/242 [==============================] - 1s 2ms/step - loss: 0.7314 - val_loss: 0.6913\n",
      "Epoch 7/10\n",
      "242/242 [==============================] - 0s 1ms/step - loss: 0.7216 - val_loss: 0.6825\n",
      "Epoch 8/10\n",
      "242/242 [==============================] - 0s 1ms/step - loss: 0.7134 - val_loss: 0.6749\n",
      "Epoch 9/10\n",
      "242/242 [==============================] - 0s 1ms/step - loss: 0.7056 - val_loss: 0.6671\n",
      "Epoch 10/10\n",
      "242/242 [==============================] - 0s 1ms/step - loss: 0.6977 - val_loss: 0.6601\n",
      "121/121 [==============================] - 0s 921us/step - loss: 0.7346\n",
      "Epoch 1/10\n",
      "242/242 [==============================] - 0s 2ms/step - loss: 3.0462 - val_loss: 1.3773\n",
      "Epoch 2/10\n",
      "242/242 [==============================] - 0s 1ms/step - loss: 1.3702 - val_loss: 1.1353\n",
      "Epoch 3/10\n",
      "242/242 [==============================] - 0s 1ms/step - loss: 1.2052 - val_loss: 1.0077\n",
      "Epoch 4/10\n",
      "242/242 [==============================] - 0s 1ms/step - loss: 1.0822 - val_loss: 0.9082\n",
      "Epoch 5/10\n",
      "242/242 [==============================] - 0s 1ms/step - loss: 0.9907 - val_loss: 0.8411\n",
      "Epoch 6/10\n",
      "242/242 [==============================] - 0s 1ms/step - loss: 0.9252 - val_loss: 0.7870\n",
      "Epoch 7/10\n",
      "242/242 [==============================] - 0s 1ms/step - loss: 0.8682 - val_loss: 0.7405\n",
      "Epoch 8/10\n",
      "242/242 [==============================] - 0s 2ms/step - loss: 0.8150 - val_loss: 0.6959\n",
      "Epoch 9/10\n",
      "242/242 [==============================] - 0s 2ms/step - loss: 0.7637 - val_loss: 0.6545\n",
      "Epoch 10/10\n",
      "242/242 [==============================] - 0s 1ms/step - loss: 0.7169 - val_loss: 0.6181\n",
      "121/121 [==============================] - 0s 674us/step - loss: 0.6575\n",
      "Epoch 1/10\n",
      "242/242 [==============================] - 1s 2ms/step - loss: 2.8291 - val_loss: 1.4158\n",
      "Epoch 2/10\n",
      "242/242 [==============================] - 0s 1ms/step - loss: 1.3687 - val_loss: 1.1478\n",
      "Epoch 3/10\n",
      "242/242 [==============================] - 0s 1ms/step - loss: 1.1241 - val_loss: 0.9306\n",
      "Epoch 4/10\n",
      "242/242 [==============================] - 0s 1ms/step - loss: 0.8959 - val_loss: 0.7735\n",
      "Epoch 5/10\n",
      "242/242 [==============================] - 0s 1ms/step - loss: 0.7972 - val_loss: 0.7180\n",
      "Epoch 6/10\n",
      "242/242 [==============================] - 0s 1ms/step - loss: 0.7620 - val_loss: 0.6947\n",
      "Epoch 7/10\n",
      "242/242 [==============================] - 0s 1ms/step - loss: 0.7421 - val_loss: 0.6790\n",
      "Epoch 8/10\n",
      "242/242 [==============================] - 0s 1ms/step - loss: 0.7250 - val_loss: 0.6640\n",
      "Epoch 9/10\n",
      "242/242 [==============================] - 0s 1ms/step - loss: 0.7083 - val_loss: 0.6480\n",
      "Epoch 10/10\n",
      "242/242 [==============================] - 0s 2ms/step - loss: 0.6919 - val_loss: 0.6336\n",
      "121/121 [==============================] - 0s 1ms/step - loss: 0.6729\n",
      "Epoch 1/10\n",
      "242/242 [==============================] - 1s 4ms/step - loss: 1.3800 - val_loss: 0.8459\n",
      "Epoch 2/10\n",
      "242/242 [==============================] - 1s 5ms/step - loss: 0.7369 - val_loss: 0.6667\n",
      "Epoch 3/10\n",
      "242/242 [==============================] - 1s 3ms/step - loss: 0.6448 - val_loss: 0.6037\n",
      "Epoch 4/10\n",
      "242/242 [==============================] - 0s 2ms/step - loss: 0.6058 - val_loss: 0.5729\n",
      "Epoch 5/10\n",
      "242/242 [==============================] - 0s 2ms/step - loss: 0.5796 - val_loss: 0.5473\n",
      "Epoch 6/10\n",
      "242/242 [==============================] - 0s 1ms/step - loss: 0.5578 - val_loss: 0.5235\n",
      "Epoch 7/10\n",
      "242/242 [==============================] - 0s 1ms/step - loss: 0.5386 - val_loss: 0.5058\n",
      "Epoch 8/10\n",
      "242/242 [==============================] - 0s 1ms/step - loss: 0.5207 - val_loss: 0.4872\n",
      "Epoch 9/10\n",
      "242/242 [==============================] - 0s 1ms/step - loss: 0.5071 - val_loss: 0.4757\n",
      "Epoch 10/10\n",
      "242/242 [==============================] - 0s 1ms/step - loss: 0.4955 - val_loss: 0.4647\n",
      "121/121 [==============================] - 0s 629us/step - loss: 0.5250\n",
      "Epoch 1/10\n",
      "242/242 [==============================] - 0s 2ms/step - loss: 1.6607 - val_loss: 0.7856\n",
      "Epoch 2/10\n",
      "242/242 [==============================] - 0s 1ms/step - loss: 0.7688 - val_loss: 0.6320\n",
      "Epoch 3/10\n",
      "242/242 [==============================] - 0s 1ms/step - loss: 0.6873 - val_loss: 0.5972\n",
      "Epoch 4/10\n",
      "242/242 [==============================] - 0s 1ms/step - loss: 0.6478 - val_loss: 0.5618\n",
      "Epoch 5/10\n",
      "242/242 [==============================] - 0s 1ms/step - loss: 0.6200 - val_loss: 0.5403\n",
      "Epoch 6/10\n",
      "242/242 [==============================] - 0s 1ms/step - loss: 0.5950 - val_loss: 0.5214\n",
      "Epoch 7/10\n",
      "242/242 [==============================] - 0s 1ms/step - loss: 0.5750 - val_loss: 0.5073\n"
     ]
    },
    {
     "name": "stdout",
     "output_type": "stream",
     "text": [
      "Epoch 8/10\n",
      "242/242 [==============================] - 0s 1ms/step - loss: 0.5570 - val_loss: 0.4923\n",
      "Epoch 9/10\n",
      "242/242 [==============================] - 0s 1ms/step - loss: 0.5424 - val_loss: 0.4811\n",
      "Epoch 10/10\n",
      "242/242 [==============================] - 0s 1ms/step - loss: 0.5297 - val_loss: 0.4720\n",
      "121/121 [==============================] - 0s 726us/step - loss: 0.5096\n",
      "Epoch 1/10\n",
      "242/242 [==============================] - 0s 2ms/step - loss: 2.0417 - val_loss: 1.1535\n",
      "Epoch 2/10\n",
      "242/242 [==============================] - 0s 1ms/step - loss: 0.9875 - val_loss: 0.7453\n",
      "Epoch 3/10\n",
      "242/242 [==============================] - 0s 1ms/step - loss: 0.7050 - val_loss: 0.6012\n",
      "Epoch 4/10\n",
      "242/242 [==============================] - 0s 1ms/step - loss: 0.6178 - val_loss: 0.5471\n",
      "Epoch 5/10\n",
      "242/242 [==============================] - 0s 1ms/step - loss: 0.5777 - val_loss: 0.5148\n",
      "Epoch 6/10\n",
      "242/242 [==============================] - 0s 1ms/step - loss: 0.5528 - val_loss: 0.4950\n",
      "Epoch 7/10\n",
      "242/242 [==============================] - 0s 1ms/step - loss: 0.5351 - val_loss: 0.4802\n",
      "Epoch 8/10\n",
      "242/242 [==============================] - 0s 1ms/step - loss: 0.5228 - val_loss: 0.4731\n",
      "Epoch 9/10\n",
      "242/242 [==============================] - 0s 1ms/step - loss: 0.5140 - val_loss: 0.4668\n",
      "Epoch 10/10\n",
      "242/242 [==============================] - 0s 1ms/step - loss: 0.5074 - val_loss: 0.4576\n",
      "121/121 [==============================] - 0s 687us/step - loss: 0.4933\n",
      "Epoch 1/10\n",
      "242/242 [==============================] - 0s 1ms/step - loss: 4.5347 - val_loss: 2.9835\n",
      "Epoch 2/10\n",
      "242/242 [==============================] - 0s 1ms/step - loss: 2.4993 - val_loss: 1.8354\n",
      "Epoch 3/10\n",
      "242/242 [==============================] - 0s 1ms/step - loss: 1.7119 - val_loss: 1.3791\n",
      "Epoch 4/10\n",
      "242/242 [==============================] - 0s 1ms/step - loss: 1.3734 - val_loss: 1.1824\n",
      "Epoch 5/10\n",
      "242/242 [==============================] - 0s 1ms/step - loss: 1.2066 - val_loss: 1.0790\n",
      "Epoch 6/10\n",
      "242/242 [==============================] - 0s 1ms/step - loss: 1.1039 - val_loss: 1.0063\n",
      "Epoch 7/10\n",
      "242/242 [==============================] - 0s 1ms/step - loss: 1.0273 - val_loss: 0.9468\n",
      "Epoch 8/10\n",
      "242/242 [==============================] - 0s 1ms/step - loss: 0.9649 - val_loss: 0.8954\n",
      "Epoch 9/10\n",
      "242/242 [==============================] - 0s 1ms/step - loss: 0.9141 - val_loss: 0.8522\n",
      "Epoch 10/10\n",
      "242/242 [==============================] - 0s 1ms/step - loss: 0.8743 - val_loss: 0.8177\n",
      "121/121 [==============================] - 0s 626us/step - loss: 0.8832\n",
      "Epoch 1/10\n",
      "242/242 [==============================] - 0s 1ms/step - loss: 4.2223 - val_loss: 2.9190\n",
      "Epoch 2/10\n",
      "242/242 [==============================] - 0s 1ms/step - loss: 2.5469 - val_loss: 1.9232\n",
      "Epoch 3/10\n",
      "242/242 [==============================] - 0s 1ms/step - loss: 1.8781 - val_loss: 1.5308\n",
      "Epoch 4/10\n",
      "242/242 [==============================] - 0s 1ms/step - loss: 1.6019 - val_loss: 1.3660\n",
      "Epoch 5/10\n",
      "242/242 [==============================] - 0s 1ms/step - loss: 1.4739 - val_loss: 1.2855\n",
      "Epoch 6/10\n",
      "242/242 [==============================] - 0s 1ms/step - loss: 1.4010 - val_loss: 1.2364\n",
      "Epoch 7/10\n",
      "242/242 [==============================] - 0s 1ms/step - loss: 1.3479 - val_loss: 1.1969\n",
      "Epoch 8/10\n",
      "242/242 [==============================] - 0s 1ms/step - loss: 1.2997 - val_loss: 1.1566\n",
      "Epoch 9/10\n",
      "242/242 [==============================] - 0s 1ms/step - loss: 1.2470 - val_loss: 1.1088\n",
      "Epoch 10/10\n",
      "242/242 [==============================] - 0s 1ms/step - loss: 1.1844 - val_loss: 1.0512\n",
      "121/121 [==============================] - 0s 609us/step - loss: 1.1169\n",
      "Epoch 1/10\n",
      "242/242 [==============================] - 0s 1ms/step - loss: 4.1277 - val_loss: 2.7419\n",
      "Epoch 2/10\n",
      "242/242 [==============================] - 0s 1ms/step - loss: 2.3231 - val_loss: 1.6109\n",
      "Epoch 3/10\n",
      "242/242 [==============================] - 0s 1ms/step - loss: 1.5790 - val_loss: 1.1373\n",
      "Epoch 4/10\n",
      "242/242 [==============================] - 0s 1ms/step - loss: 1.2354 - val_loss: 0.9397\n",
      "Epoch 5/10\n",
      "242/242 [==============================] - 0s 1ms/step - loss: 1.0355 - val_loss: 0.8240\n",
      "Epoch 6/10\n",
      "242/242 [==============================] - 0s 991us/step - loss: 0.9119 - val_loss: 0.7569\n",
      "Epoch 7/10\n",
      "242/242 [==============================] - 0s 983us/step - loss: 0.8366 - val_loss: 0.7161\n",
      "Epoch 8/10\n",
      "242/242 [==============================] - 0s 1ms/step - loss: 0.7874 - val_loss: 0.6892\n",
      "Epoch 9/10\n",
      "242/242 [==============================] - 0s 1ms/step - loss: 0.7551 - val_loss: 0.6705\n",
      "Epoch 10/10\n",
      "242/242 [==============================] - 0s 1ms/step - loss: 0.7333 - val_loss: 0.6563\n",
      "121/121 [==============================] - 0s 644us/step - loss: 0.6943\n",
      "Epoch 1/10\n",
      "242/242 [==============================] - 0s 1ms/step - loss: 4.9752 - val_loss: 3.8829\n",
      "Epoch 2/10\n",
      "242/242 [==============================] - 0s 1ms/step - loss: 3.3826 - val_loss: 2.5794\n",
      "Epoch 3/10\n",
      "242/242 [==============================] - 0s 1ms/step - loss: 2.2161 - val_loss: 1.6617\n",
      "Epoch 4/10\n",
      "242/242 [==============================] - 0s 1ms/step - loss: 1.5053 - val_loss: 1.2400\n",
      "Epoch 5/10\n",
      "242/242 [==============================] - 0s 2ms/step - loss: 1.2116 - val_loss: 1.0911\n",
      "Epoch 6/10\n",
      "242/242 [==============================] - 0s 2ms/step - loss: 1.0878 - val_loss: 1.0097\n",
      "Epoch 7/10\n",
      "242/242 [==============================] - 0s 2ms/step - loss: 1.0070 - val_loss: 0.9438\n",
      "Epoch 8/10\n",
      "242/242 [==============================] - 1s 2ms/step - loss: 0.9416 - val_loss: 0.8863\n",
      "Epoch 9/10\n",
      "242/242 [==============================] - 0s 1ms/step - loss: 0.8868 - val_loss: 0.8370\n",
      "Epoch 10/10\n",
      "242/242 [==============================] - 0s 1ms/step - loss: 0.8417 - val_loss: 0.7971\n",
      "121/121 [==============================] - 0s 1ms/step - loss: 0.8518\n",
      "Epoch 1/10\n",
      "242/242 [==============================] - 0s 2ms/step - loss: 4.0363 - val_loss: 2.7417\n",
      "Epoch 2/10\n",
      "242/242 [==============================] - 0s 1ms/step - loss: 2.3699 - val_loss: 1.8446\n",
      "Epoch 3/10\n",
      "242/242 [==============================] - 0s 2ms/step - loss: 1.7858 - val_loss: 1.5166\n",
      "Epoch 4/10\n",
      "242/242 [==============================] - 0s 2ms/step - loss: 1.5352 - val_loss: 1.3520\n",
      "Epoch 5/10\n",
      "242/242 [==============================] - 0s 2ms/step - loss: 1.3942 - val_loss: 1.2384\n",
      "Epoch 6/10\n",
      "242/242 [==============================] - 0s 2ms/step - loss: 1.2934 - val_loss: 1.1662\n",
      "Epoch 7/10\n",
      "242/242 [==============================] - 0s 2ms/step - loss: 1.2205 - val_loss: 1.1110\n",
      "Epoch 8/10\n",
      "242/242 [==============================] - 0s 1ms/step - loss: 1.1589 - val_loss: 1.0616\n",
      "Epoch 9/10\n",
      "242/242 [==============================] - 0s 1ms/step - loss: 1.1035 - val_loss: 1.0164\n",
      "Epoch 10/10\n",
      "242/242 [==============================] - 0s 1ms/step - loss: 1.0511 - val_loss: 0.9732\n",
      "121/121 [==============================] - 0s 683us/step - loss: 1.0311\n",
      "Epoch 1/10\n",
      "242/242 [==============================] - 1s 2ms/step - loss: 3.8004 - val_loss: 2.4987\n",
      "Epoch 2/10\n",
      "242/242 [==============================] - 1s 3ms/step - loss: 2.1874 - val_loss: 1.7042\n",
      "Epoch 3/10\n",
      "242/242 [==============================] - 0s 2ms/step - loss: 1.6620 - val_loss: 1.3981\n",
      "Epoch 4/10\n",
      "242/242 [==============================] - 0s 2ms/step - loss: 1.3974 - val_loss: 1.2011\n",
      "Epoch 5/10\n",
      "242/242 [==============================] - 0s 1ms/step - loss: 1.2132 - val_loss: 1.0544\n",
      "Epoch 6/10\n",
      "242/242 [==============================] - 0s 1ms/step - loss: 1.0758 - val_loss: 0.9430\n",
      "Epoch 7/10\n",
      "242/242 [==============================] - 0s 1ms/step - loss: 0.9736 - val_loss: 0.8597\n",
      "Epoch 8/10\n",
      "242/242 [==============================] - 0s 1ms/step - loss: 0.8987 - val_loss: 0.7986\n",
      "Epoch 9/10\n",
      "242/242 [==============================] - 0s 1ms/step - loss: 0.8452 - val_loss: 0.7550\n",
      "Epoch 10/10\n",
      "242/242 [==============================] - 0s 1ms/step - loss: 0.8066 - val_loss: 0.7235\n",
      "121/121 [==============================] - 0s 689us/step - loss: 0.7684\n",
      "Epoch 1/10\n",
      "242/242 [==============================] - 0s 2ms/step - loss: 2.3525 - val_loss: 1.4027\n",
      "Epoch 2/10\n",
      "242/242 [==============================] - 0s 1ms/step - loss: 0.9862 - val_loss: 0.8755\n",
      "Epoch 3/10\n",
      "242/242 [==============================] - 0s 2ms/step - loss: 0.7454 - val_loss: 0.6961\n",
      "Epoch 4/10\n"
     ]
    },
    {
     "name": "stdout",
     "output_type": "stream",
     "text": [
      "242/242 [==============================] - 0s 1ms/step - loss: 0.6873 - val_loss: 0.6356\n",
      "Epoch 5/10\n",
      "242/242 [==============================] - 0s 1ms/step - loss: 0.6599 - val_loss: 0.6109\n",
      "Epoch 6/10\n",
      "242/242 [==============================] - 0s 1ms/step - loss: 0.6392 - val_loss: 0.5903\n",
      "Epoch 7/10\n",
      "242/242 [==============================] - 0s 1ms/step - loss: 0.6200 - val_loss: 0.5710\n",
      "Epoch 8/10\n",
      "242/242 [==============================] - 0s 1ms/step - loss: 0.6018 - val_loss: 0.5531\n",
      "Epoch 9/10\n",
      "242/242 [==============================] - 0s 2ms/step - loss: 0.5848 - val_loss: 0.5379\n",
      "Epoch 10/10\n",
      "242/242 [==============================] - 0s 1ms/step - loss: 0.5691 - val_loss: 0.5226\n",
      "121/121 [==============================] - 0s 792us/step - loss: 0.5980\n",
      "Epoch 1/10\n",
      "242/242 [==============================] - 1s 3ms/step - loss: 1.7391 - val_loss: 0.7445\n",
      "Epoch 2/10\n",
      "242/242 [==============================] - 0s 2ms/step - loss: 0.6769 - val_loss: 0.5630\n",
      "Epoch 3/10\n",
      "242/242 [==============================] - 1s 3ms/step - loss: 0.5875 - val_loss: 0.5113\n",
      "Epoch 4/10\n",
      "242/242 [==============================] - 0s 2ms/step - loss: 0.5544 - val_loss: 0.4888\n",
      "Epoch 5/10\n",
      "242/242 [==============================] - 0s 2ms/step - loss: 0.5393 - val_loss: 0.4785\n",
      "Epoch 6/10\n",
      "242/242 [==============================] - 0s 2ms/step - loss: 0.5303 - val_loss: 0.4697\n",
      "Epoch 7/10\n",
      "242/242 [==============================] - 0s 2ms/step - loss: 0.5240 - val_loss: 0.4643\n",
      "Epoch 8/10\n",
      "242/242 [==============================] - 0s 1ms/step - loss: 0.5179 - val_loss: 0.4587\n",
      "Epoch 9/10\n",
      "242/242 [==============================] - 0s 2ms/step - loss: 0.5131 - val_loss: 0.4537\n",
      "Epoch 10/10\n",
      "242/242 [==============================] - 0s 1ms/step - loss: 0.5082 - val_loss: 0.4501\n",
      "121/121 [==============================] - 0s 809us/step - loss: 0.4881\n",
      "Epoch 1/10\n",
      "242/242 [==============================] - 0s 2ms/step - loss: 2.0292 - val_loss: 0.5525\n",
      "Epoch 2/10\n",
      "242/242 [==============================] - 0s 1ms/step - loss: 0.5687 - val_loss: 0.4800\n",
      "Epoch 3/10\n",
      "242/242 [==============================] - 0s 1ms/step - loss: 0.5303 - val_loss: 0.4584\n",
      "Epoch 4/10\n",
      "242/242 [==============================] - 0s 1ms/step - loss: 0.5175 - val_loss: 0.4483\n",
      "Epoch 5/10\n",
      "242/242 [==============================] - 0s 1ms/step - loss: 0.5100 - val_loss: 0.4435\n",
      "Epoch 6/10\n",
      "242/242 [==============================] - 0s 2ms/step - loss: 0.5107 - val_loss: 0.4463\n",
      "Epoch 7/10\n",
      "242/242 [==============================] - 0s 2ms/step - loss: 0.5065 - val_loss: 0.4399\n",
      "Epoch 8/10\n",
      "242/242 [==============================] - 0s 1ms/step - loss: 0.5022 - val_loss: 0.4369\n",
      "Epoch 9/10\n",
      "242/242 [==============================] - 0s 1ms/step - loss: 0.5016 - val_loss: 0.4352\n",
      "Epoch 10/10\n",
      "242/242 [==============================] - 0s 1ms/step - loss: 0.4985 - val_loss: 0.4422\n",
      "121/121 [==============================] - 0s 618us/step - loss: 0.4919\n",
      "Epoch 1/10\n",
      "242/242 [==============================] - 0s 1ms/step - loss: 4.8683 - val_loss: 3.9453\n",
      "Epoch 2/10\n",
      "242/242 [==============================] - 0s 1ms/step - loss: 3.6396 - val_loss: 2.9834\n",
      "Epoch 3/10\n",
      "242/242 [==============================] - 0s 1ms/step - loss: 2.8416 - val_loss: 2.3623\n",
      "Epoch 4/10\n",
      "242/242 [==============================] - 0s 1ms/step - loss: 2.3233 - val_loss: 1.9612\n",
      "Epoch 5/10\n",
      "242/242 [==============================] - 0s 1ms/step - loss: 1.9869 - val_loss: 1.7031\n",
      "Epoch 6/10\n",
      "242/242 [==============================] - 0s 1ms/step - loss: 1.7685 - val_loss: 1.5371\n",
      "Epoch 7/10\n",
      "242/242 [==============================] - 0s 1ms/step - loss: 1.6265 - val_loss: 1.4303\n",
      "Epoch 8/10\n",
      "242/242 [==============================] - 0s 1ms/step - loss: 1.5343 - val_loss: 1.3624\n",
      "Epoch 9/10\n",
      "242/242 [==============================] - 0s 1ms/step - loss: 1.4747 - val_loss: 1.3191\n",
      "Epoch 10/10\n",
      "242/242 [==============================] - 0s 1ms/step - loss: 1.4358 - val_loss: 1.2917\n",
      "121/121 [==============================] - 0s 594us/step - loss: 1.4363\n",
      "Epoch 1/10\n",
      "242/242 [==============================] - 0s 1ms/step - loss: 4.8709 - val_loss: 3.9476\n",
      "Epoch 2/10\n",
      "242/242 [==============================] - 0s 1ms/step - loss: 3.6465 - val_loss: 2.9875\n",
      "Epoch 3/10\n",
      "242/242 [==============================] - 0s 1ms/step - loss: 2.8512 - val_loss: 2.3659\n",
      "Epoch 4/10\n",
      "242/242 [==============================] - 0s 1ms/step - loss: 2.3347 - val_loss: 1.9652\n",
      "Epoch 5/10\n",
      "242/242 [==============================] - 0s 1ms/step - loss: 1.9994 - val_loss: 1.7064\n",
      "Epoch 6/10\n",
      "242/242 [==============================] - 0s 1ms/step - loss: 1.7814 - val_loss: 1.5397\n",
      "Epoch 7/10\n",
      "242/242 [==============================] - 0s 1ms/step - loss: 1.6400 - val_loss: 1.4328\n",
      "Epoch 8/10\n",
      "242/242 [==============================] - 0s 1ms/step - loss: 1.5483 - val_loss: 1.3646\n",
      "Epoch 9/10\n",
      "242/242 [==============================] - 0s 1ms/step - loss: 1.4888 - val_loss: 1.3209\n",
      "Epoch 10/10\n",
      "242/242 [==============================] - 0s 1ms/step - loss: 1.4502 - val_loss: 1.2932\n",
      "121/121 [==============================] - 0s 667us/step - loss: 1.4126\n",
      "Epoch 1/10\n",
      "242/242 [==============================] - 0s 1ms/step - loss: 4.8831 - val_loss: 3.9428\n",
      "Epoch 2/10\n",
      "242/242 [==============================] - 0s 1ms/step - loss: 3.6494 - val_loss: 2.9799\n",
      "Epoch 3/10\n",
      "242/242 [==============================] - 0s 1ms/step - loss: 2.8479 - val_loss: 2.3581\n",
      "Epoch 4/10\n",
      "242/242 [==============================] - 0s 1ms/step - loss: 2.3276 - val_loss: 1.9574\n",
      "Epoch 5/10\n",
      "242/242 [==============================] - 0s 1ms/step - loss: 1.9898 - val_loss: 1.6996\n",
      "Epoch 6/10\n",
      "242/242 [==============================] - 0s 1ms/step - loss: 1.7703 - val_loss: 1.5337\n",
      "Epoch 7/10\n",
      "242/242 [==============================] - 0s 1ms/step - loss: 1.6278 - val_loss: 1.4276\n",
      "Epoch 8/10\n",
      "242/242 [==============================] - 0s 1ms/step - loss: 1.5352 - val_loss: 1.3601\n",
      "Epoch 9/10\n",
      "242/242 [==============================] - 0s 1ms/step - loss: 1.4752 - val_loss: 1.3169\n",
      "Epoch 10/10\n",
      "242/242 [==============================] - 0s 1ms/step - loss: 1.4361 - val_loss: 1.2899\n",
      "121/121 [==============================] - 0s 661us/step - loss: 1.4299\n",
      "Epoch 1/10\n",
      "242/242 [==============================] - 0s 1ms/step - loss: 0.9726 - val_loss: 0.6878\n",
      "Epoch 2/10\n",
      "242/242 [==============================] - 0s 1ms/step - loss: 0.6712 - val_loss: 0.5829\n",
      "Epoch 3/10\n",
      "242/242 [==============================] - 0s 1ms/step - loss: 0.5700 - val_loss: 0.5003\n",
      "Epoch 4/10\n",
      "242/242 [==============================] - 0s 2ms/step - loss: 0.5065 - val_loss: 0.4658\n",
      "Epoch 5/10\n",
      "242/242 [==============================] - 0s 1ms/step - loss: 0.4765 - val_loss: 0.4329\n",
      "Epoch 6/10\n",
      "242/242 [==============================] - 0s 2ms/step - loss: 0.4638 - val_loss: 0.4296\n",
      "Epoch 7/10\n",
      "242/242 [==============================] - 0s 1ms/step - loss: 0.4498 - val_loss: 0.4264\n",
      "Epoch 8/10\n",
      "242/242 [==============================] - 0s 1ms/step - loss: 0.4395 - val_loss: 0.4155\n",
      "Epoch 9/10\n",
      "242/242 [==============================] - 0s 1ms/step - loss: 0.4315 - val_loss: 0.4037\n",
      "Epoch 10/10\n",
      "242/242 [==============================] - 0s 1ms/step - loss: 0.4253 - val_loss: 0.4024\n",
      "121/121 [==============================] - 0s 640us/step - loss: 0.4549\n",
      "Epoch 1/10\n",
      "242/242 [==============================] - 0s 2ms/step - loss: 0.9598 - val_loss: 0.6246\n",
      "Epoch 2/10\n",
      "242/242 [==============================] - 0s 1ms/step - loss: 0.5802 - val_loss: 0.4706\n",
      "Epoch 3/10\n",
      "242/242 [==============================] - 0s 1ms/step - loss: 0.4992 - val_loss: 0.4362\n",
      "Epoch 4/10\n",
      "242/242 [==============================] - 0s 2ms/step - loss: 0.4687 - val_loss: 0.4175\n",
      "Epoch 5/10\n",
      "242/242 [==============================] - 0s 1ms/step - loss: 0.5284 - val_loss: 0.4564\n",
      "Epoch 6/10\n",
      "242/242 [==============================] - 0s 2ms/step - loss: 0.4821 - val_loss: 0.4140\n",
      "Epoch 7/10\n",
      "242/242 [==============================] - 1s 2ms/step - loss: 0.4505 - val_loss: 0.4008\n",
      "Epoch 8/10\n",
      "242/242 [==============================] - 0s 2ms/step - loss: 0.4357 - val_loss: 0.4096\n",
      "Epoch 9/10\n",
      "242/242 [==============================] - 0s 2ms/step - loss: 0.4246 - val_loss: 0.4005\n",
      "Epoch 10/10\n",
      "242/242 [==============================] - 0s 2ms/step - loss: 0.4191 - val_loss: 0.3854\n"
     ]
    },
    {
     "name": "stdout",
     "output_type": "stream",
     "text": [
      "121/121 [==============================] - 0s 1ms/step - loss: 0.3997\n",
      "Epoch 1/10\n",
      "242/242 [==============================] - 1s 3ms/step - loss: 1.1998 - val_loss: 0.5824\n",
      "Epoch 2/10\n",
      "242/242 [==============================] - 1s 2ms/step - loss: 0.5968 - val_loss: 0.4621\n",
      "Epoch 3/10\n",
      "242/242 [==============================] - 0s 2ms/step - loss: 0.4803 - val_loss: 0.4200\n",
      "Epoch 4/10\n",
      "242/242 [==============================] - 0s 2ms/step - loss: 0.4497 - val_loss: 0.4062\n",
      "Epoch 5/10\n",
      "242/242 [==============================] - 0s 2ms/step - loss: 0.4378 - val_loss: 0.3910\n",
      "Epoch 6/10\n",
      "242/242 [==============================] - 0s 2ms/step - loss: 0.4357 - val_loss: 0.4046\n",
      "Epoch 7/10\n",
      "242/242 [==============================] - 0s 1ms/step - loss: 0.4279 - val_loss: 0.3878\n",
      "Epoch 8/10\n",
      "242/242 [==============================] - 0s 2ms/step - loss: 0.4148 - val_loss: 0.3831\n",
      "Epoch 9/10\n",
      "242/242 [==============================] - 0s 1ms/step - loss: 0.4118 - val_loss: 0.3827\n",
      "Epoch 10/10\n",
      "242/242 [==============================] - 0s 2ms/step - loss: 0.4086 - val_loss: 0.3713\n",
      "121/121 [==============================] - 0s 881us/step - loss: 0.3900\n",
      "Epoch 1/10\n",
      "242/242 [==============================] - 1s 2ms/step - loss: 0.9730 - val_loss: 0.6931\n",
      "Epoch 2/10\n",
      "242/242 [==============================] - 1s 2ms/step - loss: 0.6875 - val_loss: 0.6127\n",
      "Epoch 3/10\n",
      "242/242 [==============================] - 0s 2ms/step - loss: 0.6312 - val_loss: 0.5600\n",
      "Epoch 4/10\n",
      "242/242 [==============================] - 0s 2ms/step - loss: 0.5858 - val_loss: 0.5227\n",
      "Epoch 5/10\n",
      "242/242 [==============================] - 0s 2ms/step - loss: 0.5488 - val_loss: 0.4938\n",
      "Epoch 6/10\n",
      "242/242 [==============================] - 0s 1ms/step - loss: 0.5233 - val_loss: 0.4728\n",
      "Epoch 7/10\n",
      "242/242 [==============================] - 0s 1ms/step - loss: 0.5029 - val_loss: 0.4582\n",
      "Epoch 8/10\n",
      "242/242 [==============================] - 0s 2ms/step - loss: 0.4884 - val_loss: 0.4519\n",
      "Epoch 9/10\n",
      "242/242 [==============================] - 0s 1ms/step - loss: 0.4777 - val_loss: 0.4476\n",
      "Epoch 10/10\n",
      "242/242 [==============================] - 0s 1ms/step - loss: 0.4707 - val_loss: 0.4395\n",
      "121/121 [==============================] - 0s 813us/step - loss: 0.5048\n",
      "Epoch 1/10\n",
      "242/242 [==============================] - 1s 2ms/step - loss: 2.5667 - val_loss: 1.2167\n",
      "Epoch 2/10\n",
      "242/242 [==============================] - 0s 2ms/step - loss: 1.1790 - val_loss: 0.7747\n",
      "Epoch 3/10\n",
      "242/242 [==============================] - 1s 2ms/step - loss: 0.6469 - val_loss: 0.5034\n",
      "Epoch 4/10\n",
      "242/242 [==============================] - 1s 2ms/step - loss: 0.4967 - val_loss: 0.4310\n",
      "Epoch 5/10\n",
      "242/242 [==============================] - 0s 2ms/step - loss: 0.4586 - val_loss: 0.4098\n",
      "Epoch 6/10\n",
      "242/242 [==============================] - 1s 2ms/step - loss: 0.4371 - val_loss: 0.3936\n",
      "Epoch 7/10\n",
      "242/242 [==============================] - 0s 2ms/step - loss: 0.4195 - val_loss: 0.3869\n",
      "Epoch 8/10\n",
      "242/242 [==============================] - 1s 2ms/step - loss: 0.4059 - val_loss: 0.3755\n",
      "Epoch 9/10\n",
      "242/242 [==============================] - 1s 2ms/step - loss: 0.3939 - val_loss: 0.3665\n",
      "Epoch 10/10\n",
      "242/242 [==============================] - 1s 2ms/step - loss: 0.3870 - val_loss: 0.3637\n",
      "121/121 [==============================] - 0s 1ms/step - loss: 0.3783\n",
      "Epoch 1/10\n",
      "242/242 [==============================] - 1s 3ms/step - loss: 1.1776 - val_loss: 0.5918\n",
      "Epoch 2/10\n",
      "242/242 [==============================] - 1s 2ms/step - loss: 0.5767 - val_loss: 0.5093\n",
      "Epoch 3/10\n",
      "242/242 [==============================] - 0s 2ms/step - loss: 0.5373 - val_loss: 0.4885\n",
      "Epoch 4/10\n",
      "242/242 [==============================] - 0s 2ms/step - loss: 0.5240 - val_loss: 0.4855\n",
      "Epoch 5/10\n",
      "242/242 [==============================] - 0s 2ms/step - loss: 0.5161 - val_loss: 0.4706\n",
      "Epoch 6/10\n",
      "242/242 [==============================] - 0s 2ms/step - loss: 0.5077 - val_loss: 0.4666\n",
      "Epoch 7/10\n",
      "242/242 [==============================] - 0s 2ms/step - loss: 0.5000 - val_loss: 0.4636\n",
      "Epoch 8/10\n",
      "242/242 [==============================] - 1s 2ms/step - loss: 0.4942 - val_loss: 0.4544\n",
      "Epoch 9/10\n",
      "242/242 [==============================] - 1s 3ms/step - loss: 0.4894 - val_loss: 0.4504\n",
      "Epoch 10/10\n",
      "242/242 [==============================] - 1s 3ms/step - loss: 0.4843 - val_loss: 0.4463\n",
      "121/121 [==============================] - 0s 894us/step - loss: 0.4684\n",
      "Epoch 1/10\n",
      "242/242 [==============================] - 0s 2ms/step - loss: 1.6941 - val_loss: 0.7361\n",
      "Epoch 2/10\n",
      "242/242 [==============================] - 0s 1ms/step - loss: 0.7125 - val_loss: 0.6335\n",
      "Epoch 3/10\n",
      "242/242 [==============================] - 0s 1ms/step - loss: 0.6483 - val_loss: 0.5905\n",
      "Epoch 4/10\n",
      "242/242 [==============================] - 0s 1ms/step - loss: 0.6153 - val_loss: 0.5691\n",
      "Epoch 5/10\n",
      "242/242 [==============================] - 0s 1ms/step - loss: 0.5949 - val_loss: 0.5526\n",
      "Epoch 6/10\n",
      "242/242 [==============================] - 0s 1ms/step - loss: 0.5803 - val_loss: 0.5397\n",
      "Epoch 7/10\n",
      "242/242 [==============================] - 0s 1ms/step - loss: 0.5682 - val_loss: 0.5298\n",
      "Epoch 8/10\n",
      "242/242 [==============================] - 0s 1ms/step - loss: 0.5570 - val_loss: 0.5226\n",
      "Epoch 9/10\n",
      "242/242 [==============================] - 0s 1ms/step - loss: 0.5469 - val_loss: 0.5152\n",
      "Epoch 10/10\n",
      "242/242 [==============================] - 0s 1ms/step - loss: 0.5380 - val_loss: 0.5058\n",
      "121/121 [==============================] - 0s 961us/step - loss: 0.5760\n",
      "Epoch 1/10\n",
      "242/242 [==============================] - 1s 3ms/step - loss: 1.6691 - val_loss: 0.8019\n",
      "Epoch 2/10\n",
      "242/242 [==============================] - 0s 2ms/step - loss: 0.7802 - val_loss: 0.6847\n",
      "Epoch 3/10\n",
      "242/242 [==============================] - 0s 2ms/step - loss: 0.7112 - val_loss: 0.6361\n",
      "Epoch 4/10\n",
      "242/242 [==============================] - 0s 2ms/step - loss: 0.6682 - val_loss: 0.5917\n",
      "Epoch 5/10\n",
      "242/242 [==============================] - 0s 1ms/step - loss: 0.6323 - val_loss: 0.5550\n",
      "Epoch 6/10\n",
      "242/242 [==============================] - 0s 1ms/step - loss: 0.5988 - val_loss: 0.5297\n",
      "Epoch 7/10\n",
      "242/242 [==============================] - 0s 1ms/step - loss: 0.5709 - val_loss: 0.5063\n",
      "Epoch 8/10\n",
      "242/242 [==============================] - 0s 1ms/step - loss: 0.5477 - val_loss: 0.4877\n",
      "Epoch 9/10\n",
      "242/242 [==============================] - 0s 1ms/step - loss: 0.5295 - val_loss: 0.4643\n",
      "Epoch 10/10\n",
      "242/242 [==============================] - 0s 1ms/step - loss: 0.5104 - val_loss: 0.4529\n",
      "121/121 [==============================] - 0s 643us/step - loss: 0.4914\n",
      "Epoch 1/10\n",
      "242/242 [==============================] - 60s 249ms/step - loss: 2.0979 - val_loss: 1.1421\n",
      "Epoch 2/10\n",
      "242/242 [==============================] - 0s 2ms/step - loss: 1.0279 - val_loss: 0.8166\n",
      "Epoch 3/10\n",
      "242/242 [==============================] - 0s 2ms/step - loss: 0.7888 - val_loss: 0.6790\n",
      "Epoch 4/10\n",
      "242/242 [==============================] - 0s 1ms/step - loss: 0.7115 - val_loss: 0.6381\n",
      "Epoch 5/10\n",
      "242/242 [==============================] - 1s 3ms/step - loss: 0.6834 - val_loss: 0.6166\n",
      "Epoch 6/10\n",
      "242/242 [==============================] - 1s 3ms/step - loss: 0.6634 - val_loss: 0.5995\n",
      "Epoch 7/10\n",
      "242/242 [==============================] - 1s 3ms/step - loss: 0.6462 - val_loss: 0.5840\n",
      "Epoch 8/10\n",
      "242/242 [==============================] - 0s 2ms/step - loss: 0.6302 - val_loss: 0.5725\n",
      "Epoch 9/10\n",
      "242/242 [==============================] - 1s 2ms/step - loss: 0.6145 - val_loss: 0.5565\n",
      "Epoch 10/10\n",
      "242/242 [==============================] - 1s 3ms/step - loss: 0.5999 - val_loss: 0.5432\n",
      "121/121 [==============================] - 0s 1ms/step - loss: 0.5697\n"
     ]
    },
    {
     "name": "stderr",
     "output_type": "stream",
     "text": [
      "[Parallel(n_jobs=1)]: Done  30 out of  30 | elapsed:  3.2min finished\n"
     ]
    },
    {
     "name": "stdout",
     "output_type": "stream",
     "text": [
      "Epoch 1/10\n",
      "363/363 [==============================] - 1s 2ms/step - loss: 0.8669 - val_loss: 0.5847\n",
      "Epoch 2/10\n",
      "363/363 [==============================] - 0s 1ms/step - loss: 0.5501 - val_loss: 0.4502\n",
      "Epoch 3/10\n",
      "363/363 [==============================] - 1s 2ms/step - loss: 0.4826 - val_loss: 0.4299\n",
      "Epoch 4/10\n",
      "363/363 [==============================] - 1s 2ms/step - loss: 0.4610 - val_loss: 0.4131\n",
      "Epoch 5/10\n",
      "363/363 [==============================] - 1s 3ms/step - loss: 0.4490 - val_loss: 0.4087\n",
      "Epoch 6/10\n",
      "363/363 [==============================] - 2s 4ms/step - loss: 0.4375 - val_loss: 0.4038\n",
      "Epoch 7/10\n",
      "363/363 [==============================] - 1s 2ms/step - loss: 0.4296 - val_loss: 0.3952\n",
      "Epoch 8/10\n",
      "363/363 [==============================] - 1s 2ms/step - loss: 0.4287 - val_loss: 0.3988\n",
      "Epoch 9/10\n",
      "363/363 [==============================] - 1s 2ms/step - loss: 0.4173 - val_loss: 0.3964\n",
      "Epoch 10/10\n",
      "363/363 [==============================] - 1s 2ms/step - loss: 0.4112 - val_loss: 0.3838\n"
     ]
    },
    {
     "data": {
      "text/plain": [
       "RandomizedSearchCV(cv=3, error_score='raise-deprecating',\n",
       "                   estimator=<tensorflow.python.keras.wrappers.scikit_learn.KerasRegressor object at 0x146ca5a90>,\n",
       "                   iid='warn', n_iter=10, n_jobs=None,\n",
       "                   param_distributions={'learning_rate': <scipy.stats._distn_infrastructure.rv_frozen object at 0x1488b25c0>,\n",
       "                                        'n_hidden': [1, 3],\n",
       "                                        'n_neurons': array([1, 2, 3, 4, 5, 6, 7, 8, 9])},\n",
       "                   pre_dispatch='2*n_jobs', random_state=None, refit=True,\n",
       "                   return_train_score=False, scoring=None, verbose=1)"
      ]
     },
     "execution_count": 54,
     "metadata": {},
     "output_type": "execute_result"
    }
   ],
   "source": [
    "from scipy.stats import reciprocal\n",
    "from sklearn.model_selection import RandomizedSearchCV\n",
    "\n",
    "# param_distribs = {\n",
    "#     \"n_hidden\": [0, 1, 2, 3],\n",
    "#     \"n_neurons\": np.arange(1, 100),\n",
    "#     \"learning_rate\": reciprocal(3e-4, 3e-2),\n",
    "# }\n",
    "\n",
    "param_distribs = {\n",
    "    \"n_hidden\": [1, 3],\n",
    "    \"n_neurons\": np.arange(1, 10),\n",
    "    \"learning_rate\": reciprocal(3e-4, 3e-2),\n",
    "}\n",
    "\n",
    "rnd_search_cv = RandomizedSearchCV(keras_reg, param_distribs, n_iter=10, cv=3, verbose=1)\n",
    "# rnd_search_cv.fit(X_train, y_train, epochs=100,\n",
    "rnd_search_cv.fit(X_train, y_train, epochs=10,\n",
    "                  validation_data=(X_valid, y_valid),\n",
    "                  callbacks=[keras.callbacks.EarlyStopping(patience=10)])"
   ]
  },
  {
   "cell_type": "code",
   "execution_count": 55,
   "metadata": {},
   "outputs": [
    {
     "data": {
      "text/plain": [
       "{'learning_rate': 0.013001450780864232, 'n_hidden': 3, 'n_neurons': 7}"
      ]
     },
     "execution_count": 55,
     "metadata": {},
     "output_type": "execute_result"
    }
   ],
   "source": [
    "rnd_search_cv.best_params_"
   ]
  },
  {
   "cell_type": "code",
   "execution_count": 56,
   "metadata": {},
   "outputs": [
    {
     "data": {
      "text/plain": [
       "-0.41486671566963196"
      ]
     },
     "execution_count": 56,
     "metadata": {},
     "output_type": "execute_result"
    }
   ],
   "source": [
    "rnd_search_cv.best_score_"
   ]
  },
  {
   "cell_type": "code",
   "execution_count": 57,
   "metadata": {},
   "outputs": [],
   "source": [
    "model = rnd_search_cv.best_estimator_.model"
   ]
  },
  {
   "cell_type": "markdown",
   "metadata": {},
   "source": [
    "# Exercises\n",
    "## 10. Train a deep MLP on MNIST dataset"
   ]
  },
  {
   "cell_type": "code",
   "execution_count": 58,
   "metadata": {},
   "outputs": [
    {
     "name": "stdout",
     "output_type": "stream",
     "text": [
      "Downloading data from https://storage.googleapis.com/tensorflow/tf-keras-datasets/mnist.npz\n",
      "11493376/11490434 [==============================] - 1s 0us/step\n"
     ]
    }
   ],
   "source": [
    "mnist = keras.datasets.mnist\n",
    "(X_train_full, y_train_full), (X_test, y_test) = mnist.load_data()"
   ]
  },
  {
   "cell_type": "code",
   "execution_count": 59,
   "metadata": {},
   "outputs": [
    {
     "data": {
      "text/plain": [
       "(60000, 28, 28)"
      ]
     },
     "execution_count": 59,
     "metadata": {},
     "output_type": "execute_result"
    }
   ],
   "source": [
    "X_train_full.shape"
   ]
  },
  {
   "cell_type": "code",
   "execution_count": 60,
   "metadata": {},
   "outputs": [],
   "source": [
    "X_valid, X_train = X_train_full[:5000] / 255.0, X_train_full[5000:] / 255.0\n",
    "y_valid, y_train = y_train_full[:5000], y_train_full[5000:]"
   ]
  },
  {
   "cell_type": "code",
   "execution_count": 78,
   "metadata": {},
   "outputs": [],
   "source": [
    "model = keras.models.Sequential([\n",
    "    keras.layers.Flatten(input_shape=[28,28]),\n",
    "    keras.layers.Dense(50, activation=\"relu\"),\n",
    "    keras.layers.Dense(50, activation=\"relu\"),\n",
    "    keras.layers.Dense(50, activation=\"relu\"),\n",
    "    keras.layers.Dense(50, activation=\"relu\"),\n",
    "    keras.layers.Dense(50, activation=\"relu\"),\n",
    "    keras.layers.Dense(10, activation=\"softmax\")\n",
    "])"
   ]
  },
  {
   "cell_type": "code",
   "execution_count": 79,
   "metadata": {
    "scrolled": false
   },
   "outputs": [
    {
     "name": "stdout",
     "output_type": "stream",
     "text": [
      "Model: \"sequential_40\"\n",
      "_________________________________________________________________\n",
      "Layer (type)                 Output Shape              Param #   \n",
      "=================================================================\n",
      "flatten_6 (Flatten)          (None, 784)               0         \n",
      "_________________________________________________________________\n",
      "dense_141 (Dense)            (None, 50)                39250     \n",
      "_________________________________________________________________\n",
      "dense_142 (Dense)            (None, 50)                2550      \n",
      "_________________________________________________________________\n",
      "dense_143 (Dense)            (None, 50)                2550      \n",
      "_________________________________________________________________\n",
      "dense_144 (Dense)            (None, 50)                2550      \n",
      "_________________________________________________________________\n",
      "dense_145 (Dense)            (None, 50)                2550      \n",
      "_________________________________________________________________\n",
      "dense_146 (Dense)            (None, 10)                510       \n",
      "=================================================================\n",
      "Total params: 49,960\n",
      "Trainable params: 49,960\n",
      "Non-trainable params: 0\n",
      "_________________________________________________________________\n"
     ]
    }
   ],
   "source": [
    "model.summary()"
   ]
  },
  {
   "cell_type": "code",
   "execution_count": 80,
   "metadata": {},
   "outputs": [],
   "source": [
    "model.compile(loss=\"sparse_categorical_crossentropy\",\n",
    "              optimizer=\"sgd\",\n",
    "              metrics=[\"accuracy\"])"
   ]
  },
  {
   "cell_type": "code",
   "execution_count": 81,
   "metadata": {
    "scrolled": false
   },
   "outputs": [
    {
     "name": "stdout",
     "output_type": "stream",
     "text": [
      "Epoch 1/10\n",
      "1719/1719 [==============================] - 3s 2ms/step - loss: 0.8821 - accuracy: 0.7279 - val_loss: 0.3261 - val_accuracy: 0.9088\n",
      "Epoch 2/10\n",
      "1719/1719 [==============================] - 3s 2ms/step - loss: 0.2835 - accuracy: 0.9151 - val_loss: 0.2325 - val_accuracy: 0.9358\n",
      "Epoch 3/10\n",
      "1719/1719 [==============================] - 4s 2ms/step - loss: 0.2180 - accuracy: 0.9360 - val_loss: 0.1952 - val_accuracy: 0.9440\n",
      "Epoch 4/10\n",
      "1719/1719 [==============================] - 3s 2ms/step - loss: 0.1799 - accuracy: 0.9467 - val_loss: 0.1576 - val_accuracy: 0.9554\n",
      "Epoch 5/10\n",
      "1719/1719 [==============================] - 3s 2ms/step - loss: 0.1541 - accuracy: 0.9535 - val_loss: 0.1372 - val_accuracy: 0.9612\n",
      "Epoch 6/10\n",
      "1719/1719 [==============================] - 4s 2ms/step - loss: 0.1347 - accuracy: 0.9594 - val_loss: 0.1320 - val_accuracy: 0.9602\n",
      "Epoch 7/10\n",
      "1719/1719 [==============================] - 4s 2ms/step - loss: 0.1213 - accuracy: 0.9638 - val_loss: 0.1198 - val_accuracy: 0.9644\n",
      "Epoch 8/10\n",
      "1719/1719 [==============================] - 4s 2ms/step - loss: 0.1101 - accuracy: 0.9671 - val_loss: 0.1142 - val_accuracy: 0.9682\n",
      "Epoch 9/10\n",
      "1719/1719 [==============================] - 4s 2ms/step - loss: 0.0996 - accuracy: 0.9702 - val_loss: 0.1161 - val_accuracy: 0.9656\n",
      "Epoch 10/10\n",
      "1719/1719 [==============================] - 5s 3ms/step - loss: 0.0922 - accuracy: 0.9724 - val_loss: 0.1126 - val_accuracy: 0.9686\n"
     ]
    }
   ],
   "source": [
    "history = model.fit(X_train, y_train, epochs=10,\n",
    "                    validation_data=(X_valid, y_valid))"
   ]
  },
  {
   "cell_type": "code",
   "execution_count": 82,
   "metadata": {
    "scrolled": true
   },
   "outputs": [
    {
     "data": {
      "image/png": "[encoded data removed]",
      "text/plain": [
       "<Figure size 1080x360 with 1 Axes>"
      ]
     },
     "metadata": {
      "needs_background": "light"
     },
     "output_type": "display_data"
    }
   ],
   "source": [
    "pd.DataFrame(history.history).plot(figsize=(15, 5))\n",
    "plt.grid(True)\n",
    "plt.gca().set_ylim(0,1)\n",
    "plt.show()"
   ]
  },
  {
   "cell_type": "code",
   "execution_count": 83,
   "metadata": {},
   "outputs": [],
   "source": [
    "model = keras.models.Sequential([\n",
    "    keras.layers.Flatten(input_shape=[28,28]),\n",
    "    keras.layers.Dense(500, activation=\"relu\"),\n",
    "    keras.layers.Dense(100, activation=\"relu\"),\n",
    "    keras.layers.Dense(50, activation=\"relu\"),\n",
    "    keras.layers.Dense(10, activation=\"softmax\")\n",
    "])"
   ]
  },
  {
   "cell_type": "code",
   "execution_count": 84,
   "metadata": {},
   "outputs": [
    {
     "name": "stdout",
     "output_type": "stream",
     "text": [
      "Model: \"sequential_41\"\n",
      "_________________________________________________________________\n",
      "Layer (type)                 Output Shape              Param #   \n",
      "=================================================================\n",
      "flatten_7 (Flatten)          (None, 784)               0         \n",
      "_________________________________________________________________\n",
      "dense_147 (Dense)            (None, 500)               392500    \n",
      "_________________________________________________________________\n",
      "dense_148 (Dense)            (None, 100)               50100     \n",
      "_________________________________________________________________\n",
      "dense_149 (Dense)            (None, 50)                5050      \n",
      "_________________________________________________________________\n",
      "dense_150 (Dense)            (None, 10)                510       \n",
      "=================================================================\n",
      "Total params: 448,160\n",
      "Trainable params: 448,160\n",
      "Non-trainable params: 0\n",
      "_________________________________________________________________\n"
     ]
    }
   ],
   "source": [
    "model.summary()"
   ]
  },
  {
   "cell_type": "code",
   "execution_count": 85,
   "metadata": {},
   "outputs": [],
   "source": [
    "model.compile(loss=\"sparse_categorical_crossentropy\",\n",
    "              optimizer=\"sgd\",\n",
    "              metrics=[\"accuracy\"])"
   ]
  },
  {
   "cell_type": "code",
   "execution_count": 86,
   "metadata": {},
   "outputs": [
    {
     "name": "stdout",
     "output_type": "stream",
     "text": [
      "Epoch 1/10\n",
      "1719/1719 [==============================] - 8s 5ms/step - loss: 0.5958 - accuracy: 0.8376 - val_loss: 0.2754 - val_accuracy: 0.9210\n",
      "Epoch 2/10\n",
      "1719/1719 [==============================] - 9s 5ms/step - loss: 0.2528 - accuracy: 0.9270 - val_loss: 0.2117 - val_accuracy: 0.9394\n",
      "Epoch 3/10\n",
      "1719/1719 [==============================] - 10s 6ms/step - loss: 0.1987 - accuracy: 0.9426 - val_loss: 0.1695 - val_accuracy: 0.9544\n",
      "Epoch 4/10\n",
      "1719/1719 [==============================] - 10s 6ms/step - loss: 0.1644 - accuracy: 0.9515 - val_loss: 0.1484 - val_accuracy: 0.9578\n",
      "Epoch 5/10\n",
      "1719/1719 [==============================] - 11s 6ms/step - loss: 0.1387 - accuracy: 0.9598 - val_loss: 0.1280 - val_accuracy: 0.9654\n",
      "Epoch 6/10\n",
      "1719/1719 [==============================] - 9s 6ms/step - loss: 0.1186 - accuracy: 0.9659 - val_loss: 0.1135 - val_accuracy: 0.9700\n",
      "Epoch 7/10\n",
      "1719/1719 [==============================] - 11s 6ms/step - loss: 0.1032 - accuracy: 0.9702 - val_loss: 0.1116 - val_accuracy: 0.9688\n",
      "Epoch 8/10\n",
      "1719/1719 [==============================] - 10s 6ms/step - loss: 0.0897 - accuracy: 0.9746 - val_loss: 0.0988 - val_accuracy: 0.9714\n",
      "Epoch 9/10\n",
      "1719/1719 [==============================] - 11s 7ms/step - loss: 0.0792 - accuracy: 0.9775 - val_loss: 0.0912 - val_accuracy: 0.9736\n",
      "Epoch 10/10\n",
      "1719/1719 [==============================] - 11s 6ms/step - loss: 0.0701 - accuracy: 0.9804 - val_loss: 0.0860 - val_accuracy: 0.9754\n"
     ]
    }
   ],
   "source": [
    "history = model.fit(X_train, y_train, epochs=10,\n",
    "                    validation_data=(X_valid, y_valid))"
   ]
  },
  {
   "cell_type": "code",
   "execution_count": 87,
   "metadata": {},
   "outputs": [
    {
     "data": {
      "image/png": "[encoded data removed]",
      "text/plain": [
       "<Figure size 1080x360 with 1 Axes>"
      ]
     },
     "metadata": {
      "needs_background": "light"
     },
     "output_type": "display_data"
    }
   ],
   "source": [
    "pd.DataFrame(history.history).plot(figsize=(15, 5))\n",
    "plt.grid(True)\n",
    "plt.gca().set_ylim(0,1)\n",
    "plt.show()"
   ]
  },
  {
   "cell_type": "markdown",
   "metadata": {},
   "source": [
    "note that the first model certainly had better bang/buck! Both models had comparable accuracy (without overfitting) but the first model had 10x less parameters!\n",
    "\n",
    "## find optimal learning rate"
   ]
  },
  {
   "cell_type": "code",
   "execution_count": 103,
   "metadata": {},
   "outputs": [],
   "source": [
    "def build_mnist_model(n_hidden=2, n_neurons=50, learning_rate=3e-3, input_shape=[28, 28]):\n",
    "    model = keras.models.Sequential()\n",
    "    model.add(keras.layers.Flatten(input_shape=input_shape))\n",
    "    for layer in range(n_hidden):\n",
    "        model.add(keras.layers.Dense(n_neurons, activation=\"relu\"))\n",
    "    model.add(keras.layers.Dense(10, activation=\"softmax\"))\n",
    "    optimizer = keras.optimizers.SGD(lr=learning_rate)\n",
    "    model.compile(loss=\"sparse_categorical_crossentropy\", optimizer=optimizer, metrics=[\"accuracy\"])\n",
    "    return model"
   ]
  },
  {
   "cell_type": "code",
   "execution_count": 104,
   "metadata": {},
   "outputs": [],
   "source": [
    "model = build_mnist_model()"
   ]
  },
  {
   "cell_type": "code",
   "execution_count": 105,
   "metadata": {},
   "outputs": [
    {
     "name": "stdout",
     "output_type": "stream",
     "text": [
      "Epoch 1/5\n",
      "1719/1719 [==============================] - 3s 2ms/step - loss: 1.2937 - accuracy: 0.6485 - val_loss: 0.6267 - val_accuracy: 0.8510\n",
      "Epoch 2/5\n",
      "1719/1719 [==============================] - 3s 2ms/step - loss: 0.5092 - accuracy: 0.8648 - val_loss: 0.4188 - val_accuracy: 0.8856\n",
      "Epoch 3/5\n",
      "1719/1719 [==============================] - 3s 2ms/step - loss: 0.3975 - accuracy: 0.8887 - val_loss: 0.3546 - val_accuracy: 0.9020\n",
      "Epoch 4/5\n",
      "1719/1719 [==============================] - 4s 2ms/step - loss: 0.3523 - accuracy: 0.8987 - val_loss: 0.3210 - val_accuracy: 0.9106\n",
      "Epoch 5/5\n",
      "1719/1719 [==============================] - 4s 2ms/step - loss: 0.3250 - accuracy: 0.9069 - val_loss: 0.2972 - val_accuracy: 0.9172\n"
     ]
    },
    {
     "data": {
      "text/plain": [
       "<tensorflow.python.keras.callbacks.History at 0x158c920f0>"
      ]
     },
     "execution_count": 105,
     "metadata": {},
     "output_type": "execute_result"
    }
   ],
   "source": [
    "keras_clf = keras.wrappers.scikit_learn.KerasClassifier(build_mnist_model)\n",
    "keras_clf.fit(X_train, y_train, epochs=5,\n",
    "              validation_data=(X_valid, y_valid),\n",
    "              callbacks=[keras.callbacks.EarlyStopping(patience=10)])"
   ]
  },
  {
   "cell_type": "code",
   "execution_count": 106,
   "metadata": {
    "scrolled": true
   },
   "outputs": [
    {
     "name": "stdout",
     "output_type": "stream",
     "text": [
      "Fitting 3 folds for each of 5 candidates, totalling 15 fits\n"
     ]
    },
    {
     "name": "stderr",
     "output_type": "stream",
     "text": [
      "[Parallel(n_jobs=1)]: Using backend SequentialBackend with 1 concurrent workers.\n"
     ]
    },
    {
     "name": "stdout",
     "output_type": "stream",
     "text": [
      "Epoch 1/5\n",
      "1146/1146 [==============================] - 2s 2ms/step - loss: 1.7403 - accuracy: 0.5151 - val_loss: 1.1676 - val_accuracy: 0.7364\n",
      "Epoch 2/5\n",
      "1146/1146 [==============================] - 2s 2ms/step - loss: 0.8695 - accuracy: 0.7995 - val_loss: 0.6553 - val_accuracy: 0.8348\n",
      "Epoch 3/5\n",
      "1146/1146 [==============================] - 2s 2ms/step - loss: 0.5740 - accuracy: 0.8523 - val_loss: 0.4936 - val_accuracy: 0.8706\n",
      "Epoch 4/5\n",
      "1146/1146 [==============================] - 2s 2ms/step - loss: 0.4666 - accuracy: 0.8736 - val_loss: 0.4191 - val_accuracy: 0.8864\n",
      "Epoch 5/5\n",
      "1146/1146 [==============================] - 3s 3ms/step - loss: 0.4122 - accuracy: 0.8849 - val_loss: 0.3772 - val_accuracy: 0.8968\n",
      "573/573 [==============================] - 1s 2ms/step - loss: 0.4031 - accuracy: 0.8892\n",
      "Epoch 1/5\n",
      "1146/1146 [==============================] - 3s 2ms/step - loss: 1.8040 - accuracy: 0.4983 - val_loss: 1.1875 - val_accuracy: 0.7372\n",
      "Epoch 2/5\n",
      "1146/1146 [==============================] - 2s 2ms/step - loss: 0.8627 - accuracy: 0.7900 - val_loss: 0.6456 - val_accuracy: 0.8330\n",
      "Epoch 3/5\n",
      "1146/1146 [==============================] - 3s 2ms/step - loss: 0.5706 - accuracy: 0.8482 - val_loss: 0.4927 - val_accuracy: 0.8664\n",
      "Epoch 4/5\n",
      "1146/1146 [==============================] - 2s 2ms/step - loss: 0.4678 - accuracy: 0.8723 - val_loss: 0.4233 - val_accuracy: 0.8862\n",
      "Epoch 5/5\n",
      "1146/1146 [==============================] - 3s 3ms/step - loss: 0.4135 - accuracy: 0.8858 - val_loss: 0.3797 - val_accuracy: 0.8972\n",
      "573/573 [==============================] - 2s 3ms/step - loss: 0.4149 - accuracy: 0.8846\n",
      "Epoch 1/5\n",
      "1146/1146 [==============================] - 3s 3ms/step - loss: 1.7518 - accuracy: 0.4708 - val_loss: 1.1127 - val_accuracy: 0.7456\n",
      "Epoch 2/5\n",
      "1146/1146 [==============================] - 3s 3ms/step - loss: 0.8331 - accuracy: 0.7958 - val_loss: 0.6189 - val_accuracy: 0.8480\n",
      "Epoch 3/5\n",
      "1146/1146 [==============================] - 3s 3ms/step - loss: 0.5591 - accuracy: 0.8558 - val_loss: 0.4693 - val_accuracy: 0.8776\n",
      "Epoch 4/5\n",
      "1146/1146 [==============================] - 4s 3ms/step - loss: 0.4595 - accuracy: 0.8765 - val_loss: 0.4050 - val_accuracy: 0.8940\n",
      "Epoch 5/5\n",
      "1146/1146 [==============================] - 3s 2ms/step - loss: 0.4097 - accuracy: 0.8871 - val_loss: 0.3685 - val_accuracy: 0.8994\n",
      "573/573 [==============================] - 1s 2ms/step - loss: 0.3818 - accuracy: 0.8915\n",
      "Epoch 1/5\n",
      "1146/1146 [==============================] - 3s 2ms/step - loss: 0.5728 - accuracy: 0.8435 - val_loss: 0.3042 - val_accuracy: 0.9146\n",
      "Epoch 2/5\n",
      "1146/1146 [==============================] - 3s 3ms/step - loss: 0.2797 - accuracy: 0.9173 - val_loss: 0.2596 - val_accuracy: 0.9228\n",
      "Epoch 3/5\n",
      "1146/1146 [==============================] - 3s 2ms/step - loss: 0.2272 - accuracy: 0.9330 - val_loss: 0.2095 - val_accuracy: 0.9394\n",
      "Epoch 4/5\n",
      "1146/1146 [==============================] - 3s 2ms/step - loss: 0.1930 - accuracy: 0.9425 - val_loss: 0.1954 - val_accuracy: 0.9426\n",
      "Epoch 5/5\n",
      "1146/1146 [==============================] - 3s 3ms/step - loss: 0.1686 - accuracy: 0.9499 - val_loss: 0.1655 - val_accuracy: 0.9526\n",
      "573/573 [==============================] - 2s 3ms/step - loss: 0.1927 - accuracy: 0.9429\n",
      "Epoch 1/5\n",
      "1146/1146 [==============================] - 3s 3ms/step - loss: 0.5660 - accuracy: 0.8415 - val_loss: 0.3042 - val_accuracy: 0.9134\n",
      "Epoch 2/5\n",
      "1146/1146 [==============================] - 3s 3ms/step - loss: 0.2736 - accuracy: 0.9209 - val_loss: 0.2285 - val_accuracy: 0.9370\n",
      "Epoch 3/5\n",
      "1146/1146 [==============================] - 3s 3ms/step - loss: 0.2203 - accuracy: 0.9369 - val_loss: 0.1945 - val_accuracy: 0.9452\n",
      "Epoch 4/5\n",
      "1146/1146 [==============================] - 3s 3ms/step - loss: 0.1842 - accuracy: 0.9478 - val_loss: 0.1783 - val_accuracy: 0.9472\n",
      "Epoch 5/5\n",
      "1146/1146 [==============================] - 3s 3ms/step - loss: 0.1590 - accuracy: 0.9534 - val_loss: 0.1628 - val_accuracy: 0.9542\n",
      "573/573 [==============================] - 2s 3ms/step - loss: 0.1858 - accuracy: 0.9444\n",
      "Epoch 1/5\n",
      "1146/1146 [==============================] - 3s 3ms/step - loss: 0.6020 - accuracy: 0.8325 - val_loss: 0.2990 - val_accuracy: 0.9150\n",
      "Epoch 2/5\n",
      "1146/1146 [==============================] - 3s 2ms/step - loss: 0.2814 - accuracy: 0.9194 - val_loss: 0.2280 - val_accuracy: 0.9374\n",
      "Epoch 3/5\n",
      "1146/1146 [==============================] - 3s 3ms/step - loss: 0.2268 - accuracy: 0.9343 - val_loss: 0.1892 - val_accuracy: 0.9466\n",
      "Epoch 4/5\n",
      "1146/1146 [==============================] - 3s 3ms/step - loss: 0.1915 - accuracy: 0.9440 - val_loss: 0.1747 - val_accuracy: 0.9500\n",
      "Epoch 5/5\n",
      "1146/1146 [==============================] - 4s 4ms/step - loss: 0.1662 - accuracy: 0.9522 - val_loss: 0.1563 - val_accuracy: 0.9576\n",
      "573/573 [==============================] - 2s 3ms/step - loss: 0.1768 - accuracy: 0.9475\n",
      "Epoch 1/5\n",
      "1146/1146 [==============================] - 3s 2ms/step - loss: 2.2571 - accuracy: 0.1681 - val_loss: 2.1562 - val_accuracy: 0.2832\n",
      "Epoch 2/5\n",
      "1146/1146 [==============================] - 3s 3ms/step - loss: 2.0605 - accuracy: 0.3834 - val_loss: 1.9302 - val_accuracy: 0.4716\n",
      "Epoch 3/5\n",
      "1146/1146 [==============================] - 2s 2ms/step - loss: 1.7952 - accuracy: 0.5110 - val_loss: 1.6236 - val_accuracy: 0.5678\n",
      "Epoch 4/5\n",
      "1146/1146 [==============================] - 3s 2ms/step - loss: 1.4821 - accuracy: 0.6094 - val_loss: 1.3178 - val_accuracy: 0.6656\n",
      "Epoch 5/5\n",
      "1146/1146 [==============================] - 2s 2ms/step - loss: 1.2082 - accuracy: 0.6943 - val_loss: 1.0827 - val_accuracy: 0.7328\n",
      "573/573 [==============================] - 1s 2ms/step - loss: 1.1025 - accuracy: 0.7210\n",
      "Epoch 1/5\n",
      "1146/1146 [==============================] - 5s 4ms/step - loss: 2.1401 - accuracy: 0.2628 - val_loss: 2.0005 - val_accuracy: 0.3810\n",
      "Epoch 2/5\n",
      "1146/1146 [==============================] - 5s 5ms/step - loss: 1.8269 - accuracy: 0.5078 - val_loss: 1.6618 - val_accuracy: 0.5834\n",
      "Epoch 3/5\n",
      "1146/1146 [==============================] - 5s 4ms/step - loss: 1.4805 - accuracy: 0.6570 - val_loss: 1.3183 - val_accuracy: 0.7034\n",
      "Epoch 4/5\n",
      "1146/1146 [==============================] - 5s 4ms/step - loss: 1.1679 - accuracy: 0.7469 - val_loss: 1.0410 - val_accuracy: 0.7670\n",
      "Epoch 5/5\n",
      "1146/1146 [==============================] - 8s 7ms/step - loss: 0.9384 - accuracy: 0.7904 - val_loss: 0.8532 - val_accuracy: 0.7998\n",
      "573/573 [==============================] - 2s 4ms/step - loss: 0.8743 - accuracy: 0.7971\n",
      "Epoch 1/5\n",
      "1146/1146 [==============================] - 10s 9ms/step - loss: 2.2430 - accuracy: 0.1549 - val_loss: 2.1272 - val_accuracy: 0.2588\n",
      "Epoch 2/5\n",
      "1146/1146 [==============================] - 7s 6ms/step - loss: 2.0081 - accuracy: 0.3737 - val_loss: 1.8562 - val_accuracy: 0.5166\n",
      "Epoch 3/5\n",
      "1146/1146 [==============================] - 7s 6ms/step - loss: 1.7074 - accuracy: 0.5754 - val_loss: 1.5175 - val_accuracy: 0.6544\n",
      "Epoch 4/5\n",
      "1146/1146 [==============================] - 6s 5ms/step - loss: 1.3675 - accuracy: 0.6866 - val_loss: 1.1848 - val_accuracy: 0.7446\n",
      "Epoch 5/5\n",
      "1146/1146 [==============================] - 6s 5ms/step - loss: 1.0772 - accuracy: 0.7614 - val_loss: 0.9406 - val_accuracy: 0.8002\n",
      "573/573 [==============================] - 3s 6ms/step - loss: 0.9418 - accuracy: 0.8011\n",
      "Epoch 1/5\n",
      "1146/1146 [==============================] - 4s 4ms/step - loss: 2.2791 - accuracy: 0.1289 - val_loss: 2.2047 - val_accuracy: 0.1922\n",
      "Epoch 2/5\n",
      "1146/1146 [==============================] - 5s 4ms/step - loss: 2.1270 - accuracy: 0.2687 - val_loss: 2.0456 - val_accuracy: 0.3344\n",
      "Epoch 3/5\n",
      "1146/1146 [==============================] - 5s 4ms/step - loss: 1.9467 - accuracy: 0.4205 - val_loss: 1.8388 - val_accuracy: 0.4916\n",
      "Epoch 4/5\n",
      "1146/1146 [==============================] - 6s 5ms/step - loss: 1.7254 - accuracy: 0.5758 - val_loss: 1.6012 - val_accuracy: 0.6316\n",
      "Epoch 5/5\n",
      "1146/1146 [==============================] - 4s 3ms/step - loss: 1.4884 - accuracy: 0.6797 - val_loss: 1.3639 - val_accuracy: 0.7118\n",
      "573/573 [==============================] - 2s 4ms/step - loss: 1.3688 - accuracy: 0.7054\n",
      "Epoch 1/5\n",
      "   1/1146 [..............................] - ETA: 0s - loss: 2.3210 - accuracy: 0.1562WARNING:tensorflow:Callbacks method `on_train_batch_begin` is slow compared to the batch time (batch time: 0.0024s vs `on_train_batch_begin` time: 0.0050s). Check your callbacks.\n"
     ]
    },
    {
     "name": "stdout",
     "output_type": "stream",
     "text": [
      "WARNING:tensorflow:Callbacks method `on_train_batch_end` is slow compared to the batch time (batch time: 0.0024s vs `on_train_batch_end` time: 0.0058s). Check your callbacks.\n",
      "1146/1146 [==============================] - 5s 4ms/step - loss: 2.2038 - accuracy: 0.2197 - val_loss: 2.1171 - val_accuracy: 0.3496\n",
      "Epoch 2/5\n",
      "1146/1146 [==============================] - 5s 4ms/step - loss: 2.0223 - accuracy: 0.4236 - val_loss: 1.9157 - val_accuracy: 0.4986\n",
      "Epoch 3/5\n",
      "1146/1146 [==============================] - 4s 3ms/step - loss: 1.8009 - accuracy: 0.5443 - val_loss: 1.6770 - val_accuracy: 0.5970\n",
      "Epoch 4/5\n",
      "1146/1146 [==============================] - 5s 4ms/step - loss: 1.5583 - accuracy: 0.6313 - val_loss: 1.4319 - val_accuracy: 0.6732\n",
      "Epoch 5/5\n",
      "1146/1146 [==============================] - 4s 3ms/step - loss: 1.3248 - accuracy: 0.6963 - val_loss: 1.2111 - val_accuracy: 0.7250\n",
      "573/573 [==============================] - 2s 3ms/step - loss: 1.2381 - accuracy: 0.7088: 0s - loss: 1.2498 - accuracy:  - ETA: 0s - los\n",
      "Epoch 1/5\n",
      "1146/1146 [==============================] - 5s 5ms/step - loss: 2.2679 - accuracy: 0.1250 - val_loss: 2.1983 - val_accuracy: 0.2074\n",
      "Epoch 2/5\n",
      "1146/1146 [==============================] - 4s 3ms/step - loss: 2.1271 - accuracy: 0.3086 - val_loss: 2.0473 - val_accuracy: 0.4220\n",
      "Epoch 3/5\n",
      "1146/1146 [==============================] - 4s 4ms/step - loss: 1.9579 - accuracy: 0.4717 - val_loss: 1.8555 - val_accuracy: 0.5486\n",
      "Epoch 4/5\n",
      "1146/1146 [==============================] - 4s 3ms/step - loss: 1.7529 - accuracy: 0.5783 - val_loss: 1.6345 - val_accuracy: 0.6292\n",
      "Epoch 5/5\n",
      "1146/1146 [==============================] - 4s 4ms/step - loss: 1.5339 - accuracy: 0.6424 - val_loss: 1.4156 - val_accuracy: 0.6822\n",
      "573/573 [==============================] - 2s 3ms/step - loss: 1.4172 - accuracy: 0.6814\n",
      "Epoch 1/5\n",
      "1146/1146 [==============================] - 3s 3ms/step - loss: 2.0703 - accuracy: 0.3537 - val_loss: 1.7490 - val_accuracy: 0.6186\n",
      "Epoch 2/5\n",
      "1146/1146 [==============================] - 3s 2ms/step - loss: 1.3901 - accuracy: 0.6870 - val_loss: 1.0597 - val_accuracy: 0.7540\n",
      "Epoch 3/5\n",
      "1146/1146 [==============================] - 2s 2ms/step - loss: 0.8927 - accuracy: 0.7791 - val_loss: 0.7453 - val_accuracy: 0.8112\n",
      "Epoch 4/5\n",
      "1146/1146 [==============================] - 3s 3ms/step - loss: 0.6744 - accuracy: 0.8243 - val_loss: 0.5960 - val_accuracy: 0.8432\n",
      "Epoch 5/5\n",
      "1146/1146 [==============================] - 3s 3ms/step - loss: 0.5604 - accuracy: 0.8492 - val_loss: 0.5082 - val_accuracy: 0.8658\n",
      "573/573 [==============================] - 2s 3ms/step - loss: 0.5329 - accuracy: 0.8564\n",
      "Epoch 1/5\n",
      "1146/1146 [==============================] - 4s 3ms/step - loss: 2.0285 - accuracy: 0.3257 - val_loss: 1.6832 - val_accuracy: 0.5566\n",
      "Epoch 2/5\n",
      "1146/1146 [==============================] - 3s 3ms/step - loss: 1.3225 - accuracy: 0.7078 - val_loss: 0.9971 - val_accuracy: 0.7878\n",
      "Epoch 3/5\n",
      "1146/1146 [==============================] - 2s 2ms/step - loss: 0.8280 - accuracy: 0.8112 - val_loss: 0.6833 - val_accuracy: 0.8346\n",
      "Epoch 4/5\n",
      "1146/1146 [==============================] - 3s 2ms/step - loss: 0.6221 - accuracy: 0.8435 - val_loss: 0.5490 - val_accuracy: 0.8574\n",
      "Epoch 5/5\n",
      "1146/1146 [==============================] - 3s 3ms/step - loss: 0.5262 - accuracy: 0.8597 - val_loss: 0.4787 - val_accuracy: 0.8704\n",
      "573/573 [==============================] - 1s 2ms/step - loss: 0.5138 - accuracy: 0.8630\n",
      "Epoch 1/5\n",
      "1146/1146 [==============================] - 2s 2ms/step - loss: 1.9515 - accuracy: 0.3984 - val_loss: 1.5289 - val_accuracy: 0.6518\n",
      "Epoch 2/5\n",
      "1146/1146 [==============================] - 2s 2ms/step - loss: 1.2121 - accuracy: 0.7269 - val_loss: 0.9242 - val_accuracy: 0.7876\n",
      "Epoch 3/5\n",
      "1146/1146 [==============================] - 2s 2ms/step - loss: 0.8020 - accuracy: 0.8101 - val_loss: 0.6692 - val_accuracy: 0.8342\n",
      "Epoch 4/5\n",
      "1146/1146 [==============================] - 5s 4ms/step - loss: 0.6204 - accuracy: 0.8454 - val_loss: 0.5450 - val_accuracy: 0.8662\n",
      "Epoch 5/5\n",
      "1146/1146 [==============================] - 3s 2ms/step - loss: 0.5243 - accuracy: 0.8649 - val_loss: 0.4718 - val_accuracy: 0.8790\n",
      "573/573 [==============================] - 1s 2ms/step - loss: 0.4746 - accuracy: 0.8759\n"
     ]
    },
    {
     "name": "stderr",
     "output_type": "stream",
     "text": [
      "[Parallel(n_jobs=1)]: Done  15 out of  15 | elapsed:  5.4min finished\n"
     ]
    },
    {
     "name": "stdout",
     "output_type": "stream",
     "text": [
      "Epoch 1/5\n",
      "1719/1719 [==============================] - 4s 2ms/step - loss: 0.5099 - accuracy: 0.8556 - val_loss: 0.2599 - val_accuracy: 0.9280\n",
      "Epoch 2/5\n",
      "1719/1719 [==============================] - 4s 2ms/step - loss: 0.2442 - accuracy: 0.9283 - val_loss: 0.1953 - val_accuracy: 0.9428\n",
      "Epoch 3/5\n",
      "1719/1719 [==============================] - 5s 3ms/step - loss: 0.1922 - accuracy: 0.9434 - val_loss: 0.1596 - val_accuracy: 0.9552\n",
      "Epoch 4/5\n",
      "1719/1719 [==============================] - 3s 2ms/step - loss: 0.1603 - accuracy: 0.9522 - val_loss: 0.1492 - val_accuracy: 0.9580\n",
      "Epoch 5/5\n",
      "1719/1719 [==============================] - 4s 2ms/step - loss: 0.1380 - accuracy: 0.9596 - val_loss: 0.1291 - val_accuracy: 0.9638\n"
     ]
    },
    {
     "data": {
      "text/plain": [
       "RandomizedSearchCV(cv=3, error_score='raise-deprecating',\n",
       "                   estimator=<tensorflow.python.keras.wrappers.scikit_learn.KerasClassifier object at 0x158bd6a58>,\n",
       "                   iid='warn', n_iter=5, n_jobs=None,\n",
       "                   param_distributions={'learning_rate': <scipy.stats._distn_infrastructure.rv_frozen object at 0x158c923c8>},\n",
       "                   pre_dispatch='2*n_jobs', random_state=None, refit=True,\n",
       "                   return_train_score=False, scoring=None, verbose=1)"
      ]
     },
     "execution_count": 106,
     "metadata": {},
     "output_type": "execute_result"
    }
   ],
   "source": [
    "param_distribs = {\n",
    "    \"learning_rate\": reciprocal(3e-4, 3e-2),\n",
    "}\n",
    "\n",
    "rnd_search_cv = RandomizedSearchCV(keras_clf, param_distribs, n_iter=5, cv=3, verbose=1)\n",
    "rnd_search_cv.fit(X_train, y_train, epochs=5,\n",
    "                  validation_data=(X_valid, y_valid),\n",
    "                  callbacks=[keras.callbacks.EarlyStopping(patience=10)])"
   ]
  },
  {
   "cell_type": "code",
   "execution_count": 107,
   "metadata": {},
   "outputs": [
    {
     "data": {
      "text/plain": [
       "{'learning_rate': 0.025516118524853727}"
      ]
     },
     "execution_count": 107,
     "metadata": {},
     "output_type": "execute_result"
    }
   ],
   "source": [
    "rnd_search_cv.best_params_"
   ]
  },
  {
   "cell_type": "code",
   "execution_count": 108,
   "metadata": {},
   "outputs": [
    {
     "data": {
      "text/plain": [
       "0.9449636370929805"
      ]
     },
     "execution_count": 108,
     "metadata": {},
     "output_type": "execute_result"
    }
   ],
   "source": [
    "rnd_search_cv.best_score_"
   ]
  },
  {
   "cell_type": "markdown",
   "metadata": {},
   "source": [
    "optimum found here didn't train that deep of models nor did it perform an extensive search on each! would want to expand that search to settle on a true optimum. nonetheless, it comes close to what was discovered with a more thorough search in the solutions! https://github.com/ageron/handson-ml2/blob/master/10_neural_nets_with_keras.ipynb"
   ]
  }
 ],
 "metadata": {
  "kernelspec": {
   "display_name": "Python 3",
   "language": "python",
   "name": "python3"
  },
  "language_info": {
   "codemirror_mode": {
    "name": "ipython",
    "version": 3
   },
   "file_extension": ".py",
   "mimetype": "text/x-python",
   "name": "python",
   "nbconvert_exporter": "python",
   "pygments_lexer": "ipython3",
   "version": "3.7.1"
  }
 },
 "nbformat": 4,
 "nbformat_minor": 4
}
