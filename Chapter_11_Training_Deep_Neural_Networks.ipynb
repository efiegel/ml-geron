{
 "cells": [
  {
   "cell_type": "markdown",
   "metadata": {},
   "source": [
    "# The Vanishing/Exploding Gradients Problems\n",
    "This problem occurs when information is lost during backpropagation, i.e. gradients dwindle to nothing or explode as the model diverges. This makes it very difficult to train low layers, as their weights are not being updated properly.\n",
    "\n",
    "This can generally be solved using a better activation function or initialization (or combination thereof).\n",
    "\n",
    "## Nonsaturating activation functions\n",
    "Leaky ReLU implementation - create a leaky ReLU layer just after the layer you want to apply it to"
   ]
  },
  {
   "cell_type": "code",
   "execution_count": 1,
   "metadata": {},
   "outputs": [],
   "source": [
    "import tensorflow as tf\n",
    "from tensorflow import keras\n",
    "\n",
    "model = keras.models.Sequential([\n",
    "    keras.layers.Dense(10, kernel_initializer=\"he_normal\"),\n",
    "    keras.layers.LeakyReLU(alpha=0.2)\n",
    "])"
   ]
  },
  {
   "cell_type": "markdown",
   "metadata": {},
   "source": [
    "SELU activation implementation"
   ]
  },
  {
   "cell_type": "code",
   "execution_count": 2,
   "metadata": {},
   "outputs": [],
   "source": [
    "layer = keras.layers.Dense(10, activation=\"selu\",\n",
    "                           kernel_initializer=\"lecun_normal\")"
   ]
  },
  {
   "cell_type": "markdown",
   "metadata": {},
   "source": [
    "## Batch Normalization\n",
    "Adds an operation in teh model just before or after the activation function of each hidden layer: zero-center and normalize each input, then scale and shift the result using two new parameter vectors (one for scaling and one for shifting). Lets the model learn the optimal scale and mean of each layer's inputs.\n",
    "\n",
    "Batch normization has become ubiquitous.\n",
    "\n",
    "### Implementing batch normalization with keras\n",
    "This model adds a batch normalization layer before each hidden layer. That's it!"
   ]
  },
  {
   "cell_type": "code",
   "execution_count": 3,
   "metadata": {},
   "outputs": [],
   "source": [
    "model = keras.models.Sequential([\n",
    "    keras.layers.Flatten(input_shape=[28, 28]),\n",
    "    keras.layers.BatchNormalization(),\n",
    "    keras.layers.Dense(300, activation=\"elu\", kernel_initializer=\"he_normal\"),\n",
    "    keras.layers.BatchNormalization(),\n",
    "    keras.layers.Dense(100, activation=\"elu\", kernel_initializer=\"he_normal\"),\n",
    "    keras.layers.BatchNormalization(),\n",
    "    keras.layers.Dense(10, activation=\"softmax\")\n",
    "])"
   ]
  },
  {
   "cell_type": "code",
   "execution_count": 4,
   "metadata": {
    "scrolled": false
   },
   "outputs": [
    {
     "name": "stdout",
     "output_type": "stream",
     "text": [
      "Model: \"sequential_1\"\n",
      "_________________________________________________________________\n",
      "Layer (type)                 Output Shape              Param #   \n",
      "=================================================================\n",
      "flatten (Flatten)            (None, 784)               0         \n",
      "_________________________________________________________________\n",
      "batch_normalization (BatchNo (None, 784)               3136      \n",
      "_________________________________________________________________\n",
      "dense_2 (Dense)              (None, 300)               235500    \n",
      "_________________________________________________________________\n",
      "batch_normalization_1 (Batch (None, 300)               1200      \n",
      "_________________________________________________________________\n",
      "dense_3 (Dense)              (None, 100)               30100     \n",
      "_________________________________________________________________\n",
      "batch_normalization_2 (Batch (None, 100)               400       \n",
      "_________________________________________________________________\n",
      "dense_4 (Dense)              (None, 10)                1010      \n",
      "=================================================================\n",
      "Total params: 271,346\n",
      "Trainable params: 268,978\n",
      "Non-trainable params: 2,368\n",
      "_________________________________________________________________\n"
     ]
    }
   ],
   "source": [
    "model.summary()"
   ]
  },
  {
   "cell_type": "markdown",
   "metadata": {},
   "source": [
    "let's try it on mnist"
   ]
  },
  {
   "cell_type": "code",
   "execution_count": 5,
   "metadata": {},
   "outputs": [
    {
     "data": {
      "text/plain": [
       "(60000, 28, 28)"
      ]
     },
     "execution_count": 5,
     "metadata": {},
     "output_type": "execute_result"
    }
   ],
   "source": [
    "mnist = keras.datasets.mnist\n",
    "(X_train_full, y_train_full), (X_test, y_test) = mnist.load_data()\n",
    "X_train_full.shape"
   ]
  },
  {
   "cell_type": "code",
   "execution_count": 6,
   "metadata": {},
   "outputs": [],
   "source": [
    "X_valid, X_train = X_train_full[:5000] / 255.0, X_train_full[5000:] / 255.0\n",
    "y_valid, y_train = y_train_full[:5000], y_train_full[5000:]"
   ]
  },
  {
   "cell_type": "code",
   "execution_count": 7,
   "metadata": {},
   "outputs": [],
   "source": [
    "model = keras.models.Sequential([\n",
    "    keras.layers.Flatten(input_shape=[28,28]),\n",
    "    keras.layers.BatchNormalization(),\n",
    "    keras.layers.Dense(200, activation=\"relu\"),\n",
    "    keras.layers.BatchNormalization(),\n",
    "    keras.layers.Dense(100, activation=\"relu\"),\n",
    "    keras.layers.BatchNormalization(),\n",
    "    keras.layers.Dense(50, activation=\"relu\"),\n",
    "    keras.layers.BatchNormalization(),\n",
    "    keras.layers.Dense(10, activation=\"softmax\")\n",
    "])"
   ]
  },
  {
   "cell_type": "code",
   "execution_count": 8,
   "metadata": {},
   "outputs": [
    {
     "name": "stdout",
     "output_type": "stream",
     "text": [
      "Model: \"sequential_2\"\n",
      "_________________________________________________________________\n",
      "Layer (type)                 Output Shape              Param #   \n",
      "=================================================================\n",
      "flatten_1 (Flatten)          (None, 784)               0         \n",
      "_________________________________________________________________\n",
      "batch_normalization_3 (Batch (None, 784)               3136      \n",
      "_________________________________________________________________\n",
      "dense_5 (Dense)              (None, 200)               157000    \n",
      "_________________________________________________________________\n",
      "batch_normalization_4 (Batch (None, 200)               800       \n",
      "_________________________________________________________________\n",
      "dense_6 (Dense)              (None, 100)               20100     \n",
      "_________________________________________________________________\n",
      "batch_normalization_5 (Batch (None, 100)               400       \n",
      "_________________________________________________________________\n",
      "dense_7 (Dense)              (None, 50)                5050      \n",
      "_________________________________________________________________\n",
      "batch_normalization_6 (Batch (None, 50)                200       \n",
      "_________________________________________________________________\n",
      "dense_8 (Dense)              (None, 10)                510       \n",
      "=================================================================\n",
      "Total params: 187,196\n",
      "Trainable params: 184,928\n",
      "Non-trainable params: 2,268\n",
      "_________________________________________________________________\n"
     ]
    }
   ],
   "source": [
    "model.summary()"
   ]
  },
  {
   "cell_type": "code",
   "execution_count": 9,
   "metadata": {},
   "outputs": [],
   "source": [
    "model.compile(loss=\"sparse_categorical_crossentropy\",\n",
    "              optimizer=\"sgd\",\n",
    "              metrics=[\"accuracy\"])"
   ]
  },
  {
   "cell_type": "code",
   "execution_count": 10,
   "metadata": {},
   "outputs": [
    {
     "name": "stdout",
     "output_type": "stream",
     "text": [
      "Epoch 1/10\n",
      "1719/1719 [==============================] - 8s 5ms/step - loss: 0.4269 - accuracy: 0.8758 - val_loss: 0.1960 - val_accuracy: 0.9428\n",
      "Epoch 2/10\n",
      "1719/1719 [==============================] - 9s 5ms/step - loss: 0.2061 - accuracy: 0.9387 - val_loss: 0.1459 - val_accuracy: 0.9544\n",
      "Epoch 3/10\n",
      "1719/1719 [==============================] - 9s 5ms/step - loss: 0.1556 - accuracy: 0.9539 - val_loss: 0.1276 - val_accuracy: 0.9600\n",
      "Epoch 4/10\n",
      "1719/1719 [==============================] - 9s 5ms/step - loss: 0.1296 - accuracy: 0.9610 - val_loss: 0.1134 - val_accuracy: 0.9662\n",
      "Epoch 5/10\n",
      "1719/1719 [==============================] - 9s 5ms/step - loss: 0.1116 - accuracy: 0.9656 - val_loss: 0.1073 - val_accuracy: 0.9664\n",
      "Epoch 6/10\n",
      "1719/1719 [==============================] - 8s 4ms/step - loss: 0.0943 - accuracy: 0.9714 - val_loss: 0.1047 - val_accuracy: 0.9690\n",
      "Epoch 7/10\n",
      "1719/1719 [==============================] - 8s 5ms/step - loss: 0.0839 - accuracy: 0.9745 - val_loss: 0.0997 - val_accuracy: 0.9720\n",
      "Epoch 8/10\n",
      "1719/1719 [==============================] - 7s 4ms/step - loss: 0.0745 - accuracy: 0.9765 - val_loss: 0.1007 - val_accuracy: 0.9694\n",
      "Epoch 9/10\n",
      "1719/1719 [==============================] - 8s 4ms/step - loss: 0.0670 - accuracy: 0.9785 - val_loss: 0.0959 - val_accuracy: 0.9722\n",
      "Epoch 10/10\n",
      "1719/1719 [==============================] - 8s 4ms/step - loss: 0.0600 - accuracy: 0.9815 - val_loss: 0.0965 - val_accuracy: 0.9714\n"
     ]
    }
   ],
   "source": [
    "history = model.fit(X_train, y_train, epochs=10,\n",
    "                    validation_data=(X_valid, y_valid))"
   ]
  },
  {
   "cell_type": "code",
   "execution_count": 11,
   "metadata": {
    "scrolled": true
   },
   "outputs": [
    {
     "data": {
      "image/png": "[encoded data removed]",
      "text/plain": [
       "<Figure size 1080x360 with 1 Axes>"
      ]
     },
     "metadata": {
      "needs_background": "light"
     },
     "output_type": "display_data"
    }
   ],
   "source": [
    "import pandas as pd\n",
    "import matplotlib.pyplot as plt\n",
    "pd.DataFrame(history.history).plot(figsize=(15, 5))\n",
    "plt.grid(True)\n",
    "plt.gca().set_ylim(0,1)\n",
    "plt.show()"
   ]
  },
  {
   "cell_type": "markdown",
   "metadata": {},
   "source": [
    "the results here are similar to what we saw in chapter 10 without batch norm, but we got to them faster! this is what we expected. if early stopping were implemented here, we should have seen a net drop in wall time."
   ]
  },
  {
   "cell_type": "markdown",
   "metadata": {},
   "source": [
    "## Gradient Clipping\n",
    "Mitigate exploding gradients by limiting gradients during backpropagation so that they don't exceed a threshold. Most often used in recurrent NNs, since batch normalization is tricky with RNNs."
   ]
  },
  {
   "cell_type": "code",
   "execution_count": 12,
   "metadata": {},
   "outputs": [],
   "source": [
    "optimizer = keras.optimizers.SGD(clipvalue=1.0)\n",
    "model.compile(loss=\"mse\", optimizer=optimizer)"
   ]
  },
  {
   "cell_type": "markdown",
   "metadata": {},
   "source": [
    "can also use ```clipnorm``` instead of ```clipvalue``` to ensure that clipping does not change the direction of the gradient vector."
   ]
  },
  {
   "cell_type": "markdown",
   "metadata": {},
   "source": [
    "# Reusing Pretrained Layers\n",
    "## Transfer learning with Keras\n",
    "Example trains model A on a subset of mnist fashion (all except sandals and shirts). Uses model A to start model B."
   ]
  },
  {
   "cell_type": "code",
   "execution_count": 13,
   "metadata": {},
   "outputs": [],
   "source": [
    "import numpy as np\n",
    "\n",
    "def split_dataset(X, y):\n",
    "    y_5_or_6 = (y == 5) | (y == 6) # sandals or shirts\n",
    "    y_A = y[~y_5_or_6]\n",
    "    y_A[y_A > 6] -= 2 # class indices 7, 8, 9 should be moved to 5, 6, 7\n",
    "    y_B = (y[y_5_or_6] == 6).astype(np.float32) # binary classification task: is it a shirt (class 6)?\n",
    "    return ((X[~y_5_or_6], y_A),\n",
    "            (X[y_5_or_6], y_B))\n",
    "\n",
    "(X_train_A, y_train_A), (X_train_B, y_train_B) = split_dataset(X_train, y_train)\n",
    "(X_valid_A, y_valid_A), (X_valid_B, y_valid_B) = split_dataset(X_valid, y_valid)\n",
    "(X_test_A, y_test_A), (X_test_B, y_test_B) = split_dataset(X_test, y_test)\n",
    "X_train_B = X_train_B[:200]\n",
    "y_train_B = y_train_B[:200]"
   ]
  },
  {
   "cell_type": "code",
   "execution_count": 14,
   "metadata": {},
   "outputs": [],
   "source": [
    "model_A = keras.models.Sequential()\n",
    "model_A.add(keras.layers.Flatten(input_shape=[28, 28]))\n",
    "for n_hidden in (300, 100, 50, 50, 50):\n",
    "    model_A.add(keras.layers.Dense(n_hidden, activation=\"selu\"))\n",
    "model_A.add(keras.layers.Dense(8, activation=\"softmax\"))"
   ]
  },
  {
   "cell_type": "code",
   "execution_count": 15,
   "metadata": {},
   "outputs": [],
   "source": [
    "model_A.compile(loss=\"sparse_categorical_crossentropy\",\n",
    "                optimizer=keras.optimizers.SGD(lr=1e-3),\n",
    "                metrics=[\"accuracy\"])"
   ]
  },
  {
   "cell_type": "code",
   "execution_count": 16,
   "metadata": {},
   "outputs": [
    {
     "name": "stdout",
     "output_type": "stream",
     "text": [
      "Epoch 1/20\n",
      "1394/1394 [==============================] - 6s 4ms/step - loss: 0.6960 - accuracy: 0.7886 - val_loss: 0.3815 - val_accuracy: 0.9011\n",
      "Epoch 2/20\n",
      "1394/1394 [==============================] - 5s 4ms/step - loss: 0.3493 - accuracy: 0.9004 - val_loss: 0.2907 - val_accuracy: 0.9188\n",
      "Epoch 3/20\n",
      "1394/1394 [==============================] - 5s 4ms/step - loss: 0.2910 - accuracy: 0.9152 - val_loss: 0.2543 - val_accuracy: 0.9294\n",
      "Epoch 4/20\n",
      "1394/1394 [==============================] - 6s 4ms/step - loss: 0.2616 - accuracy: 0.9242 - val_loss: 0.2331 - val_accuracy: 0.9355\n",
      "Epoch 5/20\n",
      "1394/1394 [==============================] - 5s 4ms/step - loss: 0.2423 - accuracy: 0.9293 - val_loss: 0.2195 - val_accuracy: 0.9387\n",
      "Epoch 6/20\n",
      "1394/1394 [==============================] - 6s 4ms/step - loss: 0.2283 - accuracy: 0.9333 - val_loss: 0.2083 - val_accuracy: 0.9410\n",
      "Epoch 7/20\n",
      "1394/1394 [==============================] - 7s 5ms/step - loss: 0.2168 - accuracy: 0.9371 - val_loss: 0.2000 - val_accuracy: 0.9449\n",
      "Epoch 8/20\n",
      "1394/1394 [==============================] - 6s 4ms/step - loss: 0.2075 - accuracy: 0.9392 - val_loss: 0.1931 - val_accuracy: 0.9474\n",
      "Epoch 9/20\n",
      "1394/1394 [==============================] - 6s 4ms/step - loss: 0.1992 - accuracy: 0.9417 - val_loss: 0.1874 - val_accuracy: 0.9496\n",
      "Epoch 10/20\n",
      "1394/1394 [==============================] - 6s 4ms/step - loss: 0.1919 - accuracy: 0.9442 - val_loss: 0.1821 - val_accuracy: 0.9491\n",
      "Epoch 11/20\n",
      "1394/1394 [==============================] - 6s 4ms/step - loss: 0.1854 - accuracy: 0.9459 - val_loss: 0.1771 - val_accuracy: 0.9525\n",
      "Epoch 12/20\n",
      "1394/1394 [==============================] - 6s 4ms/step - loss: 0.1795 - accuracy: 0.9474 - val_loss: 0.1726 - val_accuracy: 0.9518\n",
      "Epoch 13/20\n",
      "1394/1394 [==============================] - 6s 4ms/step - loss: 0.1736 - accuracy: 0.9497 - val_loss: 0.1692 - val_accuracy: 0.9530\n",
      "Epoch 14/20\n",
      "1394/1394 [==============================] - 6s 4ms/step - loss: 0.1685 - accuracy: 0.9507 - val_loss: 0.1645 - val_accuracy: 0.9540\n",
      "Epoch 15/20\n",
      "1394/1394 [==============================] - 6s 4ms/step - loss: 0.1635 - accuracy: 0.9525 - val_loss: 0.1603 - val_accuracy: 0.9542\n",
      "Epoch 16/20\n",
      "1394/1394 [==============================] - 6s 4ms/step - loss: 0.1589 - accuracy: 0.9534 - val_loss: 0.1567 - val_accuracy: 0.9552\n",
      "Epoch 17/20\n",
      "1394/1394 [==============================] - 8s 6ms/step - loss: 0.1544 - accuracy: 0.9550 - val_loss: 0.1546 - val_accuracy: 0.9557\n",
      "Epoch 18/20\n",
      "1394/1394 [==============================] - 7s 5ms/step - loss: 0.1504 - accuracy: 0.9556 - val_loss: 0.1515 - val_accuracy: 0.9567\n",
      "Epoch 19/20\n",
      "1394/1394 [==============================] - 6s 4ms/step - loss: 0.1462 - accuracy: 0.9576 - val_loss: 0.1477 - val_accuracy: 0.9577\n",
      "Epoch 20/20\n",
      "1394/1394 [==============================] - 6s 4ms/step - loss: 0.1424 - accuracy: 0.9582 - val_loss: 0.1460 - val_accuracy: 0.9587\n"
     ]
    }
   ],
   "source": [
    "history = model_A.fit(X_train_A, y_train_A, epochs=20,\n",
    "                    validation_data=(X_valid_A, y_valid_A))"
   ]
  },
  {
   "cell_type": "code",
   "execution_count": 17,
   "metadata": {},
   "outputs": [],
   "source": [
    "model_A.save(\"my_model_A.h5\")"
   ]
  },
  {
   "cell_type": "code",
   "execution_count": 18,
   "metadata": {},
   "outputs": [],
   "source": [
    "model_B_on_A = keras.models.Sequential(model_A.layers[:-1])\n",
    "model_B_on_A.add(keras.layers.Dense(1, activation=\"sigmoid\")) # looking for binary classification (shirt vs sandal)"
   ]
  },
  {
   "cell_type": "markdown",
   "metadata": {},
   "source": [
    "note that models A and B now share some layers! training model B will impact model A. we need to clone model A to retain it's original weights. (we also have model A saved, so that version will certainly still remain the same too)"
   ]
  },
  {
   "cell_type": "code",
   "execution_count": 19,
   "metadata": {},
   "outputs": [],
   "source": [
    "model_A_clone = keras.models.clone_model(model_A)\n",
    "model_A_clone.set_weights(model_A.get_weights())"
   ]
  },
  {
   "cell_type": "markdown",
   "metadata": {},
   "source": [
    "when we begin to train model B, the new layer we added will possibly ruin the good layers from model A! since it's weights were randomly initialized, the gradients updated there will be large and could be detrimental lower in the network. let's freeze the lower layers to prevent this."
   ]
  },
  {
   "cell_type": "code",
   "execution_count": 20,
   "metadata": {},
   "outputs": [],
   "source": [
    "for layer in model_B_on_A.layers[:-1]:\n",
    "    layer.trainable = False"
   ]
  },
  {
   "cell_type": "code",
   "execution_count": 21,
   "metadata": {},
   "outputs": [],
   "source": [
    "model_B_on_A.compile(loss=\"binary_crossentropy\", optimizer=\"sgd\",\n",
    "                     metrics=[\"accuracy\"])"
   ]
  },
  {
   "cell_type": "code",
   "execution_count": 22,
   "metadata": {},
   "outputs": [
    {
     "name": "stdout",
     "output_type": "stream",
     "text": [
      "Epoch 1/4\n",
      "7/7 [==============================] - 0s 36ms/step - loss: 1.1619 - accuracy: 0.2500 - val_loss: 0.8981 - val_accuracy: 0.4374\n",
      "Epoch 2/4\n",
      "7/7 [==============================] - 0s 13ms/step - loss: 0.8353 - accuracy: 0.4750 - val_loss: 0.7179 - val_accuracy: 0.6107\n",
      "Epoch 3/4\n",
      "7/7 [==============================] - 0s 16ms/step - loss: 0.6744 - accuracy: 0.6400 - val_loss: 0.6138 - val_accuracy: 0.6770\n",
      "Epoch 4/4\n",
      "7/7 [==============================] - 0s 14ms/step - loss: 0.5794 - accuracy: 0.6800 - val_loss: 0.5250 - val_accuracy: 0.7401\n"
     ]
    }
   ],
   "source": [
    "history = model_B_on_A.fit(X_train_B, y_train_B, epochs=4,\n",
    "                           validation_data=(X_valid_B, y_valid_B))"
   ]
  },
  {
   "cell_type": "markdown",
   "metadata": {},
   "source": [
    "now allow all layers to be trained and run for more epochs!"
   ]
  },
  {
   "cell_type": "code",
   "execution_count": 23,
   "metadata": {},
   "outputs": [],
   "source": [
    "for layer in model_B_on_A.layers[:-1]:\n",
    "    layer.trainable = True"
   ]
  },
  {
   "cell_type": "code",
   "execution_count": 24,
   "metadata": {},
   "outputs": [],
   "source": [
    "optimizer = keras.optimizers.SGD(lr=1e-4)\n",
    "model_B_on_A.compile(loss=\"binary_crossentropy\", optimizer=optimizer,\n",
    "                     metrics=[\"accuracy\"])"
   ]
  },
  {
   "cell_type": "code",
   "execution_count": 25,
   "metadata": {},
   "outputs": [
    {
     "name": "stdout",
     "output_type": "stream",
     "text": [
      "Epoch 1/16\n",
      "7/7 [==============================] - 0s 52ms/step - loss: 0.5211 - accuracy: 0.7150 - val_loss: 0.5209 - val_accuracy: 0.7444\n",
      "Epoch 2/16\n",
      "7/7 [==============================] - 0s 18ms/step - loss: 0.5161 - accuracy: 0.7150 - val_loss: 0.5168 - val_accuracy: 0.7497\n",
      "Epoch 3/16\n",
      "7/7 [==============================] - 0s 17ms/step - loss: 0.5113 - accuracy: 0.7150 - val_loss: 0.5125 - val_accuracy: 0.7508\n",
      "Epoch 4/16\n",
      "7/7 [==============================] - 0s 18ms/step - loss: 0.5067 - accuracy: 0.7250 - val_loss: 0.5088 - val_accuracy: 0.7572\n",
      "Epoch 5/16\n",
      "7/7 [==============================] - 0s 14ms/step - loss: 0.5020 - accuracy: 0.7350 - val_loss: 0.5048 - val_accuracy: 0.7594\n",
      "Epoch 6/16\n",
      "7/7 [==============================] - 0s 18ms/step - loss: 0.4974 - accuracy: 0.7550 - val_loss: 0.5013 - val_accuracy: 0.7594\n",
      "Epoch 7/16\n",
      "7/7 [==============================] - 0s 17ms/step - loss: 0.4931 - accuracy: 0.7650 - val_loss: 0.4974 - val_accuracy: 0.7636\n",
      "Epoch 8/16\n",
      "7/7 [==============================] - 0s 17ms/step - loss: 0.4886 - accuracy: 0.7750 - val_loss: 0.4939 - val_accuracy: 0.7668\n",
      "Epoch 9/16\n",
      "7/7 [==============================] - 0s 16ms/step - loss: 0.4843 - accuracy: 0.7800 - val_loss: 0.4899 - val_accuracy: 0.7722\n",
      "Epoch 10/16\n",
      "7/7 [==============================] - 0s 16ms/step - loss: 0.4799 - accuracy: 0.7800 - val_loss: 0.4864 - val_accuracy: 0.7765\n",
      "Epoch 11/16\n",
      "7/7 [==============================] - 0s 15ms/step - loss: 0.4758 - accuracy: 0.7850 - val_loss: 0.4827 - val_accuracy: 0.7786\n",
      "Epoch 12/16\n",
      "7/7 [==============================] - 0s 18ms/step - loss: 0.4715 - accuracy: 0.7900 - val_loss: 0.4790 - val_accuracy: 0.7786\n",
      "Epoch 13/16\n",
      "7/7 [==============================] - 0s 17ms/step - loss: 0.4673 - accuracy: 0.7950 - val_loss: 0.4762 - val_accuracy: 0.7797\n",
      "Epoch 14/16\n",
      "7/7 [==============================] - 0s 18ms/step - loss: 0.4635 - accuracy: 0.8000 - val_loss: 0.4727 - val_accuracy: 0.7829\n",
      "Epoch 15/16\n",
      "7/7 [==============================] - 0s 21ms/step - loss: 0.4594 - accuracy: 0.8200 - val_loss: 0.4694 - val_accuracy: 0.7893\n",
      "Epoch 16/16\n",
      "7/7 [==============================] - 0s 18ms/step - loss: 0.4556 - accuracy: 0.8250 - val_loss: 0.4661 - val_accuracy: 0.7925\n"
     ]
    }
   ],
   "source": [
    "history = model_B_on_A.fit(X_train_B, y_train_B, epochs=16,\n",
    "                           validation_data=(X_valid_B, y_valid_B))"
   ]
  },
  {
   "cell_type": "code",
   "execution_count": 26,
   "metadata": {},
   "outputs": [
    {
     "name": "stdout",
     "output_type": "stream",
     "text": [
      "58/58 [==============================] - 0s 4ms/step - loss: 17.3405 - accuracy: 0.3562\n"
     ]
    },
    {
     "data": {
      "text/plain": [
       "[17.340518951416016, 0.3562162220478058]"
      ]
     },
     "execution_count": 26,
     "metadata": {},
     "output_type": "execute_result"
    }
   ],
   "source": [
    "model_B_on_A.evaluate(X_test_B, y_test_B)"
   ]
  },
  {
   "cell_type": "markdown",
   "metadata": {},
   "source": [
    "didn't do well at all! if I used the same random seeds as the solutions, I would have gotten a noticeable improvement. the lesson here is that transfer learning isn't always feasible for the network at hand! the solutions note that small dense networks tend to not fare so well with transfer learning since their layers are more specific; compared to a deep CNN, the lower layers in the model above simply aren't as generalizeable or conducive to transfer learning!"
   ]
  }
 ],
 "metadata": {
  "kernelspec": {
   "display_name": "Python 3",
   "language": "python",
   "name": "python3"
  },
  "language_info": {
   "codemirror_mode": {
    "name": "ipython",
    "version": 3
   },
   "file_extension": ".py",
   "mimetype": "text/x-python",
   "name": "python",
   "nbconvert_exporter": "python",
   "pygments_lexer": "ipython3",
   "version": "3.7.1"
  }
 },
 "nbformat": 4,
 "nbformat_minor": 4
}
